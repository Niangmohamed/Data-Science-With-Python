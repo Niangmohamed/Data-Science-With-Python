{
 "cells": [
  {
   "cell_type": "markdown",
   "id": "de72528e",
   "metadata": {},
   "source": [
    "# Python: Introduction to data science"
   ]
  },
  {
   "cell_type": "markdown",
   "id": "64e4db24",
   "metadata": {},
   "source": [
    "**Author: Mohamed NIANG, ML Scientist**"
   ]
  },
  {
   "cell_type": "markdown",
   "id": "d9839f36",
   "metadata": {
    "toc": true
   },
   "source": [
    "<h1>Table of Contents<span class=\"tocSkip\"></span></h1>\n",
    "<div class=\"toc\"><ul class=\"toc-item\"><li><span><a href=\"#Presentation\" data-toc-modified-id=\"Presentation-1\"><span class=\"toc-item-num\">1&nbsp;&nbsp;</span>Presentation</a></span></li><li><span><a href=\"#Program-Content\" data-toc-modified-id=\"Program-Content-2\"><span class=\"toc-item-num\">2&nbsp;&nbsp;</span>Program Content</a></span></li></ul></div>"
   ]
  },
  {
   "cell_type": "markdown",
   "id": "ff6743f1",
   "metadata": {},
   "source": [
    "## Presentation"
   ]
  },
  {
   "cell_type": "markdown",
   "id": "81eadafc",
   "metadata": {},
   "source": [
    "This repository contains notebooks on introduction to data science with Python. In this course on Data Science with Python, you will discuss the Python libraries particularly used in Data Science: Numpy, Pandas and Matplotlib. You will successively review Numpy objects and Pandas objects to analyze real-world data. You will also learn how to choose the right type of graph to visualize the desired data. You will have the opportunity to apply the practice through several datasets."
   ]
  },
  {
   "cell_type": "markdown",
   "id": "6c86ac82",
   "metadata": {},
   "source": [
    "## Program Content"
   ]
  },
  {
   "cell_type": "markdown",
   "id": "71b45f29",
   "metadata": {},
   "source": [
    "1. The numpy library in Python\n",
    "2. Data analysis with numpy in Python\n",
    "3. The pandas library in Python\n",
    "4. Data manipulation in pandas with Python\n",
    "5. Handling missing values in Python\n",
    "6. Data analysis in Python\n",
    "7. Pandas series in Python\n",
    "8. Pandas dataframes in Python\n",
    "9. Intermediate data analysis in Python\n",
    "10. Matplotlib in Python\n",
    "11. Bar and scatter plots in Python\n",
    "12. Histograms and boxplots in Python"
   ]
  }
 ],
 "metadata": {
  "kernelspec": {
   "display_name": "Python 3 (ipykernel)",
   "language": "python",
   "name": "python3"
  },
  "language_info": {
   "codemirror_mode": {
    "name": "ipython",
    "version": 3
   },
   "file_extension": ".py",
   "mimetype": "text/x-python",
   "name": "python",
   "nbconvert_exporter": "python",
   "pygments_lexer": "ipython3",
   "version": "3.9.7"
  },
  "latex_envs": {
   "LaTeX_envs_menu_present": true,
   "autoclose": false,
   "autocomplete": true,
   "bibliofile": "biblio.bib",
   "cite_by": "apalike",
   "current_citInitial": 1,
   "eqLabelWithNumbers": true,
   "eqNumInitial": 1,
   "hotkeys": {
    "equation": "Ctrl-E",
    "itemize": "Ctrl-I"
   },
   "labels_anchors": false,
   "latex_user_defs": false,
   "report_style_numbering": false,
   "user_envs_cfg": false
  },
  "nbTranslate": {
   "displayLangs": [
    "*"
   ],
   "hotkey": "alt-t",
   "langInMainMenu": true,
   "sourceLang": "en",
   "targetLang": "fr",
   "useGoogleTranslate": true
  },
  "toc": {
   "base_numbering": 1,
   "nav_menu": {},
   "number_sections": true,
   "sideBar": true,
   "skip_h1_title": true,
   "title_cell": "Table of Contents",
   "title_sidebar": "Contents",
   "toc_cell": true,
   "toc_position": {},
   "toc_section_display": true,
   "toc_window_display": true
  }
 },
 "nbformat": 4,
 "nbformat_minor": 5
}
