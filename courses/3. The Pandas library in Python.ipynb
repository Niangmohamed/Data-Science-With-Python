{
 "cells": [
  {
   "cell_type": "markdown",
   "id": "b639f89d",
   "metadata": {},
   "source": [
    "# Python: The Pandas library"
   ]
  },
  {
   "cell_type": "markdown",
   "id": "7f6d3b34",
   "metadata": {},
   "source": [
    "**Goal**: master the use of the Pandas library to manipulate numerical data!"
   ]
  },
  {
   "cell_type": "markdown",
   "id": "7f9b523c",
   "metadata": {},
   "source": [
    "## Introduction to the Pandas library"
   ]
  },
  {
   "cell_type": "markdown",
   "id": "79a94158",
   "metadata": {},
   "source": [
    "In this chapter, we will talk about the ```Pandas``` library which is one of the most used libraries by data scientist and data analyst. Pandas uses a very efficient data structure called ```dataframe```, which is a numpy array of dimension 2. It offers a suite of methods to quickly explore, analyze and visualize data. The main advantage of Pandas over Numpy is that it can store different types of data in a dataframe. It also has a ```NaN``` object to qualify missing values which allows to quickly replace these values. And finally Pandas is more intuitive to extract a column."
   ]
  }
 ],
 "metadata": {
  "kernelspec": {
   "display_name": "Python 3 (ipykernel)",
   "language": "python",
   "name": "python3"
  },
  "language_info": {
   "codemirror_mode": {
    "name": "ipython",
    "version": 3
   },
   "file_extension": ".py",
   "mimetype": "text/x-python",
   "name": "python",
   "nbconvert_exporter": "python",
   "pygments_lexer": "ipython3",
   "version": "3.9.7"
  }
 },
 "nbformat": 4,
 "nbformat_minor": 5
}
