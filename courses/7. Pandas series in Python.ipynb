{
 "cells": [
  {
   "cell_type": "markdown",
   "id": "6cf20ed6",
   "metadata": {},
   "source": [
    "# Python: Pandas series"
   ]
  },
  {
   "cell_type": "markdown",
   "id": "70c49999",
   "metadata": {},
   "source": [
    "**Goal**: Structure and sort data with pandas series!"
   ]
  },
  {
   "cell_type": "markdown",
   "id": "aa35170d",
   "metadata": {
    "toc": true
   },
   "source": [
    "<h1>Table of Contents<span class=\"tocSkip\"></span></h1>\n",
    "<div class=\"toc\"><ul class=\"toc-item\"><li><span><a href=\"#Introduction\" data-toc-modified-id=\"Introduction-1\"><span class=\"toc-item-num\">1&nbsp;&nbsp;</span>Introduction</a></span></li><li><span><a href=\"#Indexing-using-integers\" data-toc-modified-id=\"Indexing-using-integers-2\"><span class=\"toc-item-num\">2&nbsp;&nbsp;</span>Indexing using integers</a></span></li><li><span><a href=\"#Customize-indexing\" data-toc-modified-id=\"Customize-indexing-3\"><span class=\"toc-item-num\">3&nbsp;&nbsp;</span>Customize indexing</a></span></li><li><span><a href=\"#Reindex-series-object\" data-toc-modified-id=\"Reindex-series-object-4\"><span class=\"toc-item-num\">4&nbsp;&nbsp;</span>Reindex series object</a></span></li><li><span><a href=\"#Sorting-series-object\" data-toc-modified-id=\"Sorting-series-object-5\"><span class=\"toc-item-num\">5&nbsp;&nbsp;</span>Sorting series object</a></span></li><li><span><a href=\"#Column-transformation\" data-toc-modified-id=\"Column-transformation-6\"><span class=\"toc-item-num\">6&nbsp;&nbsp;</span>Column transformation</a></span></li><li><span><a href=\"#Compare-&amp;-Filter\" data-toc-modified-id=\"Compare-&amp;-Filter-7\"><span class=\"toc-item-num\">7&nbsp;&nbsp;</span>Compare &amp; Filter</a></span></li><li><span><a href=\"#Data-alignment\" data-toc-modified-id=\"Data-alignment-8\"><span class=\"toc-item-num\">8&nbsp;&nbsp;</span>Data alignment</a></span></li></ul></div>"
   ]
  },
  {
   "cell_type": "markdown",
   "id": "14f909cf",
   "metadata": {},
   "source": [
    "## Introduction"
   ]
  },
  {
   "cell_type": "markdown",
   "id": "9ced4dfd",
   "metadata": {},
   "source": [
    "In this chapter, we will explore more about the ``series`` objects of pandas. The main pandas objects are ``series`` which is a sequence of values, ``dataframes`` which are a set of series objects and ``panels`` which are a set of dataframe objects. As a reminder, series objects use numpy arrays for faster computation results."
   ]
  },
  {
   "cell_type": "code",
   "execution_count": 1,
   "id": "70e2e915",
   "metadata": {},
   "outputs": [],
   "source": [
    "import pandas as pd"
   ]
  },
  {
   "cell_type": "code",
   "execution_count": 2,
   "id": "5a19273d",
   "metadata": {},
   "outputs": [
    {
     "data": {
      "text/html": [
       "<div>\n",
       "<style scoped>\n",
       "    .dataframe tbody tr th:only-of-type {\n",
       "        vertical-align: middle;\n",
       "    }\n",
       "\n",
       "    .dataframe tbody tr th {\n",
       "        vertical-align: top;\n",
       "    }\n",
       "\n",
       "    .dataframe thead th {\n",
       "        text-align: right;\n",
       "    }\n",
       "</style>\n",
       "<table border=\"1\" class=\"dataframe\">\n",
       "  <thead>\n",
       "    <tr style=\"text-align: right;\">\n",
       "      <th></th>\n",
       "      <th>FILM</th>\n",
       "      <th>RottenTomatoes</th>\n",
       "      <th>RottenTomatoes_User</th>\n",
       "      <th>Metacritic</th>\n",
       "      <th>Metacritic_User</th>\n",
       "      <th>IMDB</th>\n",
       "      <th>Fandango_Stars</th>\n",
       "      <th>Fandango_Ratingvalue</th>\n",
       "      <th>RT_norm</th>\n",
       "      <th>RT_user_norm</th>\n",
       "      <th>...</th>\n",
       "      <th>IMDB_norm</th>\n",
       "      <th>RT_norm_round</th>\n",
       "      <th>RT_user_norm_round</th>\n",
       "      <th>Metacritic_norm_round</th>\n",
       "      <th>Metacritic_user_norm_round</th>\n",
       "      <th>IMDB_norm_round</th>\n",
       "      <th>Metacritic_user_vote_count</th>\n",
       "      <th>IMDB_user_vote_count</th>\n",
       "      <th>Fandango_votes</th>\n",
       "      <th>Fandango_Difference</th>\n",
       "    </tr>\n",
       "  </thead>\n",
       "  <tbody>\n",
       "    <tr>\n",
       "      <th>0</th>\n",
       "      <td>Avengers: Age of Ultron (2015)</td>\n",
       "      <td>74</td>\n",
       "      <td>86</td>\n",
       "      <td>66</td>\n",
       "      <td>7.1</td>\n",
       "      <td>7.8</td>\n",
       "      <td>5.0</td>\n",
       "      <td>4.5</td>\n",
       "      <td>3.70</td>\n",
       "      <td>4.3</td>\n",
       "      <td>...</td>\n",
       "      <td>3.90</td>\n",
       "      <td>3.5</td>\n",
       "      <td>4.5</td>\n",
       "      <td>3.5</td>\n",
       "      <td>3.5</td>\n",
       "      <td>4.0</td>\n",
       "      <td>1330</td>\n",
       "      <td>271107</td>\n",
       "      <td>14846</td>\n",
       "      <td>0.5</td>\n",
       "    </tr>\n",
       "    <tr>\n",
       "      <th>1</th>\n",
       "      <td>Cinderella (2015)</td>\n",
       "      <td>85</td>\n",
       "      <td>80</td>\n",
       "      <td>67</td>\n",
       "      <td>7.5</td>\n",
       "      <td>7.1</td>\n",
       "      <td>5.0</td>\n",
       "      <td>4.5</td>\n",
       "      <td>4.25</td>\n",
       "      <td>4.0</td>\n",
       "      <td>...</td>\n",
       "      <td>3.55</td>\n",
       "      <td>4.5</td>\n",
       "      <td>4.0</td>\n",
       "      <td>3.5</td>\n",
       "      <td>4.0</td>\n",
       "      <td>3.5</td>\n",
       "      <td>249</td>\n",
       "      <td>65709</td>\n",
       "      <td>12640</td>\n",
       "      <td>0.5</td>\n",
       "    </tr>\n",
       "    <tr>\n",
       "      <th>2</th>\n",
       "      <td>Ant-Man (2015)</td>\n",
       "      <td>80</td>\n",
       "      <td>90</td>\n",
       "      <td>64</td>\n",
       "      <td>8.1</td>\n",
       "      <td>7.8</td>\n",
       "      <td>5.0</td>\n",
       "      <td>4.5</td>\n",
       "      <td>4.00</td>\n",
       "      <td>4.5</td>\n",
       "      <td>...</td>\n",
       "      <td>3.90</td>\n",
       "      <td>4.0</td>\n",
       "      <td>4.5</td>\n",
       "      <td>3.0</td>\n",
       "      <td>4.0</td>\n",
       "      <td>4.0</td>\n",
       "      <td>627</td>\n",
       "      <td>103660</td>\n",
       "      <td>12055</td>\n",
       "      <td>0.5</td>\n",
       "    </tr>\n",
       "    <tr>\n",
       "      <th>3</th>\n",
       "      <td>Do You Believe? (2015)</td>\n",
       "      <td>18</td>\n",
       "      <td>84</td>\n",
       "      <td>22</td>\n",
       "      <td>4.7</td>\n",
       "      <td>5.4</td>\n",
       "      <td>5.0</td>\n",
       "      <td>4.5</td>\n",
       "      <td>0.90</td>\n",
       "      <td>4.2</td>\n",
       "      <td>...</td>\n",
       "      <td>2.70</td>\n",
       "      <td>1.0</td>\n",
       "      <td>4.0</td>\n",
       "      <td>1.0</td>\n",
       "      <td>2.5</td>\n",
       "      <td>2.5</td>\n",
       "      <td>31</td>\n",
       "      <td>3136</td>\n",
       "      <td>1793</td>\n",
       "      <td>0.5</td>\n",
       "    </tr>\n",
       "    <tr>\n",
       "      <th>4</th>\n",
       "      <td>Hot Tub Time Machine 2 (2015)</td>\n",
       "      <td>14</td>\n",
       "      <td>28</td>\n",
       "      <td>29</td>\n",
       "      <td>3.4</td>\n",
       "      <td>5.1</td>\n",
       "      <td>3.5</td>\n",
       "      <td>3.0</td>\n",
       "      <td>0.70</td>\n",
       "      <td>1.4</td>\n",
       "      <td>...</td>\n",
       "      <td>2.55</td>\n",
       "      <td>0.5</td>\n",
       "      <td>1.5</td>\n",
       "      <td>1.5</td>\n",
       "      <td>1.5</td>\n",
       "      <td>2.5</td>\n",
       "      <td>88</td>\n",
       "      <td>19560</td>\n",
       "      <td>1021</td>\n",
       "      <td>0.5</td>\n",
       "    </tr>\n",
       "  </tbody>\n",
       "</table>\n",
       "<p>5 rows × 22 columns</p>\n",
       "</div>"
      ],
      "text/plain": [
       "                             FILM  RottenTomatoes  RottenTomatoes_User  \\\n",
       "0  Avengers: Age of Ultron (2015)              74                   86   \n",
       "1               Cinderella (2015)              85                   80   \n",
       "2                  Ant-Man (2015)              80                   90   \n",
       "3          Do You Believe? (2015)              18                   84   \n",
       "4   Hot Tub Time Machine 2 (2015)              14                   28   \n",
       "\n",
       "   Metacritic  Metacritic_User  IMDB  Fandango_Stars  Fandango_Ratingvalue  \\\n",
       "0          66              7.1   7.8             5.0                   4.5   \n",
       "1          67              7.5   7.1             5.0                   4.5   \n",
       "2          64              8.1   7.8             5.0                   4.5   \n",
       "3          22              4.7   5.4             5.0                   4.5   \n",
       "4          29              3.4   5.1             3.5                   3.0   \n",
       "\n",
       "   RT_norm  RT_user_norm  ...  IMDB_norm  RT_norm_round  RT_user_norm_round  \\\n",
       "0     3.70           4.3  ...       3.90            3.5                 4.5   \n",
       "1     4.25           4.0  ...       3.55            4.5                 4.0   \n",
       "2     4.00           4.5  ...       3.90            4.0                 4.5   \n",
       "3     0.90           4.2  ...       2.70            1.0                 4.0   \n",
       "4     0.70           1.4  ...       2.55            0.5                 1.5   \n",
       "\n",
       "   Metacritic_norm_round  Metacritic_user_norm_round  IMDB_norm_round  \\\n",
       "0                    3.5                         3.5              4.0   \n",
       "1                    3.5                         4.0              3.5   \n",
       "2                    3.0                         4.0              4.0   \n",
       "3                    1.0                         2.5              2.5   \n",
       "4                    1.5                         1.5              2.5   \n",
       "\n",
       "   Metacritic_user_vote_count  IMDB_user_vote_count  Fandango_votes  \\\n",
       "0                        1330                271107           14846   \n",
       "1                         249                 65709           12640   \n",
       "2                         627                103660           12055   \n",
       "3                          31                  3136            1793   \n",
       "4                          88                 19560            1021   \n",
       "\n",
       "   Fandango_Difference  \n",
       "0                  0.5  \n",
       "1                  0.5  \n",
       "2                  0.5  \n",
       "3                  0.5  \n",
       "4                  0.5  \n",
       "\n",
       "[5 rows x 22 columns]"
      ]
     },
     "execution_count": 2,
     "metadata": {},
     "output_type": "execute_result"
    }
   ],
   "source": [
    "fandango = pd.read_csv(\"fandango_score_comparison.csv\")\n",
    "fandango.head()"
   ]
  },
  {
   "cell_type": "markdown",
   "id": "9b12c769",
   "metadata": {},
   "source": [
    "## Indexing using integers"
   ]
  },
  {
   "cell_type": "code",
   "execution_count": 3,
   "id": "9a0ebd99",
   "metadata": {},
   "outputs": [
    {
     "data": {
      "text/plain": [
       "0    Avengers: Age of Ultron (2015)\n",
       "1                 Cinderella (2015)\n",
       "2                    Ant-Man (2015)\n",
       "3            Do You Believe? (2015)\n",
       "4     Hot Tub Time Machine 2 (2015)\n",
       "Name: FILM, dtype: object"
      ]
     },
     "execution_count": 3,
     "metadata": {},
     "output_type": "execute_result"
    }
   ],
   "source": [
    "series_film = fandango[\"FILM\"]\n",
    "series_film[0:5]"
   ]
  },
  {
   "cell_type": "code",
   "execution_count": 4,
   "id": "82457add",
   "metadata": {},
   "outputs": [
    {
     "data": {
      "text/plain": [
       "0    74\n",
       "1    85\n",
       "2    80\n",
       "3    18\n",
       "4    14\n",
       "Name: RottenTomatoes, dtype: int64"
      ]
     },
     "execution_count": 4,
     "metadata": {},
     "output_type": "execute_result"
    }
   ],
   "source": [
    "series_rt = fandango[\"RottenTomatoes\"]\n",
    "series_rt[0:5]"
   ]
  },
  {
   "cell_type": "markdown",
   "id": "94a887c0",
   "metadata": {},
   "source": [
    "## Customize indexing"
   ]
  },
  {
   "cell_type": "code",
   "execution_count": 5,
   "id": "878bdaf0",
   "metadata": {},
   "outputs": [
    {
     "data": {
      "text/plain": [
       "('The Water Diviner (2015)', 63)"
      ]
     },
     "execution_count": 5,
     "metadata": {},
     "output_type": "execute_result"
    }
   ],
   "source": [
    "series_film[5], series_rt[5]"
   ]
  },
  {
   "cell_type": "code",
   "execution_count": 6,
   "id": "94ca095f",
   "metadata": {},
   "outputs": [
    {
     "data": {
      "text/plain": [
       "Avengers: Age of Ultron (2015)                74\n",
       "Cinderella (2015)                             85\n",
       "Ant-Man (2015)                                80\n",
       "Do You Believe? (2015)                        18\n",
       "Hot Tub Time Machine 2 (2015)                 14\n",
       "                                            ... \n",
       "Mr. Holmes (2015)                             87\n",
       "'71 (2015)                                    97\n",
       "Two Days, One Night (2014)                    97\n",
       "Gett: The Trial of Viviane Amsalem (2015)    100\n",
       "Kumiko, The Treasure Hunter (2015)            87\n",
       "Length: 146, dtype: int64"
      ]
     },
     "execution_count": 6,
     "metadata": {},
     "output_type": "execute_result"
    }
   ],
   "source": [
    "series_custom = pd.Series(data=series_rt.values, index=series_film.values)\n",
    "series_custom"
   ]
  },
  {
   "cell_type": "code",
   "execution_count": 7,
   "id": "38675206",
   "metadata": {},
   "outputs": [
    {
     "data": {
      "text/plain": [
       "Cinderella (2015)    85\n",
       "Ant-Man (2015)       80\n",
       "dtype: int64"
      ]
     },
     "execution_count": 7,
     "metadata": {},
     "output_type": "execute_result"
    }
   ],
   "source": [
    "series_custom[[\"Cinderella (2015)\", \"Ant-Man (2015)\"]]"
   ]
  },
  {
   "cell_type": "code",
   "execution_count": 8,
   "id": "03bfba87",
   "metadata": {},
   "outputs": [
    {
     "data": {
      "text/plain": [
       "Cinderella (2015)    85\n",
       "Ant-Man (2015)       80\n",
       "dtype: int64"
      ]
     },
     "execution_count": 8,
     "metadata": {},
     "output_type": "execute_result"
    }
   ],
   "source": [
    "series_custom[[1, 2]]"
   ]
  },
  {
   "cell_type": "markdown",
   "id": "72b7f009",
   "metadata": {},
   "source": [
    "## Reindex series object"
   ]
  },
  {
   "cell_type": "code",
   "execution_count": 9,
   "id": "8485c948",
   "metadata": {},
   "outputs": [
    {
     "data": {
      "text/plain": [
       "Index(['Avengers: Age of Ultron (2015)', 'Cinderella (2015)', 'Ant-Man (2015)',\n",
       "       'Do You Believe? (2015)', 'Hot Tub Time Machine 2 (2015)',\n",
       "       'The Water Diviner (2015)', 'Irrational Man (2015)', 'Top Five (2014)',\n",
       "       'Shaun the Sheep Movie (2015)', 'Love & Mercy (2015)',\n",
       "       ...\n",
       "       'The Woman In Black 2 Angel of Death (2015)', 'Danny Collins (2015)',\n",
       "       'Spare Parts (2015)', 'Serena (2015)', 'Inside Out (2015)',\n",
       "       'Mr. Holmes (2015)', ''71 (2015)', 'Two Days, One Night (2014)',\n",
       "       'Gett: The Trial of Viviane Amsalem (2015)',\n",
       "       'Kumiko, The Treasure Hunter (2015)'],\n",
       "      dtype='object', length=146)"
      ]
     },
     "execution_count": 9,
     "metadata": {},
     "output_type": "execute_result"
    }
   ],
   "source": [
    "original_index = series_custom.index\n",
    "original_index"
   ]
  },
  {
   "cell_type": "code",
   "execution_count": 10,
   "id": "4973c2be",
   "metadata": {},
   "outputs": [
    {
     "name": "stdout",
     "output_type": "stream",
     "text": [
      "[\"'71 (2015)\", '5 Flights Up (2015)', 'A Little Chaos (2015)', 'A Most Violent Year (2014)', 'About Elly (2015)', 'Aloha (2015)', 'American Sniper (2015)', 'American Ultra (2015)', 'Amy (2015)', 'Annie (2014)', 'Ant-Man (2015)', 'Avengers: Age of Ultron (2015)', 'Big Eyes (2014)', 'Birdman (2014)', 'Black Sea (2015)', 'Black or White (2015)', 'Blackhat (2015)', 'Cake (2015)', 'Chappie (2015)', 'Child 44 (2015)', 'Cinderella (2015)', 'Clouds of Sils Maria (2015)', 'Danny Collins (2015)', 'Dark Places (2015)', 'Do You Believe? (2015)', 'Dope (2015)', 'Entourage (2015)', 'Escobar: Paradise Lost (2015)', 'Ex Machina (2015)', 'Fantastic Four (2015)', 'Far From The Madding Crowd (2015)', 'Fifty Shades of Grey (2015)', 'Focus (2015)', 'Furious 7 (2015)', 'Get Hard (2015)', 'Gett: The Trial of Viviane Amsalem (2015)', 'Hitman: Agent 47 (2015)', 'Home (2015)', 'Hot Pursuit (2015)', 'Hot Tub Time Machine 2 (2015)', \"I'll See You In My Dreams (2015)\", 'Infinitely Polar Bear (2015)', 'Inherent Vice (2014)', 'Inside Out (2015)', 'Insidious: Chapter 3 (2015)', 'Into the Woods (2014)', 'Irrational Man (2015)', 'It Follows (2015)', 'Jupiter Ascending (2015)', 'Jurassic World (2015)', 'Kingsman: The Secret Service (2015)', 'Kumiko, The Treasure Hunter (2015)', 'Leviathan (2014)', 'Little Boy (2015)', 'Love & Mercy (2015)', 'Mad Max: Fury Road (2015)', 'Maggie (2015)', 'Magic Mike XXL (2015)', 'Maps to the Stars (2015)', 'Max (2015)', 'McFarland, USA (2015)', 'Me and Earl and The Dying Girl (2015)', 'Minions (2015)', 'Mission: Impossible â€“ Rogue Nation (2015)', 'Monkey Kingdom (2015)', 'Mortdecai (2015)', 'Mr. Holmes (2015)', 'Mr. Turner (2014)', 'Night at the Museum: Secret of the Tomb (2014)', 'Paddington (2015)', 'Paper Towns (2015)', 'Paul Blart: Mall Cop 2 (2015)', 'Phoenix (2015)', 'Pitch Perfect 2 (2015)', 'Pixels (2015)', 'Poltergeist (2015)', 'Project Almanac (2015)', 'Red Army (2015)', 'Ricki and the Flash (2015)', 'Run All Night (2015)', 'Saint Laurent (2015)', 'San Andreas (2015)', 'Self/less (2015)', 'Selma (2014)', 'Serena (2015)', 'Seventh Son (2015)', 'Seymour: An Introduction (2015)', 'Shaun the Sheep Movie (2015)', 'Sinister 2 (2015)', 'Song of the Sea (2014)', 'Southpaw (2015)', 'Spare Parts (2015)', 'Spy (2015)', 'Still Alice (2015)', 'Straight Outta Compton (2015)', 'Strange Magic (2015)', 'Taken 3 (2015)', 'Tangerine (2015)', 'Ted 2 (2015)', 'Terminator Genisys (2015)', 'Testament of Youth (2015)', 'The 100-Year-Old Man Who Climbed Out the Window and Disappeared (2015)', 'The Age of Adaline (2015)', 'The Boy Next Door (2015)', 'The DUFF (2015)', 'The Diary of a Teenage Girl (2015)', 'The Divergent Series: Insurgent (2015)', 'The End of the Tour (2015)', 'The Gallows (2015)', 'The Gift (2015)', 'The Gunman (2015)', 'The Hobbit: The Battle of the Five Armies (2014)', 'The Hunting Ground (2015)', 'The Imitation Game (2014)', 'The Last Five Years (2015)', 'The Lazarus Effect (2015)', 'The Loft (2015)', 'The Longest Ride (2015)', 'The Man From U.N.C.L.E. (2015)', 'The Overnight (2015)', 'The Salt of the Earth (2015)', 'The Second Best Exotic Marigold Hotel (2015)', 'The SpongeBob Movie: Sponge Out of Water (2015)', 'The Stanford Prison Experiment (2015)', 'The Vatican Tapes (2015)', 'The Water Diviner (2015)', 'The Wedding Ringer (2015)', 'The Wolfpack (2015)', 'The Woman In Black 2 Angel of Death (2015)', 'The Wrecking Crew (2015)', 'Timbuktu (2015)', 'Tomorrowland (2015)', 'Top Five (2014)', 'Trainwreck (2015)', 'True Story (2015)', 'Two Days, One Night (2014)', 'Unbroken (2014)', 'Unfinished Business (2015)', 'Unfriended (2015)', 'Vacation (2015)', 'Welcome to Me (2015)', 'What We Do in the Shadows (2015)', 'When Marnie Was There (2015)', \"While We're Young (2015)\", 'Wild Tales (2014)', 'Woman in Gold (2015)']\n"
     ]
    }
   ],
   "source": [
    "sorted_original_index = sorted(original_index)\n",
    "print(sorted_original_index)"
   ]
  },
  {
   "cell_type": "code",
   "execution_count": 11,
   "id": "bd4c448a",
   "metadata": {},
   "outputs": [
    {
     "data": {
      "text/plain": [
       "'71 (2015)                          97\n",
       "5 Flights Up (2015)                 52\n",
       "A Little Chaos (2015)               40\n",
       "A Most Violent Year (2014)          90\n",
       "About Elly (2015)                   97\n",
       "                                    ..\n",
       "What We Do in the Shadows (2015)    96\n",
       "When Marnie Was There (2015)        89\n",
       "While We're Young (2015)            83\n",
       "Wild Tales (2014)                   96\n",
       "Woman in Gold (2015)                52\n",
       "Length: 146, dtype: int64"
      ]
     },
     "execution_count": 11,
     "metadata": {},
     "output_type": "execute_result"
    }
   ],
   "source": [
    "reindexed_series_custom = series_custom.reindex(sorted_original_index)\n",
    "reindexed_series_custom"
   ]
  },
  {
   "cell_type": "markdown",
   "id": "5ae223fe",
   "metadata": {},
   "source": [
    "## Sorting series object"
   ]
  },
  {
   "cell_type": "code",
   "execution_count": 12,
   "id": "1c601786",
   "metadata": {},
   "outputs": [
    {
     "data": {
      "text/plain": [
       "'71 (2015)                          97\n",
       "5 Flights Up (2015)                 52\n",
       "A Little Chaos (2015)               40\n",
       "A Most Violent Year (2014)          90\n",
       "About Elly (2015)                   97\n",
       "                                    ..\n",
       "What We Do in the Shadows (2015)    96\n",
       "When Marnie Was There (2015)        89\n",
       "While We're Young (2015)            83\n",
       "Wild Tales (2014)                   96\n",
       "Woman in Gold (2015)                52\n",
       "Length: 146, dtype: int64"
      ]
     },
     "execution_count": 12,
     "metadata": {},
     "output_type": "execute_result"
    }
   ],
   "source": [
    "series_custom_by_index = series_custom.sort_index()\n",
    "series_custom_by_index"
   ]
  },
  {
   "cell_type": "code",
   "execution_count": 13,
   "id": "a781dfdd",
   "metadata": {},
   "outputs": [
    {
     "data": {
      "text/plain": [
       "Paul Blart: Mall Cop 2 (2015)                  5\n",
       "Hitman: Agent 47 (2015)                        7\n",
       "Hot Pursuit (2015)                             8\n",
       "Fantastic Four (2015)                          9\n",
       "Taken 3 (2015)                                 9\n",
       "                                            ... \n",
       "Song of the Sea (2014)                        99\n",
       "Phoenix (2015)                                99\n",
       "Selma (2014)                                  99\n",
       "Seymour: An Introduction (2015)              100\n",
       "Gett: The Trial of Viviane Amsalem (2015)    100\n",
       "Length: 146, dtype: int64"
      ]
     },
     "execution_count": 13,
     "metadata": {},
     "output_type": "execute_result"
    }
   ],
   "source": [
    "series_custom_by_values = series_custom.sort_values()\n",
    "series_custom_by_values"
   ]
  },
  {
   "cell_type": "markdown",
   "id": "7933e0e2",
   "metadata": {},
   "source": [
    "## Column transformation"
   ]
  },
  {
   "cell_type": "code",
   "execution_count": 14,
   "id": "6fa3c6f4",
   "metadata": {},
   "outputs": [],
   "source": [
    "import numpy as np"
   ]
  },
  {
   "cell_type": "code",
   "execution_count": 15,
   "id": "506840cf",
   "metadata": {},
   "outputs": [
    {
     "data": {
      "text/plain": [
       "Avengers: Age of Ultron (2015)                7.4\n",
       "Cinderella (2015)                             8.5\n",
       "Ant-Man (2015)                                8.0\n",
       "Do You Believe? (2015)                        1.8\n",
       "Hot Tub Time Machine 2 (2015)                 1.4\n",
       "                                             ... \n",
       "Mr. Holmes (2015)                             8.7\n",
       "'71 (2015)                                    9.7\n",
       "Two Days, One Night (2014)                    9.7\n",
       "Gett: The Trial of Viviane Amsalem (2015)    10.0\n",
       "Kumiko, The Treasure Hunter (2015)            8.7\n",
       "Length: 146, dtype: float64"
      ]
     },
     "execution_count": 15,
     "metadata": {},
     "output_type": "execute_result"
    }
   ],
   "source": [
    "series_custom / 10"
   ]
  },
  {
   "cell_type": "code",
   "execution_count": 16,
   "id": "ebe66d5a",
   "metadata": {},
   "outputs": [
    {
     "data": {
      "text/plain": [
       "Avengers: Age of Ultron (2015)               148\n",
       "Cinderella (2015)                            170\n",
       "Ant-Man (2015)                               160\n",
       "Do You Believe? (2015)                        36\n",
       "Hot Tub Time Machine 2 (2015)                 28\n",
       "                                            ... \n",
       "Mr. Holmes (2015)                            174\n",
       "'71 (2015)                                   194\n",
       "Two Days, One Night (2014)                   194\n",
       "Gett: The Trial of Viviane Amsalem (2015)    200\n",
       "Kumiko, The Treasure Hunter (2015)           174\n",
       "Length: 146, dtype: int64"
      ]
     },
     "execution_count": 16,
     "metadata": {},
     "output_type": "execute_result"
    }
   ],
   "source": [
    "np.add(series_custom, series_custom)"
   ]
  },
  {
   "cell_type": "code",
   "execution_count": 17,
   "id": "2111c5d1",
   "metadata": {},
   "outputs": [
    {
     "data": {
      "text/plain": [
       "Avengers: Age of Ultron (2015)              -0.985146\n",
       "Cinderella (2015)                           -0.176076\n",
       "Ant-Man (2015)                              -0.993889\n",
       "Do You Believe? (2015)                      -0.750987\n",
       "Hot Tub Time Machine 2 (2015)                0.990607\n",
       "                                               ...   \n",
       "Mr. Holmes (2015)                           -0.821818\n",
       "'71 (2015)                                   0.379608\n",
       "Two Days, One Night (2014)                   0.379608\n",
       "Gett: The Trial of Viviane Amsalem (2015)   -0.506366\n",
       "Kumiko, The Treasure Hunter (2015)          -0.821818\n",
       "Length: 146, dtype: float64"
      ]
     },
     "execution_count": 17,
     "metadata": {},
     "output_type": "execute_result"
    }
   ],
   "source": [
    "np.sin(series_custom)"
   ]
  },
  {
   "cell_type": "code",
   "execution_count": 18,
   "id": "977328bb",
   "metadata": {},
   "outputs": [
    {
     "data": {
      "text/plain": [
       "100"
      ]
     },
     "execution_count": 18,
     "metadata": {},
     "output_type": "execute_result"
    }
   ],
   "source": [
    "np.max(series_custom)"
   ]
  },
  {
   "cell_type": "code",
   "execution_count": 19,
   "id": "7ab5ad91",
   "metadata": {},
   "outputs": [
    {
     "data": {
      "text/plain": [
       "Avengers: Age of Ultron (2015)               3.70\n",
       "Cinderella (2015)                            4.25\n",
       "Ant-Man (2015)                               4.00\n",
       "Do You Believe? (2015)                       0.90\n",
       "Hot Tub Time Machine 2 (2015)                0.70\n",
       "                                             ... \n",
       "Mr. Holmes (2015)                            4.35\n",
       "'71 (2015)                                   4.85\n",
       "Two Days, One Night (2014)                   4.85\n",
       "Gett: The Trial of Viviane Amsalem (2015)    5.00\n",
       "Kumiko, The Treasure Hunter (2015)           4.35\n",
       "Length: 146, dtype: float64"
      ]
     },
     "execution_count": 19,
     "metadata": {},
     "output_type": "execute_result"
    }
   ],
   "source": [
    "series_normalized = (series_custom / 20)\n",
    "series_normalized"
   ]
  },
  {
   "cell_type": "markdown",
   "id": "6c1e12bd",
   "metadata": {},
   "source": [
    "## Compare & Filter"
   ]
  },
  {
   "cell_type": "code",
   "execution_count": 20,
   "id": "3dccf7ae",
   "metadata": {},
   "outputs": [
    {
     "data": {
      "text/plain": [
       "Avengers: Age of Ultron (2015)                True\n",
       "Cinderella (2015)                             True\n",
       "Ant-Man (2015)                                True\n",
       "Do You Believe? (2015)                       False\n",
       "Hot Tub Time Machine 2 (2015)                False\n",
       "                                             ...  \n",
       "Mr. Holmes (2015)                             True\n",
       "'71 (2015)                                    True\n",
       "Two Days, One Night (2014)                    True\n",
       "Gett: The Trial of Viviane Amsalem (2015)     True\n",
       "Kumiko, The Treasure Hunter (2015)            True\n",
       "Length: 146, dtype: bool"
      ]
     },
     "execution_count": 20,
     "metadata": {},
     "output_type": "execute_result"
    }
   ],
   "source": [
    "series_custom > 50"
   ]
  },
  {
   "cell_type": "code",
   "execution_count": 21,
   "id": "52d7d6fe",
   "metadata": {},
   "outputs": [
    {
     "data": {
      "text/plain": [
       "Avengers: Age of Ultron (2015)                74\n",
       "Cinderella (2015)                             85\n",
       "Ant-Man (2015)                                80\n",
       "The Water Diviner (2015)                      63\n",
       "Top Five (2014)                               86\n",
       "                                            ... \n",
       "Mr. Holmes (2015)                             87\n",
       "'71 (2015)                                    97\n",
       "Two Days, One Night (2014)                    97\n",
       "Gett: The Trial of Viviane Amsalem (2015)    100\n",
       "Kumiko, The Treasure Hunter (2015)            87\n",
       "Length: 94, dtype: int64"
      ]
     },
     "execution_count": 21,
     "metadata": {},
     "output_type": "execute_result"
    }
   ],
   "source": [
    "series_custom_50 = series_custom[series_custom > 50]\n",
    "series_custom_50"
   ]
  },
  {
   "cell_type": "code",
   "execution_count": 22,
   "id": "6d83d4d0",
   "metadata": {},
   "outputs": [
    {
     "data": {
      "text/plain": [
       "Avengers: Age of Ultron (2015)                                            74\n",
       "The Water Diviner (2015)                                                  63\n",
       "Unbroken (2014)                                                           51\n",
       "Southpaw (2015)                                                           59\n",
       "Insidious: Chapter 3 (2015)                                               59\n",
       "The Man From U.N.C.L.E. (2015)                                            68\n",
       "Run All Night (2015)                                                      60\n",
       "5 Flights Up (2015)                                                       52\n",
       "Welcome to Me (2015)                                                      71\n",
       "Saint Laurent (2015)                                                      51\n",
       "Maps to the Stars (2015)                                                  60\n",
       "Pitch Perfect 2 (2015)                                                    67\n",
       "The Age of Adaline (2015)                                                 54\n",
       "The DUFF (2015)                                                           71\n",
       "Ricki and the Flash (2015)                                                64\n",
       "Unfriended (2015)                                                         60\n",
       "American Sniper (2015)                                                    72\n",
       "The Hobbit: The Battle of the Five Armies (2014)                          61\n",
       "Paper Towns (2015)                                                        55\n",
       "Big Eyes (2014)                                                           72\n",
       "Maggie (2015)                                                             54\n",
       "Focus (2015)                                                              57\n",
       "The Second Best Exotic Marigold Hotel (2015)                              62\n",
       "The 100-Year-Old Man Who Climbed Out the Window and Disappeared (2015)    67\n",
       "Escobar: Paradise Lost (2015)                                             52\n",
       "Into the Woods (2014)                                                     71\n",
       "Inherent Vice (2014)                                                      73\n",
       "Magic Mike XXL (2015)                                                     62\n",
       "Woman in Gold (2015)                                                      52\n",
       "The Last Five Years (2015)                                                60\n",
       "Jurassic World (2015)                                                     71\n",
       "Minions (2015)                                                            54\n",
       "Spare Parts (2015)                                                        52\n",
       "dtype: int64"
      ]
     },
     "execution_count": 22,
     "metadata": {},
     "output_type": "execute_result"
    }
   ],
   "source": [
    "series_custom_50_75 = series_custom[(series_custom > 50) & (series_custom < 75)]\n",
    "series_custom_50_75"
   ]
  },
  {
   "cell_type": "markdown",
   "id": "5f9dbaf1",
   "metadata": {},
   "source": [
    "## Data alignment"
   ]
  },
  {
   "cell_type": "markdown",
   "id": "abab8770",
   "metadata": {},
   "source": [
    "In this section, we will try to answer the following questions:\n",
    "\n",
    "* create the Series rt_critics which indexes the values of the ratings of the RottenTomatoes column (critics' ratings) with as index the name of the movies (FILM column)\n",
    "* create the Series rt_users which indexes the values of the RottenTomatoes_User column with the name of the movies (FILM column) as index\n",
    "* t_critics and rt_users are thus 2 series objects containing the average of the critics' and users' ratings for each movie\n",
    "* since each series uses the same index (corresponding to the movie names), use mathematical operations to return the average of the critics' and users' ratings for each movie\n",
    "* assign the resulting series to the variable rt_mean\n",
    "* display the result"
   ]
  },
  {
   "cell_type": "code",
   "execution_count": 23,
   "id": "c05c986c",
   "metadata": {},
   "outputs": [
    {
     "data": {
      "text/plain": [
       "FILM\n",
       "Avengers: Age of Ultron (2015)                74\n",
       "Cinderella (2015)                             85\n",
       "Ant-Man (2015)                                80\n",
       "Do You Believe? (2015)                        18\n",
       "Hot Tub Time Machine 2 (2015)                 14\n",
       "                                            ... \n",
       "Mr. Holmes (2015)                             87\n",
       "'71 (2015)                                    97\n",
       "Two Days, One Night (2014)                    97\n",
       "Gett: The Trial of Viviane Amsalem (2015)    100\n",
       "Kumiko, The Treasure Hunter (2015)            87\n",
       "Length: 146, dtype: int64"
      ]
     },
     "execution_count": 23,
     "metadata": {},
     "output_type": "execute_result"
    }
   ],
   "source": [
    "rt_critics = pd.Series(fandango['RottenTomatoes'].values, index=fandango['FILM'])\n",
    "rt_critics"
   ]
  },
  {
   "cell_type": "code",
   "execution_count": 24,
   "id": "1486c82f",
   "metadata": {},
   "outputs": [
    {
     "data": {
      "text/plain": [
       "FILM\n",
       "Avengers: Age of Ultron (2015)               86\n",
       "Cinderella (2015)                            80\n",
       "Ant-Man (2015)                               90\n",
       "Do You Believe? (2015)                       84\n",
       "Hot Tub Time Machine 2 (2015)                28\n",
       "                                             ..\n",
       "Mr. Holmes (2015)                            78\n",
       "'71 (2015)                                   82\n",
       "Two Days, One Night (2014)                   78\n",
       "Gett: The Trial of Viviane Amsalem (2015)    81\n",
       "Kumiko, The Treasure Hunter (2015)           63\n",
       "Length: 146, dtype: int64"
      ]
     },
     "execution_count": 24,
     "metadata": {},
     "output_type": "execute_result"
    }
   ],
   "source": [
    "rt_users = pd.Series(fandango['RottenTomatoes_User'].values, index=fandango['FILM'])  \n",
    "rt_users"
   ]
  },
  {
   "cell_type": "code",
   "execution_count": 25,
   "id": "4a507331",
   "metadata": {},
   "outputs": [
    {
     "data": {
      "text/plain": [
       "FILM\n",
       "Avengers: Age of Ultron (2015)               80.0\n",
       "Cinderella (2015)                            82.5\n",
       "Ant-Man (2015)                               85.0\n",
       "Do You Believe? (2015)                       51.0\n",
       "Hot Tub Time Machine 2 (2015)                21.0\n",
       "                                             ... \n",
       "Mr. Holmes (2015)                            82.5\n",
       "'71 (2015)                                   89.5\n",
       "Two Days, One Night (2014)                   87.5\n",
       "Gett: The Trial of Viviane Amsalem (2015)    90.5\n",
       "Kumiko, The Treasure Hunter (2015)           75.0\n",
       "Length: 146, dtype: float64"
      ]
     },
     "execution_count": 25,
     "metadata": {},
     "output_type": "execute_result"
    }
   ],
   "source": [
    "rt_mean = (rt_critics + rt_users) / 2 \n",
    "rt_mean"
   ]
  }
 ],
 "metadata": {
  "kernelspec": {
   "display_name": "Python 3 (ipykernel)",
   "language": "python",
   "name": "python3"
  },
  "language_info": {
   "codemirror_mode": {
    "name": "ipython",
    "version": 3
   },
   "file_extension": ".py",
   "mimetype": "text/x-python",
   "name": "python",
   "nbconvert_exporter": "python",
   "pygments_lexer": "ipython3",
   "version": "3.9.7"
  },
  "latex_envs": {
   "LaTeX_envs_menu_present": true,
   "autoclose": false,
   "autocomplete": true,
   "bibliofile": "biblio.bib",
   "cite_by": "apalike",
   "current_citInitial": 1,
   "eqLabelWithNumbers": true,
   "eqNumInitial": 1,
   "hotkeys": {
    "equation": "Ctrl-E",
    "itemize": "Ctrl-I"
   },
   "labels_anchors": false,
   "latex_user_defs": false,
   "report_style_numbering": false,
   "user_envs_cfg": false
  },
  "nbTranslate": {
   "displayLangs": [
    "*"
   ],
   "hotkey": "alt-t",
   "langInMainMenu": true,
   "sourceLang": "en",
   "targetLang": "fr",
   "useGoogleTranslate": true
  },
  "toc": {
   "base_numbering": 1,
   "nav_menu": {},
   "number_sections": true,
   "sideBar": true,
   "skip_h1_title": true,
   "title_cell": "Table of Contents",
   "title_sidebar": "Contents",
   "toc_cell": true,
   "toc_position": {
    "height": "calc(100% - 180px)",
    "left": "10px",
    "top": "150px",
    "width": "364.844px"
   },
   "toc_section_display": true,
   "toc_window_display": true
  }
 },
 "nbformat": 4,
 "nbformat_minor": 5
}
