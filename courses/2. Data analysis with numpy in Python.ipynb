{
 "cells": [
  {
   "cell_type": "markdown",
   "id": "2d9452fc",
   "metadata": {},
   "source": [
    "# Python: Data analysis with numpy"
   ]
  },
  {
   "cell_type": "markdown",
   "id": "7574f967",
   "metadata": {},
   "source": [
    "**Goal**: perform statistical computations and interprete the results!"
   ]
  },
  {
   "cell_type": "markdown",
   "id": "14fc4d3a",
   "metadata": {},
   "source": [
    "## Goal"
   ]
  },
  {
   "cell_type": "markdown",
   "id": "2d7254f6",
   "metadata": {},
   "source": [
    "The **goal** of this part is to analyze the data of the dataset world_alcohol with numpy. As a reminder, this dataset lists the alcohol consumption by country. We will look at which countries consume the most alcohol per population."
   ]
  },
  {
   "cell_type": "code",
   "execution_count": 1,
   "id": "f9c13b33",
   "metadata": {},
   "outputs": [],
   "source": [
    "import numpy as np"
   ]
  },
  {
   "cell_type": "code",
   "execution_count": 2,
   "id": "1df60999",
   "metadata": {},
   "outputs": [
    {
     "data": {
      "text/plain": [
       "array([['Year', 'WHO region', 'Country', 'Beverage Types',\n",
       "        'Display Value'],\n",
       "       ['1986', 'Western Pacific', 'Viet Nam', 'Wine', '0'],\n",
       "       ['1986', 'Americas', 'Uruguay', 'Other', '0.5'],\n",
       "       ...,\n",
       "       ['1986', 'Europe', 'Switzerland', 'Spirits', '2.54'],\n",
       "       ['1987', 'Western Pacific', 'Papua New Guinea', 'Other', '0'],\n",
       "       ['1986', 'Africa', 'Swaziland', 'Other', '5.15']], dtype='<U75')"
      ]
     },
     "execution_count": 2,
     "metadata": {},
     "output_type": "execute_result"
    }
   ],
   "source": [
    "world_alcohol = np.genfromtxt(\"world_alcohol.csv\", delimiter=\",\", dtype=\"U75\")\n",
    "world_alcohol"
   ]
  },
  {
   "cell_type": "markdown",
   "id": "42eb6f2f",
   "metadata": {},
   "source": [
    "## Perform comparisons"
   ]
  },
  {
   "cell_type": "markdown",
   "id": "b4e91d3b",
   "metadata": {},
   "source": [
    "In this section, we will learn how to perform comparisons with numpy. These last will return booleans (True or False)."
   ]
  },
  {
   "cell_type": "code",
   "execution_count": 3,
   "id": "ac50b563",
   "metadata": {},
   "outputs": [
    {
     "data": {
      "text/plain": [
       "array([ 5, 10, 15, 20])"
      ]
     },
     "execution_count": 3,
     "metadata": {},
     "output_type": "execute_result"
    }
   ],
   "source": [
    "# example for vector\n",
    "vector = np.array([5, 10, 15, 20])\n",
    "vector"
   ]
  },
  {
   "cell_type": "code",
   "execution_count": 4,
   "id": "4a741a13",
   "metadata": {},
   "outputs": [
    {
     "data": {
      "text/plain": [
       "array([ True, False, False, False])"
      ]
     },
     "execution_count": 4,
     "metadata": {},
     "output_type": "execute_result"
    }
   ],
   "source": [
    "vector == 5"
   ]
  },
  {
   "cell_type": "code",
   "execution_count": 5,
   "id": "5536fc51",
   "metadata": {},
   "outputs": [
    {
     "data": {
      "text/plain": [
       "array([[ 5, 10, 15],\n",
       "       [20, 25, 30],\n",
       "       [35, 40, 45]])"
      ]
     },
     "execution_count": 5,
     "metadata": {},
     "output_type": "execute_result"
    }
   ],
   "source": [
    "# example for matrix\n",
    "matrix = np.array([[5,10,15], [20,25,30], [35,40,45]])\n",
    "matrix"
   ]
  },
  {
   "cell_type": "code",
   "execution_count": 6,
   "id": "797960f8",
   "metadata": {},
   "outputs": [
    {
     "data": {
      "text/plain": [
       "array([[False, False, False],\n",
       "       [False,  True, False],\n",
       "       [False, False, False]])"
      ]
     },
     "execution_count": 6,
     "metadata": {},
     "output_type": "execute_result"
    }
   ],
   "source": [
    "matrix == 25"
   ]
  },
  {
   "cell_type": "markdown",
   "id": "9cc68f75",
   "metadata": {},
   "source": [
    "### Training"
   ]
  },
  {
   "cell_type": "markdown",
   "id": "83282cfc",
   "metadata": {},
   "source": [
    "In this practice, we will try to answer the following questions:\n",
    "\n",
    "* extract the 3rd column of world_alcohol and compare it to the country \"Canada\", assign the result to the variable countries_canada\n",
    "\n",
    "* extract the first column of world_alcohol and compare it to the string \"1984\", assign the result to the variable years_1984"
   ]
  },
  {
   "cell_type": "code",
   "execution_count": 7,
   "id": "a36a3683",
   "metadata": {},
   "outputs": [
    {
     "data": {
      "text/plain": [
       "array([['1986', 'Western Pacific', 'Viet Nam', 'Wine', '0'],\n",
       "       ['1986', 'Americas', 'Uruguay', 'Other', '0.5'],\n",
       "       ['1985', 'Africa', \"Cte d'Ivoire\", 'Wine', '1.62'],\n",
       "       ...,\n",
       "       ['1986', 'Europe', 'Switzerland', 'Spirits', '2.54'],\n",
       "       ['1987', 'Western Pacific', 'Papua New Guinea', 'Other', '0'],\n",
       "       ['1986', 'Africa', 'Swaziland', 'Other', '5.15']], dtype='<U75')"
      ]
     },
     "execution_count": 7,
     "metadata": {},
     "output_type": "execute_result"
    }
   ],
   "source": [
    "world_alcohol = np.genfromtxt(\"world_alcohol.csv\", delimiter=\",\", dtype=\"U75\", skip_header=1)\n",
    "world_alcohol"
   ]
  },
  {
   "cell_type": "code",
   "execution_count": 8,
   "id": "ccc8e86c",
   "metadata": {},
   "outputs": [
    {
     "data": {
      "text/plain": [
       "array([False, False, False, ..., False, False, False])"
      ]
     },
     "execution_count": 8,
     "metadata": {},
     "output_type": "execute_result"
    }
   ],
   "source": [
    "countries_canada = (world_alcohol[:,2] == \"Canada\")\n",
    "countries_canada"
   ]
  },
  {
   "cell_type": "code",
   "execution_count": 9,
   "id": "f7b788a9",
   "metadata": {},
   "outputs": [
    {
     "data": {
      "text/plain": [
       "array([False, False, False, ..., False, False, False])"
      ]
     },
     "execution_count": 9,
     "metadata": {},
     "output_type": "execute_result"
    }
   ],
   "source": [
    "years_1984 = (world_alcohol[:,0] == \"1984\")\n",
    "years_1984"
   ]
  },
  {
   "cell_type": "markdown",
   "id": "d613266a",
   "metadata": {},
   "source": [
    "## Selecting items"
   ]
  },
  {
   "cell_type": "markdown",
   "id": "fee8cf25",
   "metadata": {},
   "source": [
    "In this section we will have how to select specific elements from a numpy array. To do this, we will use the comparisons made above, these return vectors or matrix of booleans that we will use to condition the selection of elements from a numpy array."
   ]
  },
  {
   "cell_type": "code",
   "execution_count": 10,
   "id": "9645e115",
   "metadata": {},
   "outputs": [
    {
     "name": "stdout",
     "output_type": "stream",
     "text": [
      "[ 5 10 15 20]\n"
     ]
    }
   ],
   "source": [
    "# example with vector\n",
    "print(vector)"
   ]
  },
  {
   "cell_type": "code",
   "execution_count": 11,
   "id": "9fe82ef4",
   "metadata": {},
   "outputs": [],
   "source": [
    "is_equal_to_20 = (vector == 20)\n",
    "vector_20 = vector[is_equal_to_20]"
   ]
  },
  {
   "cell_type": "code",
   "execution_count": 12,
   "id": "cf30b50d",
   "metadata": {},
   "outputs": [
    {
     "name": "stdout",
     "output_type": "stream",
     "text": [
      "[20]\n"
     ]
    }
   ],
   "source": [
    "print(vector_20)"
   ]
  },
  {
   "cell_type": "code",
   "execution_count": 13,
   "id": "73b37993",
   "metadata": {},
   "outputs": [
    {
     "name": "stdout",
     "output_type": "stream",
     "text": [
      "[[ 5 10 15]\n",
      " [20 25 30]\n",
      " [35 40 45]]\n"
     ]
    }
   ],
   "source": [
    "# example with matrix\n",
    "print(matrix)"
   ]
  },
  {
   "cell_type": "code",
   "execution_count": 14,
   "id": "4c25f353",
   "metadata": {},
   "outputs": [],
   "source": [
    "col_contain_25 = (matrix[:,1] == 25)\n",
    "matrix_row_contain_25 = matrix[col_contain_25,:]"
   ]
  },
  {
   "cell_type": "code",
   "execution_count": 15,
   "id": "23470a3c",
   "metadata": {},
   "outputs": [
    {
     "name": "stdout",
     "output_type": "stream",
     "text": [
      "[[20 25 30]]\n"
     ]
    }
   ],
   "source": [
    "print(matrix_row_contain_25)"
   ]
  },
  {
   "cell_type": "markdown",
   "id": "0526ea1d",
   "metadata": {},
   "source": [
    "### Training"
   ]
  },
  {
   "cell_type": "markdown",
   "id": "d5afc530",
   "metadata": {},
   "source": [
    "In this practice, we will try to answer the following questions:\n",
    "\n",
    "* compare the 3rd column of world_alcohol to the string \"Senegal\"\n",
    "\n",
    "* assign the result to the variable country_is_senegal\n",
    "\n",
    "* select only the lines of world_alcohol for which country_is_senegal is true\n",
    "\n",
    "* assign the result to the variable country_senegal\n",
    "\n",
    "* display the results\n",
    "\n",
    "* do the same work to retrieve all rows corresponding to the year \"1984\" and assign the result to the years_1984 variable"
   ]
  },
  {
   "cell_type": "code",
   "execution_count": 16,
   "id": "c83543ee",
   "metadata": {},
   "outputs": [],
   "source": [
    "country_is_senegal = (world_alcohol[:,2] == \"Senegal\")\n",
    "country_senegal = world_alcohol[country_is_senegal]"
   ]
  },
  {
   "cell_type": "code",
   "execution_count": 17,
   "id": "c79ba0dc",
   "metadata": {},
   "outputs": [
    {
     "name": "stdout",
     "output_type": "stream",
     "text": [
      "[['1989' 'Africa' 'Senegal' 'Beer' '0.28']\n",
      " ['1986' 'Africa' 'Senegal' 'Spirits' '0.02']\n",
      " ['1984' 'Africa' 'Senegal' 'Spirits' '0.05']\n",
      " ['1989' 'Africa' 'Senegal' 'Wine' '0.32']\n",
      " ['1986' 'Africa' 'Senegal' 'Wine' '0.22']\n",
      " ['1989' 'Africa' 'Senegal' 'Spirits' '0.01']\n",
      " ['1984' 'Africa' 'Senegal' 'Other' '0']\n",
      " ['1985' 'Africa' 'Senegal' 'Beer' '0.22']\n",
      " ['1985' 'Africa' 'Senegal' 'Spirits' '0.04']\n",
      " ['1987' 'Africa' 'Senegal' 'Other' '0']\n",
      " ['1987' 'Africa' 'Senegal' 'Beer' '0.26']\n",
      " ['1984' 'Africa' 'Senegal' 'Beer' '0.2']\n",
      " ['1985' 'Africa' 'Senegal' 'Wine' '0.19']\n",
      " ['1986' 'Africa' 'Senegal' 'Other' '0']\n",
      " ['1985' 'Africa' 'Senegal' 'Other' '0']\n",
      " ['1987' 'Africa' 'Senegal' 'Spirits' '0.04']\n",
      " ['1989' 'Africa' 'Senegal' 'Other' '0']\n",
      " ['1986' 'Africa' 'Senegal' 'Beer' '0.2']\n",
      " ['1984' 'Africa' 'Senegal' 'Wine' '0.33']\n",
      " ['1987' 'Africa' 'Senegal' 'Wine' '0.16']]\n"
     ]
    }
   ],
   "source": [
    "print(country_senegal)"
   ]
  },
  {
   "cell_type": "code",
   "execution_count": 18,
   "id": "bd83dd99",
   "metadata": {},
   "outputs": [],
   "source": [
    "years_is_1984 = (world_alcohol[:,0] == \"1984\")\n",
    "years_1984 = world_alcohol[years_is_1984]"
   ]
  },
  {
   "cell_type": "code",
   "execution_count": 19,
   "id": "4e5a0daa",
   "metadata": {},
   "outputs": [
    {
     "name": "stdout",
     "output_type": "stream",
     "text": [
      "[['1984' 'Africa' 'Nigeria' 'Other' '6.1']\n",
      " ['1984' 'Eastern Mediterranean' 'Afghanistan' 'Other' '0']\n",
      " ['1984' 'Americas' 'Costa Rica' 'Wine' '0.06']\n",
      " ...\n",
      " ['1984' 'Europe' 'Latvia' 'Spirits' '7.5']\n",
      " ['1984' 'Africa' 'Angola' 'Wine' '0.57']\n",
      " ['1984' 'Africa' 'Central African Republic' 'Wine' '0.46']]\n"
     ]
    }
   ],
   "source": [
    "print(years_1984)"
   ]
  },
  {
   "cell_type": "markdown",
   "id": "38588398",
   "metadata": {},
   "source": [
    "## Perform comparisons with multiple conditions"
   ]
  },
  {
   "cell_type": "markdown",
   "id": "3b228bb8",
   "metadata": {},
   "source": [
    "As a reminder, comparisons are the key concepts in numpy tables for selecting the desired elements. To realize multiple conditions, we use the ```&``` and ```|``` operators. Do not hesitate to use brackets to improve the reading of the code and to avoid mistakes."
   ]
  },
  {
   "cell_type": "code",
   "execution_count": 20,
   "id": "9ba379ae",
   "metadata": {},
   "outputs": [
    {
     "data": {
      "text/plain": [
       "array([ 5, 10, 15, 20])"
      ]
     },
     "execution_count": 20,
     "metadata": {},
     "output_type": "execute_result"
    }
   ],
   "source": [
    "# example with vector\n",
    "vector"
   ]
  },
  {
   "cell_type": "code",
   "execution_count": 21,
   "id": "3ad16ccb",
   "metadata": {},
   "outputs": [
    {
     "data": {
      "text/plain": [
       "array([False, False, False, False])"
      ]
     },
     "execution_count": 21,
     "metadata": {},
     "output_type": "execute_result"
    }
   ],
   "source": [
    "equal_to_5_and_10 = ((vector == 5) & (vector == 10))\n",
    "equal_to_5_and_10"
   ]
  },
  {
   "cell_type": "code",
   "execution_count": 22,
   "id": "e57952b4",
   "metadata": {},
   "outputs": [
    {
     "data": {
      "text/plain": [
       "array([ True,  True, False, False])"
      ]
     },
     "execution_count": 22,
     "metadata": {},
     "output_type": "execute_result"
    }
   ],
   "source": [
    "equal_to_5_or_10 = ((vector == 5) | (vector == 10))\n",
    "equal_to_5_or_10"
   ]
  },
  {
   "cell_type": "markdown",
   "id": "645907f6",
   "metadata": {},
   "source": [
    "### Training"
   ]
  },
  {
   "cell_type": "markdown",
   "id": "ad5f28e5",
   "metadata": {},
   "source": [
    "In this practice, we will try to answer the following questions:\n",
    "\n",
    "* select the rows where the country is \"Senegal\" and the year is \"1986\"\n",
    "* create this double comparison and assign the result to the variable is_senegal_and_1986\n",
    "* use the variable is_senegal_and_1986 to select the corresponding rows in the table world_alcohol\n",
    "* assign the result to the variable rows_with_senegal_and_1986\n",
    "* display the result"
   ]
  },
  {
   "cell_type": "code",
   "execution_count": 23,
   "id": "b6a5409e",
   "metadata": {},
   "outputs": [],
   "source": [
    "is_senegal_and_1986 = ((world_alcohol[:,2] == \"Senegal\") & (world_alcohol[:,0] == \"1984\"))\n",
    "rows_with_senegal_and_1986 = world_alcohol[is_senegal_and_1986]"
   ]
  },
  {
   "cell_type": "code",
   "execution_count": 24,
   "id": "1d517464",
   "metadata": {},
   "outputs": [
    {
     "name": "stdout",
     "output_type": "stream",
     "text": [
      "[['1984' 'Africa' 'Senegal' 'Spirits' '0.05']\n",
      " ['1984' 'Africa' 'Senegal' 'Other' '0']\n",
      " ['1984' 'Africa' 'Senegal' 'Beer' '0.2']\n",
      " ['1984' 'Africa' 'Senegal' 'Wine' '0.33']]\n"
     ]
    }
   ],
   "source": [
    "print(rows_with_senegal_and_1986)"
   ]
  },
  {
   "cell_type": "markdown",
   "id": "e745f31d",
   "metadata": {},
   "source": [
    "## Replace values in a numpy array"
   ]
  },
  {
   "cell_type": "code",
   "execution_count": 25,
   "id": "e70ac89c",
   "metadata": {},
   "outputs": [
    {
     "data": {
      "text/plain": [
       "array([ 5, 10, 15, 20])"
      ]
     },
     "execution_count": 25,
     "metadata": {},
     "output_type": "execute_result"
    }
   ],
   "source": [
    "# example with vector\n",
    "vector"
   ]
  },
  {
   "cell_type": "code",
   "execution_count": 26,
   "id": "cfeb85c4",
   "metadata": {},
   "outputs": [
    {
     "data": {
      "text/plain": [
       "array([ True,  True, False, False])"
      ]
     },
     "execution_count": 26,
     "metadata": {},
     "output_type": "execute_result"
    }
   ],
   "source": [
    "equal_to_5_or_10"
   ]
  },
  {
   "cell_type": "code",
   "execution_count": 27,
   "id": "6e8c52c8",
   "metadata": {},
   "outputs": [],
   "source": [
    "vector[equal_to_5_or_10] = 10"
   ]
  },
  {
   "cell_type": "code",
   "execution_count": 28,
   "id": "02263bf6",
   "metadata": {},
   "outputs": [
    {
     "data": {
      "text/plain": [
       "array([10, 10, 15, 20])"
      ]
     },
     "execution_count": 28,
     "metadata": {},
     "output_type": "execute_result"
    }
   ],
   "source": [
    "vector"
   ]
  },
  {
   "cell_type": "code",
   "execution_count": 29,
   "id": "56d0070b",
   "metadata": {},
   "outputs": [
    {
     "data": {
      "text/plain": [
       "array([[ 5, 10, 15],\n",
       "       [20, 25, 30],\n",
       "       [35, 40, 45]])"
      ]
     },
     "execution_count": 29,
     "metadata": {},
     "output_type": "execute_result"
    }
   ],
   "source": [
    "# example for matrix\n",
    "matrix"
   ]
  },
  {
   "cell_type": "code",
   "execution_count": 30,
   "id": "4eb9669e",
   "metadata": {},
   "outputs": [
    {
     "data": {
      "text/plain": [
       "array([False,  True, False])"
      ]
     },
     "execution_count": 30,
     "metadata": {},
     "output_type": "execute_result"
    }
   ],
   "source": [
    "second_column_25 = (matrix[:,1] == 25)\n",
    "second_column_25"
   ]
  },
  {
   "cell_type": "code",
   "execution_count": 31,
   "id": "2fe7dd39",
   "metadata": {},
   "outputs": [],
   "source": [
    "matrix[second_column_25, 1] = 50"
   ]
  },
  {
   "cell_type": "code",
   "execution_count": 32,
   "id": "43c326cf",
   "metadata": {},
   "outputs": [
    {
     "data": {
      "text/plain": [
       "array([[ 5, 10, 15],\n",
       "       [20, 50, 30],\n",
       "       [35, 40, 45]])"
      ]
     },
     "execution_count": 32,
     "metadata": {},
     "output_type": "execute_result"
    }
   ],
   "source": [
    "matrix"
   ]
  },
  {
   "cell_type": "markdown",
   "id": "11085242",
   "metadata": {},
   "source": [
    "### Training"
   ]
  },
  {
   "cell_type": "markdown",
   "id": "5377f807",
   "metadata": {},
   "source": [
    "In this practice, we will try to answer the following questions:\n",
    "\n",
    "* create a numpy array world_alcohol_2 equal world_alcohol to duplicate it under another name\n",
    "* replace all the years \"1986\" in the first column of world_alcohol_2 with \"2018\"\n",
    "* replace all \"Wine\" alcohols in the 4th column of world_alcohol_2 with \"Beer\""
   ]
  },
  {
   "cell_type": "code",
   "execution_count": 33,
   "id": "a7b90455",
   "metadata": {},
   "outputs": [
    {
     "data": {
      "text/plain": [
       "array([['1986', 'Western Pacific', 'Viet Nam', 'Wine', '0'],\n",
       "       ['1986', 'Americas', 'Uruguay', 'Other', '0.5'],\n",
       "       ['1985', 'Africa', \"Cte d'Ivoire\", 'Wine', '1.62'],\n",
       "       ...,\n",
       "       ['1986', 'Europe', 'Switzerland', 'Spirits', '2.54'],\n",
       "       ['1987', 'Western Pacific', 'Papua New Guinea', 'Other', '0'],\n",
       "       ['1986', 'Africa', 'Swaziland', 'Other', '5.15']], dtype='<U75')"
      ]
     },
     "execution_count": 33,
     "metadata": {},
     "output_type": "execute_result"
    }
   ],
   "source": [
    "world_alcohol_2 = world_alcohol.copy()\n",
    "world_alcohol_2"
   ]
  },
  {
   "cell_type": "code",
   "execution_count": 34,
   "id": "2d91def1",
   "metadata": {},
   "outputs": [
    {
     "data": {
      "text/plain": [
       "array([['2018', 'Western Pacific', 'Viet Nam', 'Wine', '0'],\n",
       "       ['2018', 'Americas', 'Uruguay', 'Other', '0.5'],\n",
       "       ['1985', 'Africa', \"Cte d'Ivoire\", 'Wine', '1.62'],\n",
       "       ...,\n",
       "       ['2018', 'Europe', 'Switzerland', 'Spirits', '2.54'],\n",
       "       ['1987', 'Western Pacific', 'Papua New Guinea', 'Other', '0'],\n",
       "       ['2018', 'Africa', 'Swaziland', 'Other', '5.15']], dtype='<U75')"
      ]
     },
     "execution_count": 34,
     "metadata": {},
     "output_type": "execute_result"
    }
   ],
   "source": [
    "world_alcohol_2[:,0][world_alcohol_2[:,0] == \"1986\"] = \"2018\"\n",
    "world_alcohol_2"
   ]
  },
  {
   "cell_type": "code",
   "execution_count": 35,
   "id": "495ee79c",
   "metadata": {},
   "outputs": [
    {
     "data": {
      "text/plain": [
       "array([['2018', 'Western Pacific', 'Viet Nam', 'Beer', '0'],\n",
       "       ['2018', 'Americas', 'Uruguay', 'Other', '0.5'],\n",
       "       ['1985', 'Africa', \"Cte d'Ivoire\", 'Beer', '1.62'],\n",
       "       ...,\n",
       "       ['2018', 'Europe', 'Switzerland', 'Spirits', '2.54'],\n",
       "       ['1987', 'Western Pacific', 'Papua New Guinea', 'Other', '0'],\n",
       "       ['2018', 'Africa', 'Swaziland', 'Other', '5.15']], dtype='<U75')"
      ]
     },
     "execution_count": 35,
     "metadata": {},
     "output_type": "execute_result"
    }
   ],
   "source": [
    "world_alcohol_2[:,3][world_alcohol_2[:,3] == \"Wine\"] = \"Beer\"\n",
    "world_alcohol_2"
   ]
  },
  {
   "cell_type": "markdown",
   "id": "05d09f95",
   "metadata": {},
   "source": [
    "## Replace empty strings"
   ]
  },
  {
   "cell_type": "markdown",
   "id": "6c51c617",
   "metadata": {},
   "source": [
    "In this practice, we will try to answer the following questions:\n",
    "\n",
    "* compare all the elements of the 5th column of world_alcohol with the empty string i.e. \"\n",
    "* assign the result to the variable is_value_empty\n",
    "* select all the values of the 5th column of world_alcohol for which is_value_empty is equal to True and finally replace them by the string '0'"
   ]
  },
  {
   "cell_type": "code",
   "execution_count": 36,
   "id": "f2072185",
   "metadata": {},
   "outputs": [
    {
     "data": {
      "text/plain": [
       "array([['1986', 'Western Pacific', 'Viet Nam', 'Wine', '0'],\n",
       "       ['1986', 'Americas', 'Uruguay', 'Other', '0.5'],\n",
       "       ['1985', 'Africa', \"Cte d'Ivoire\", 'Wine', '1.62'],\n",
       "       ...,\n",
       "       ['1986', 'Europe', 'Switzerland', 'Spirits', '2.54'],\n",
       "       ['1987', 'Western Pacific', 'Papua New Guinea', 'Other', '0'],\n",
       "       ['1986', 'Africa', 'Swaziland', 'Other', '5.15']], dtype='<U75')"
      ]
     },
     "execution_count": 36,
     "metadata": {},
     "output_type": "execute_result"
    }
   ],
   "source": [
    "is_value_empty = (world_alcohol[:,4] == '')\n",
    "world_alcohol[is_value_empty] = '0'\n",
    "world_alcohol"
   ]
  },
  {
   "cell_type": "markdown",
   "id": "1a6880ee",
   "metadata": {},
   "source": [
    "## Converting data types"
   ]
  },
  {
   "cell_type": "code",
   "execution_count": 37,
   "id": "fdd58cdd",
   "metadata": {},
   "outputs": [
    {
     "data": {
      "text/plain": [
       "array(['1', '2', '3', '4', '5'], dtype='<U1')"
      ]
     },
     "execution_count": 37,
     "metadata": {},
     "output_type": "execute_result"
    }
   ],
   "source": [
    "# example\n",
    "string_vector = np.array([\"1\", \"2\", \"3\", \"4\", \"5\"])\n",
    "string_vector"
   ]
  },
  {
   "cell_type": "code",
   "execution_count": 38,
   "id": "b390a15e",
   "metadata": {},
   "outputs": [
    {
     "data": {
      "text/plain": [
       "array([1., 2., 3., 4., 5.])"
      ]
     },
     "execution_count": 38,
     "metadata": {},
     "output_type": "execute_result"
    }
   ],
   "source": [
    "float_vector = string_vector.astype(float)\n",
    "float_vector"
   ]
  },
  {
   "cell_type": "code",
   "execution_count": 39,
   "id": "a0f51262",
   "metadata": {},
   "outputs": [
    {
     "data": {
      "text/plain": [
       "array([1, 2, 3, 4, 5])"
      ]
     },
     "execution_count": 39,
     "metadata": {},
     "output_type": "execute_result"
    }
   ],
   "source": [
    "int_vector = string_vector.astype(int)\n",
    "int_vector"
   ]
  },
  {
   "cell_type": "markdown",
   "id": "a39d9565",
   "metadata": {},
   "source": [
    "### Training"
   ]
  },
  {
   "cell_type": "markdown",
   "id": "3660c640",
   "metadata": {},
   "source": [
    "In this practice, we will try to answer the following questions:\n",
    "\n",
    "* extract the 5th column of world alcohol and assign the result to the variable alcohol_consumption\n",
    "* use the astype() method to convert alcohol_consumption to decimal (float)"
   ]
  },
  {
   "cell_type": "code",
   "execution_count": 40,
   "id": "80240ade",
   "metadata": {},
   "outputs": [
    {
     "data": {
      "text/plain": [
       "array([0.  , 0.5 , 1.62, ..., 2.54, 0.  , 5.15])"
      ]
     },
     "execution_count": 40,
     "metadata": {},
     "output_type": "execute_result"
    }
   ],
   "source": [
    "alcohol_consumption = world_alcohol[:,4]\n",
    "alcohol_consumption = alcohol_consumption.astype(float)\n",
    "alcohol_consumption"
   ]
  },
  {
   "cell_type": "markdown",
   "id": "08dd4894",
   "metadata": {},
   "source": [
    "## Performing mathematical computations with numpy"
   ]
  },
  {
   "cell_type": "code",
   "execution_count": 41,
   "id": "6a8e312c",
   "metadata": {},
   "outputs": [
    {
     "data": {
      "text/plain": [
       "array([10, 10, 15, 20])"
      ]
     },
     "execution_count": 41,
     "metadata": {},
     "output_type": "execute_result"
    }
   ],
   "source": [
    "# example with vector\n",
    "vector"
   ]
  },
  {
   "cell_type": "code",
   "execution_count": 42,
   "id": "139af3cf",
   "metadata": {},
   "outputs": [
    {
     "data": {
      "text/plain": [
       "55"
      ]
     },
     "execution_count": 42,
     "metadata": {},
     "output_type": "execute_result"
    }
   ],
   "source": [
    "# sum()\n",
    "vector.sum()"
   ]
  },
  {
   "cell_type": "code",
   "execution_count": 43,
   "id": "dc3548ed",
   "metadata": {},
   "outputs": [
    {
     "data": {
      "text/plain": [
       "13.75"
      ]
     },
     "execution_count": 43,
     "metadata": {},
     "output_type": "execute_result"
    }
   ],
   "source": [
    "# mean()\n",
    "vector.mean()"
   ]
  },
  {
   "cell_type": "code",
   "execution_count": 44,
   "id": "6c522296",
   "metadata": {},
   "outputs": [
    {
     "data": {
      "text/plain": [
       "20"
      ]
     },
     "execution_count": 44,
     "metadata": {},
     "output_type": "execute_result"
    }
   ],
   "source": [
    "# max()\n",
    "vector.max()"
   ]
  },
  {
   "cell_type": "code",
   "execution_count": 45,
   "id": "e6ca931d",
   "metadata": {},
   "outputs": [
    {
     "data": {
      "text/plain": [
       "array([[ 5, 10, 15],\n",
       "       [20, 50, 30],\n",
       "       [35, 40, 45]])"
      ]
     },
     "execution_count": 45,
     "metadata": {},
     "output_type": "execute_result"
    }
   ],
   "source": [
    "# example with matrix\n",
    "matrix"
   ]
  },
  {
   "cell_type": "code",
   "execution_count": 46,
   "id": "823dbd96",
   "metadata": {},
   "outputs": [
    {
     "data": {
      "text/plain": [
       "array([ 30, 100, 120])"
      ]
     },
     "execution_count": 46,
     "metadata": {},
     "output_type": "execute_result"
    }
   ],
   "source": [
    "# sum on the rows\n",
    "matrix.sum(axis=1)"
   ]
  },
  {
   "cell_type": "code",
   "execution_count": 47,
   "id": "cf75d542",
   "metadata": {},
   "outputs": [
    {
     "data": {
      "text/plain": [
       "array([ 60, 100,  90])"
      ]
     },
     "execution_count": 47,
     "metadata": {},
     "output_type": "execute_result"
    }
   ],
   "source": [
    "# sum on the columns\n",
    "matrix.sum(axis=0)"
   ]
  },
  {
   "cell_type": "markdown",
   "id": "56858861",
   "metadata": {},
   "source": [
    "### Training"
   ]
  },
  {
   "cell_type": "markdown",
   "id": "d71a8553",
   "metadata": {},
   "source": [
    "In this practice, we will try to answer the following questions:\n",
    "\n",
    "* use the sum() method to calculate the sum of the alcohol_consumption values and assign the result to the total_alcohol variable\n",
    "* use the method mean() to calculate the average of the values of alcohol_consumption and assign the result to the variable average_alcohol \n",
    "* display the results"
   ]
  },
  {
   "cell_type": "code",
   "execution_count": 48,
   "id": "bc3cc63d",
   "metadata": {},
   "outputs": [
    {
     "data": {
      "text/plain": [
       "3908.96"
      ]
     },
     "execution_count": 48,
     "metadata": {},
     "output_type": "execute_result"
    }
   ],
   "source": [
    "total_alcohol = alcohol_consumption.sum()\n",
    "total_alcohol"
   ]
  },
  {
   "cell_type": "code",
   "execution_count": 49,
   "id": "13a1c43a",
   "metadata": {},
   "outputs": [
    {
     "data": {
      "text/plain": [
       "1.2001719373656738"
      ]
     },
     "execution_count": 49,
     "metadata": {},
     "output_type": "execute_result"
    }
   ],
   "source": [
    "average_alcohol = alcohol_consumption.mean()\n",
    "average_alcohol"
   ]
  },
  {
   "cell_type": "markdown",
   "id": "63572484",
   "metadata": {},
   "source": [
    "## Calculate the total annual consumption"
   ]
  },
  {
   "cell_type": "markdown",
   "id": "5dc22739",
   "metadata": {},
   "source": [
    "In this practice, we will try to answer the following questions:\n",
    "\n",
    "* create a matrix named france_1986 which contains all the rows of world_alcohol corresponding to the year \"1986\" and the country \"France\"\n",
    "* extract the 5th column of france_1986, replace any empty string (\") with '0' and convert the column to decimal (float) and assign the result to the variable france_alcohol\n",
    "* calculate the sum of france_alcohol and assign the result to the variable total_france_drinking\n",
    "* display the result"
   ]
  },
  {
   "cell_type": "code",
   "execution_count": 50,
   "id": "32a82f98",
   "metadata": {},
   "outputs": [
    {
     "data": {
      "text/plain": [
       "array([['1986', 'Europe', 'France', 'Other', '0.25'],\n",
       "       ['1986', 'Europe', 'France', 'Spirits', '2.71'],\n",
       "       ['1986', 'Europe', 'France', 'Beer', '2.55'],\n",
       "       ['1986', 'Europe', 'France', 'Wine', '10.62']], dtype='<U75')"
      ]
     },
     "execution_count": 50,
     "metadata": {},
     "output_type": "execute_result"
    }
   ],
   "source": [
    "france_1986 = world_alcohol[(world_alcohol[:,0] == \"1986\") & (world_alcohol[:,2] == \"France\"),:]\n",
    "france_1986"
   ]
  },
  {
   "cell_type": "code",
   "execution_count": 51,
   "id": "4ce996f6",
   "metadata": {},
   "outputs": [
    {
     "data": {
      "text/plain": [
       "array(['0.25', '2.71', '2.55', '10.62'], dtype='<U75')"
      ]
     },
     "execution_count": 51,
     "metadata": {},
     "output_type": "execute_result"
    }
   ],
   "source": [
    "france_alcohol = france_1986[:,4]\n",
    "france_alcohol"
   ]
  },
  {
   "cell_type": "code",
   "execution_count": 52,
   "id": "4ec3b11b",
   "metadata": {},
   "outputs": [
    {
     "data": {
      "text/plain": [
       "array([ 0.25,  2.71,  2.55, 10.62])"
      ]
     },
     "execution_count": 52,
     "metadata": {},
     "output_type": "execute_result"
    }
   ],
   "source": [
    "france_alcohol[france_alcohol == ''] = \"0\"\n",
    "france_alcohol = france_alcohol.astype(float)\n",
    "france_alcohol"
   ]
  },
  {
   "cell_type": "code",
   "execution_count": 53,
   "id": "61961896",
   "metadata": {},
   "outputs": [
    {
     "data": {
      "text/plain": [
       "16.13"
      ]
     },
     "execution_count": 53,
     "metadata": {},
     "output_type": "execute_result"
    }
   ],
   "source": [
    "total_france_drinking = france_alcohol.sum()\n",
    "total_france_drinking"
   ]
  },
  {
   "cell_type": "markdown",
   "id": "148817f1",
   "metadata": {},
   "source": [
    "## Calculate the consumption for each country"
   ]
  },
  {
   "cell_type": "markdown",
   "id": "3c705f08",
   "metadata": {},
   "source": [
    "In this practice, we will try to answer the following questions:\n",
    "\n",
    "* first of all, we create an empty dictionary which will contain all the countries and their associated alcohol consumption, we will named it totals\n",
    "* then select the rows of world_alcohol corresponding to the given year, say 1989 and assign the result to the year variable\n",
    "* select all the countries in a list called countries\n",
    "* go through all the countries in the list using a loop and for each country:\n",
    "    * select the lines of year corresponding to this country\n",
    "    * assign the result to the variable country_consumption\n",
    "    * extract the 5th column of country_consumption\n",
    "    * replace any empty string in this column with 0\n",
    "    * convert the column into a decimal (float)\n",
    "    * calculate the sum of the column\n",
    "    * add the sum to the totals dictionary, with the country name as key and the sum as value\n",
    "* display the dictionary totals"
   ]
  },
  {
   "cell_type": "code",
   "execution_count": 54,
   "id": "74f43719",
   "metadata": {},
   "outputs": [],
   "source": [
    "totals = {}\n",
    "\n",
    "year = world_alcohol[world_alcohol[:,0] == \"1989\",:]\n",
    "countries = world_alcohol[:,2]\n",
    "\n",
    "for country in countries:\n",
    "    country_consumption = year[year[:,2] == country,:]\n",
    "    alcohol_consumption = country_consumption[:,4]\n",
    "    alcohol_consumption[alcohol_consumption == ''] = \"0\"\n",
    "    alcohol_consumption = alcohol_consumption.astype(float)\n",
    "    totals[country] = alcohol_consumption.sum()"
   ]
  },
  {
   "cell_type": "code",
   "execution_count": 55,
   "id": "9aefbdf3",
   "metadata": {},
   "outputs": [
    {
     "name": "stdout",
     "output_type": "stream",
     "text": [
      "{'Viet Nam': 0.16, 'Uruguay': 7.4399999999999995, \"Cte d'Ivoire\": 2.2, 'Colombia': 6.960000000000001, 'Saint Kitts and Nevis': 4.65, 'Guatemala': 2.47, 'Mauritius': 3.54, 'Angola': 2.28, 'Antigua and Barbuda': 4.69, 'Nigeria': 6.74, 'Botswana': 4.63, \"Lao People's Democratic Republic\": 5.95, 'Afghanistan': 0.0, 'Guinea-Bissau': 2.67, 'Costa Rica': 5.3999999999999995, 'Seychelles': 3.3000000000000003, 'Norway': 5.08, 'Kenya': 2.82, 'Myanmar': 0.16, 'Romania': 8.41, 'Turkey': 0.72, '0': 0.0, 'Tunisia': 0.95, 'United Kingdom of Great Britain and Northern Ireland': 9.99, 'Bahrain': 4.89, 'Sierra Leone': 4.380000000000001, 'Micronesia (Federated States of)': 0.0, 'Mauritania': 0.02, 'Russian Federation': 5.35, 'Egypt': 0.42000000000000004, 'Sweden': 7.47, 'Qatar': 1.4500000000000002, 'Burkina Faso': 3.99, 'Austria': 13.9, 'Czech Republic': 13.009999999999998, 'Ukraine': 5.32, 'China': 3.33, 'Zimbabwe': 4.92, 'Trinidad and Tobago': 4.68, 'Mexico': 5.1, 'Nicaragua': 2.5, 'Malta': 7.13, 'Switzerland': 13.849999999999998, 'Finland': 9.419999999999998, 'Saudi Arabia': 0.15, 'Kuwait': 0.0, 'El Salvador': 1.77, 'Suriname': 3.67, 'Croatia': 10.92, 'Somalia': 0.0, 'Syrian Arab Republic': 0.54, 'Iran (Islamic Republic of)': 0.0, 'Papua New Guinea': 1.1099999999999999, 'Libya': 0.0, 'Bolivia (Plurinational State of)': 3.05, 'Iraq': 0.75, 'Namibia': 0.24, 'Uganda': 7.8, 'Togo': 2.2199999999999998, 'Madagascar': 1.38, 'Mali': 0.6699999999999999, 'Pakistan': 0.02, 'Comoros': 0.10999999999999999, 'Cameroon': 6.359999999999999, 'Jamaica': 3.03, 'Malawi': 1.02, 'Netherlands': 10.030000000000001, 'Ireland': 11.79, 'Sri Lanka': 0.14, 'Democratic Republic of the Congo': 1.92, 'Bahamas': 12.290000000000001, 'Lebanon': 3.94, 'Bulgaria': 11.43, 'Eritrea': 0.29, 'Niger': 0.11, 'Luxembourg': 15.21, 'Indonesia': 0.07, 'Equatorial Guinea': 6.49, \"Democratic People's Republic of Korea\": 3.6799999999999997, 'Chile': 8.649999999999999, 'Central African Republic': 2.5199999999999996, 'Spain': 13.280000000000001, 'Gambia': 1.6300000000000001, 'Ghana': 1.8599999999999999, 'Brazil': 5.52, 'Portugal': 15.350000000000001, 'Burundi': 8.159999999999998, 'Belgium': 11.61, 'Paraguay': 6.51, 'Hungary': 16.29, 'Greece': 10.15, 'India': 1.66, 'Kyrgyzstan': 4.279999999999999, 'France': 16.05, 'Zambia': 3.37, 'Israel': 2.0300000000000002, 'Swaziland': 6.68, 'Canada': 9.0, 'Cabo Verde': 2.79, 'United Arab Emirates': 4.43, 'Peru': 4.99, 'Solomon Islands': 0.5800000000000001, 'United Republic of Tanzania': 5.9, 'Chad': 0.30000000000000004, 'Cuba': 4.37, 'Guyana': 9.940000000000001, 'Mongolia': 2.59, 'Australia': 12.09, 'Sao Tome and Principe': 2.57, 'Slovenia': 12.969999999999999, 'Benin': 1.3800000000000001, 'Algeria': 0.4, 'Venezuela (Bolivarian Republic of)': 7.87, 'Ecuador': 2.54, 'Iceland': 5.359999999999999, 'Liberia': 5.61, 'Yemen': 0.2, 'Sudan': 0.15, 'Belarus': 7.9799999999999995, 'Cyprus': 9.29, 'Vanuatu': 1.74, 'Bangladesh': 0.0, 'Philippines': 3.78, 'Slovakia': 12.700000000000001, 'United States of America': 9.16, 'Poland': 9.33, 'Senegal': 0.6100000000000001, 'Honduras': 2.15, 'Bhutan': 0.31, 'Belize': 0.0, 'Lesotho': 2.02, 'Singapore': 1.61, 'Guinea': 0.21, 'Brunei Darussalam': 2.7800000000000002, 'Congo': 3.1500000000000004, 'Thailand': 3.92, 'Djibouti': 0.87, 'Gabon': 9.34, 'Dominican Republic': 4.53, 'Morocco': 0.7, 'Italy': 10.899999999999999, 'New Zealand': 11.52, 'Denmark': 11.649999999999999, 'Samoa': 2.63, 'Argentina': 10.82, 'Oman': 1.03, 'Fiji': 1.9600000000000002, 'Kiribati': 0.48, 'Albania': 1.73, 'Nepal': 0.03, 'Malaysia': 0.68, 'Latvia': 7.039999999999999, 'Haiti': 5.81, 'South Africa': 9.21, 'Republic of Korea': 9.620000000000001, 'Japan': 7.74, 'Cambodia': 0.33, 'Mozambique': 0.39, 'Ethiopia': 0.8600000000000001, 'Panama': 4.6000000000000005, 'Germany': 14.64, 'Saint Lucia': 11.62, 'Rwanda': 7.549999999999999, 'Jordan': 0.19}\n"
     ]
    }
   ],
   "source": [
    "print(totals)"
   ]
  },
  {
   "cell_type": "markdown",
   "id": "69030a3a",
   "metadata": {},
   "source": [
    "## Find the country that consumes the most alcohol"
   ]
  },
  {
   "cell_type": "markdown",
   "id": "6439a3b4",
   "metadata": {},
   "source": [
    "In this practice, we will try to answer the following questions:\n",
    "\n",
    "* create a variable highest_value which will keep in memory the highest value of the dictionary totals. We set it to 0 to start with \n",
    "* create a similar variable named highest_key which will keep in memory the name of the country associated with the highest value and set it to None\n",
    "* browse each country in the totals dictionary and if the value associated with the country is greater than highest_value, assign the value in question to the highest_value variable and assign the corresponding key (country name) to the highest_key variable\n",
    "* display the country that consumes the most alcohol (variable highest_key)"
   ]
  },
  {
   "cell_type": "code",
   "execution_count": 56,
   "id": "0f4f0191",
   "metadata": {},
   "outputs": [],
   "source": [
    "highest_value = 0\n",
    "highest_key = None\n",
    "\n",
    "for country in totals:\n",
    "    consumption = totals[country]\n",
    "    \n",
    "    if highest_value < consumption:\n",
    "        highest_value = consumption\n",
    "        highest_key = country"
   ]
  },
  {
   "cell_type": "code",
   "execution_count": 57,
   "id": "eab14c91",
   "metadata": {},
   "outputs": [
    {
     "name": "stdout",
     "output_type": "stream",
     "text": [
      "Hungary : 16.29\n"
     ]
    }
   ],
   "source": [
    "print(highest_key, ':', highest_value)"
   ]
  }
 ],
 "metadata": {
  "kernelspec": {
   "display_name": "Python 3 (ipykernel)",
   "language": "python",
   "name": "python3"
  },
  "language_info": {
   "codemirror_mode": {
    "name": "ipython",
    "version": 3
   },
   "file_extension": ".py",
   "mimetype": "text/x-python",
   "name": "python",
   "nbconvert_exporter": "python",
   "pygments_lexer": "ipython3",
   "version": "3.9.7"
  }
 },
 "nbformat": 4,
 "nbformat_minor": 5
}
