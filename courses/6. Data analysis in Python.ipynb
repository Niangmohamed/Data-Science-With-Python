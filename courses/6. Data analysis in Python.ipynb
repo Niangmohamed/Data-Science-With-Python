{
 "cells": [
  {
   "cell_type": "markdown",
   "id": "a969fda9",
   "metadata": {},
   "source": [
    "# Python: Data Analysis"
   ]
  },
  {
   "cell_type": "markdown",
   "id": "76fe7ce6",
   "metadata": {},
   "source": [
    "**Goal**: analyze real data samples for trends!"
   ]
  },
  {
   "cell_type": "markdown",
   "id": "345c30a3",
   "metadata": {
    "toc": true
   },
   "source": [
    "<h1>Table of Contents<span class=\"tocSkip\"></span></h1>\n",
    "<div class=\"toc\"><ul class=\"toc-item\"><li><span><a href=\"#Introduction-to-dataset\" data-toc-modified-id=\"Introduction-to-dataset-1\"><span class=\"toc-item-num\">1&nbsp;&nbsp;</span>Introduction to dataset</a></span></li><li><span><a href=\"#Number-of-students-by-major-category\" data-toc-modified-id=\"Number-of-students-by-major-category-2\"><span class=\"toc-item-num\">2&nbsp;&nbsp;</span>Number of students by major category</a></span></li><li><span><a href=\"#Rate-of-low-wage-jobs\" data-toc-modified-id=\"Rate-of-low-wage-jobs-3\"><span class=\"toc-item-num\">3&nbsp;&nbsp;</span>Rate of low wage jobs</a></span></li><li><span><a href=\"#Comparing-datasets\" data-toc-modified-id=\"Comparing-datasets-4\"><span class=\"toc-item-num\">4&nbsp;&nbsp;</span>Comparing datasets</a></span></li></ul></div>"
   ]
  },
  {
   "cell_type": "markdown",
   "id": "fe58724a",
   "metadata": {},
   "source": [
    "## Introduction to dataset"
   ]
  },
  {
   "cell_type": "markdown",
   "id": "e3b77844",
   "metadata": {},
   "source": [
    "For this challenge, we will use the datasets ``all-ages.csv`` and ``recent-grads.csv`` which collect data on purchasing power and employability. The ``all-ages.csv`` dataset corresponds to employment data by field of study for all ages. And the ``recent-grads.csv`` dataset lists employment data by field of study for recent university graduates. We will proceed to the analyses of these two datasets and make statistical computations."
   ]
  },
  {
   "cell_type": "code",
   "execution_count": 1,
   "id": "6e772b80",
   "metadata": {},
   "outputs": [],
   "source": [
    "import pandas as pd"
   ]
  },
  {
   "cell_type": "code",
   "execution_count": 2,
   "id": "33f7288a",
   "metadata": {},
   "outputs": [
    {
     "data": {
      "text/html": [
       "<div>\n",
       "<style scoped>\n",
       "    .dataframe tbody tr th:only-of-type {\n",
       "        vertical-align: middle;\n",
       "    }\n",
       "\n",
       "    .dataframe tbody tr th {\n",
       "        vertical-align: top;\n",
       "    }\n",
       "\n",
       "    .dataframe thead th {\n",
       "        text-align: right;\n",
       "    }\n",
       "</style>\n",
       "<table border=\"1\" class=\"dataframe\">\n",
       "  <thead>\n",
       "    <tr style=\"text-align: right;\">\n",
       "      <th></th>\n",
       "      <th>Major_code</th>\n",
       "      <th>Major</th>\n",
       "      <th>Major_category</th>\n",
       "      <th>Total</th>\n",
       "      <th>Employed</th>\n",
       "      <th>Employed_full_time_year_round</th>\n",
       "      <th>Unemployed</th>\n",
       "      <th>Unemployment_rate</th>\n",
       "      <th>Median</th>\n",
       "      <th>P25th</th>\n",
       "      <th>P75th</th>\n",
       "    </tr>\n",
       "  </thead>\n",
       "  <tbody>\n",
       "    <tr>\n",
       "      <th>0</th>\n",
       "      <td>1100</td>\n",
       "      <td>GENERAL AGRICULTURE</td>\n",
       "      <td>Agriculture &amp; Natural Resources</td>\n",
       "      <td>128148.0</td>\n",
       "      <td>90245.0</td>\n",
       "      <td>74078.0</td>\n",
       "      <td>2423.0</td>\n",
       "      <td>0.026147</td>\n",
       "      <td>50000.0</td>\n",
       "      <td>34000.0</td>\n",
       "      <td>80000.0</td>\n",
       "    </tr>\n",
       "    <tr>\n",
       "      <th>1</th>\n",
       "      <td>1101</td>\n",
       "      <td>AGRICULTURE PRODUCTION AND MANAGEMENT</td>\n",
       "      <td>Agriculture &amp; Natural Resources</td>\n",
       "      <td>95326.0</td>\n",
       "      <td>76865.0</td>\n",
       "      <td>64240.0</td>\n",
       "      <td>2266.0</td>\n",
       "      <td>0.028636</td>\n",
       "      <td>54000.0</td>\n",
       "      <td>36000.0</td>\n",
       "      <td>80000.0</td>\n",
       "    </tr>\n",
       "    <tr>\n",
       "      <th>2</th>\n",
       "      <td>1102</td>\n",
       "      <td>AGRICULTURAL ECONOMICS</td>\n",
       "      <td>Agriculture &amp; Natural Resources</td>\n",
       "      <td>33955.0</td>\n",
       "      <td>26321.0</td>\n",
       "      <td>22810.0</td>\n",
       "      <td>821.0</td>\n",
       "      <td>0.030248</td>\n",
       "      <td>63000.0</td>\n",
       "      <td>40000.0</td>\n",
       "      <td>98000.0</td>\n",
       "    </tr>\n",
       "    <tr>\n",
       "      <th>3</th>\n",
       "      <td>1103</td>\n",
       "      <td>ANIMAL SCIENCES</td>\n",
       "      <td>Agriculture &amp; Natural Resources</td>\n",
       "      <td>103549.0</td>\n",
       "      <td>81177.0</td>\n",
       "      <td>64937.0</td>\n",
       "      <td>3619.0</td>\n",
       "      <td>0.042679</td>\n",
       "      <td>46000.0</td>\n",
       "      <td>30000.0</td>\n",
       "      <td>72000.0</td>\n",
       "    </tr>\n",
       "    <tr>\n",
       "      <th>4</th>\n",
       "      <td>1104</td>\n",
       "      <td>FOOD SCIENCE</td>\n",
       "      <td>Agriculture &amp; Natural Resources</td>\n",
       "      <td>24280.0</td>\n",
       "      <td>17281.0</td>\n",
       "      <td>12722.0</td>\n",
       "      <td>894.0</td>\n",
       "      <td>0.049188</td>\n",
       "      <td>62000.0</td>\n",
       "      <td>38500.0</td>\n",
       "      <td>90000.0</td>\n",
       "    </tr>\n",
       "  </tbody>\n",
       "</table>\n",
       "</div>"
      ],
      "text/plain": [
       "  Major_code                                  Major  \\\n",
       "0       1100                    GENERAL AGRICULTURE   \n",
       "1       1101  AGRICULTURE PRODUCTION AND MANAGEMENT   \n",
       "2       1102                 AGRICULTURAL ECONOMICS   \n",
       "3       1103                        ANIMAL SCIENCES   \n",
       "4       1104                           FOOD SCIENCE   \n",
       "\n",
       "                    Major_category     Total  Employed  \\\n",
       "0  Agriculture & Natural Resources  128148.0   90245.0   \n",
       "1  Agriculture & Natural Resources   95326.0   76865.0   \n",
       "2  Agriculture & Natural Resources   33955.0   26321.0   \n",
       "3  Agriculture & Natural Resources  103549.0   81177.0   \n",
       "4  Agriculture & Natural Resources   24280.0   17281.0   \n",
       "\n",
       "   Employed_full_time_year_round  Unemployed  Unemployment_rate   Median  \\\n",
       "0                        74078.0      2423.0           0.026147  50000.0   \n",
       "1                        64240.0      2266.0           0.028636  54000.0   \n",
       "2                        22810.0       821.0           0.030248  63000.0   \n",
       "3                        64937.0      3619.0           0.042679  46000.0   \n",
       "4                        12722.0       894.0           0.049188  62000.0   \n",
       "\n",
       "     P25th    P75th  \n",
       "0  34000.0  80000.0  \n",
       "1  36000.0  80000.0  \n",
       "2  40000.0  98000.0  \n",
       "3  30000.0  72000.0  \n",
       "4  38500.0  90000.0  "
      ]
     },
     "execution_count": 2,
     "metadata": {},
     "output_type": "execute_result"
    }
   ],
   "source": [
    "all_ages = pd.read_csv(\"all-ages.csv\")\n",
    "all_ages.head()"
   ]
  },
  {
   "cell_type": "code",
   "execution_count": 3,
   "id": "9d2d6329",
   "metadata": {},
   "outputs": [
    {
     "data": {
      "text/plain": [
       "(173, 11)"
      ]
     },
     "execution_count": 3,
     "metadata": {},
     "output_type": "execute_result"
    }
   ],
   "source": [
    "all_ages.shape"
   ]
  },
  {
   "cell_type": "code",
   "execution_count": 4,
   "id": "e0c88e58",
   "metadata": {},
   "outputs": [
    {
     "data": {
      "text/html": [
       "<div>\n",
       "<style scoped>\n",
       "    .dataframe tbody tr th:only-of-type {\n",
       "        vertical-align: middle;\n",
       "    }\n",
       "\n",
       "    .dataframe tbody tr th {\n",
       "        vertical-align: top;\n",
       "    }\n",
       "\n",
       "    .dataframe thead th {\n",
       "        text-align: right;\n",
       "    }\n",
       "</style>\n",
       "<table border=\"1\" class=\"dataframe\">\n",
       "  <thead>\n",
       "    <tr style=\"text-align: right;\">\n",
       "      <th></th>\n",
       "      <th>Rank</th>\n",
       "      <th>Major_code</th>\n",
       "      <th>Major</th>\n",
       "      <th>Major_category</th>\n",
       "      <th>Total</th>\n",
       "      <th>Sample_size</th>\n",
       "      <th>Men</th>\n",
       "      <th>Women</th>\n",
       "      <th>ShareWomen</th>\n",
       "      <th>Employed</th>\n",
       "      <th>...</th>\n",
       "      <th>Part_time</th>\n",
       "      <th>Full_time_year_round</th>\n",
       "      <th>Unemployed</th>\n",
       "      <th>Unemployment_rate</th>\n",
       "      <th>Median</th>\n",
       "      <th>P25th</th>\n",
       "      <th>P75th</th>\n",
       "      <th>College_jobs</th>\n",
       "      <th>Non_college_jobs</th>\n",
       "      <th>Low_wage_jobs</th>\n",
       "    </tr>\n",
       "  </thead>\n",
       "  <tbody>\n",
       "    <tr>\n",
       "      <th>0</th>\n",
       "      <td>1</td>\n",
       "      <td>2419.0</td>\n",
       "      <td>PETROLEUM ENGINEERING</td>\n",
       "      <td>Engineering</td>\n",
       "      <td>2339.0</td>\n",
       "      <td>36.0</td>\n",
       "      <td>2057.0</td>\n",
       "      <td>282.0</td>\n",
       "      <td>0.120564</td>\n",
       "      <td>1976.0</td>\n",
       "      <td>...</td>\n",
       "      <td>270.0</td>\n",
       "      <td>1207.0</td>\n",
       "      <td>37.0</td>\n",
       "      <td>0.018381</td>\n",
       "      <td>110000.0</td>\n",
       "      <td>95000.0</td>\n",
       "      <td>125000.0</td>\n",
       "      <td>1534.0</td>\n",
       "      <td>364.0</td>\n",
       "      <td>193.0</td>\n",
       "    </tr>\n",
       "    <tr>\n",
       "      <th>1</th>\n",
       "      <td>2</td>\n",
       "      <td>2416.0</td>\n",
       "      <td>MINING AND MINERAL ENGINEERING</td>\n",
       "      <td>Engineering</td>\n",
       "      <td>756.0</td>\n",
       "      <td>7.0</td>\n",
       "      <td>679.0</td>\n",
       "      <td>77.0</td>\n",
       "      <td>0.101852</td>\n",
       "      <td>640.0</td>\n",
       "      <td>...</td>\n",
       "      <td>170.0</td>\n",
       "      <td>388.0</td>\n",
       "      <td>85.0</td>\n",
       "      <td>0.117241</td>\n",
       "      <td>75000.0</td>\n",
       "      <td>55000.0</td>\n",
       "      <td>90000.0</td>\n",
       "      <td>350.0</td>\n",
       "      <td>257.0</td>\n",
       "      <td>50.0</td>\n",
       "    </tr>\n",
       "    <tr>\n",
       "      <th>2</th>\n",
       "      <td>3</td>\n",
       "      <td>2415.0</td>\n",
       "      <td>METALLURGICAL ENGINEERING</td>\n",
       "      <td>Engineering</td>\n",
       "      <td>856.0</td>\n",
       "      <td>3.0</td>\n",
       "      <td>725.0</td>\n",
       "      <td>131.0</td>\n",
       "      <td>0.153037</td>\n",
       "      <td>648.0</td>\n",
       "      <td>...</td>\n",
       "      <td>133.0</td>\n",
       "      <td>340.0</td>\n",
       "      <td>16.0</td>\n",
       "      <td>0.024096</td>\n",
       "      <td>73000.0</td>\n",
       "      <td>50000.0</td>\n",
       "      <td>105000.0</td>\n",
       "      <td>456.0</td>\n",
       "      <td>176.0</td>\n",
       "      <td>0.0</td>\n",
       "    </tr>\n",
       "    <tr>\n",
       "      <th>3</th>\n",
       "      <td>4</td>\n",
       "      <td>2417.0</td>\n",
       "      <td>NAVAL ARCHITECTURE AND MARINE ENGINEERING</td>\n",
       "      <td>Engineering</td>\n",
       "      <td>1258.0</td>\n",
       "      <td>16.0</td>\n",
       "      <td>1123.0</td>\n",
       "      <td>135.0</td>\n",
       "      <td>0.107313</td>\n",
       "      <td>758.0</td>\n",
       "      <td>...</td>\n",
       "      <td>150.0</td>\n",
       "      <td>692.0</td>\n",
       "      <td>40.0</td>\n",
       "      <td>0.050125</td>\n",
       "      <td>70000.0</td>\n",
       "      <td>43000.0</td>\n",
       "      <td>80000.0</td>\n",
       "      <td>529.0</td>\n",
       "      <td>102.0</td>\n",
       "      <td>0.0</td>\n",
       "    </tr>\n",
       "    <tr>\n",
       "      <th>4</th>\n",
       "      <td>5</td>\n",
       "      <td>2405.0</td>\n",
       "      <td>CHEMICAL ENGINEERING</td>\n",
       "      <td>Engineering</td>\n",
       "      <td>32260.0</td>\n",
       "      <td>289.0</td>\n",
       "      <td>21239.0</td>\n",
       "      <td>11021.0</td>\n",
       "      <td>0.341631</td>\n",
       "      <td>25694.0</td>\n",
       "      <td>...</td>\n",
       "      <td>5180.0</td>\n",
       "      <td>16697.0</td>\n",
       "      <td>1672.0</td>\n",
       "      <td>0.061098</td>\n",
       "      <td>65000.0</td>\n",
       "      <td>50000.0</td>\n",
       "      <td>75000.0</td>\n",
       "      <td>18314.0</td>\n",
       "      <td>4440.0</td>\n",
       "      <td>972.0</td>\n",
       "    </tr>\n",
       "  </tbody>\n",
       "</table>\n",
       "<p>5 rows × 21 columns</p>\n",
       "</div>"
      ],
      "text/plain": [
       "  Rank  Major_code                                      Major Major_category  \\\n",
       "0    1      2419.0                      PETROLEUM ENGINEERING    Engineering   \n",
       "1    2      2416.0             MINING AND MINERAL ENGINEERING    Engineering   \n",
       "2    3      2415.0                  METALLURGICAL ENGINEERING    Engineering   \n",
       "3    4      2417.0  NAVAL ARCHITECTURE AND MARINE ENGINEERING    Engineering   \n",
       "4    5      2405.0                       CHEMICAL ENGINEERING    Engineering   \n",
       "\n",
       "     Total  Sample_size      Men    Women  ShareWomen  Employed  ...  \\\n",
       "0   2339.0         36.0   2057.0    282.0    0.120564    1976.0  ...   \n",
       "1    756.0          7.0    679.0     77.0    0.101852     640.0  ...   \n",
       "2    856.0          3.0    725.0    131.0    0.153037     648.0  ...   \n",
       "3   1258.0         16.0   1123.0    135.0    0.107313     758.0  ...   \n",
       "4  32260.0        289.0  21239.0  11021.0    0.341631   25694.0  ...   \n",
       "\n",
       "   Part_time  Full_time_year_round  Unemployed  Unemployment_rate    Median  \\\n",
       "0      270.0                1207.0        37.0           0.018381  110000.0   \n",
       "1      170.0                 388.0        85.0           0.117241   75000.0   \n",
       "2      133.0                 340.0        16.0           0.024096   73000.0   \n",
       "3      150.0                 692.0        40.0           0.050125   70000.0   \n",
       "4     5180.0               16697.0      1672.0           0.061098   65000.0   \n",
       "\n",
       "     P25th     P75th  College_jobs  Non_college_jobs  Low_wage_jobs  \n",
       "0  95000.0  125000.0        1534.0             364.0          193.0  \n",
       "1  55000.0   90000.0         350.0             257.0           50.0  \n",
       "2  50000.0  105000.0         456.0             176.0            0.0  \n",
       "3  43000.0   80000.0         529.0             102.0            0.0  \n",
       "4  50000.0   75000.0       18314.0            4440.0          972.0  \n",
       "\n",
       "[5 rows x 21 columns]"
      ]
     },
     "execution_count": 4,
     "metadata": {},
     "output_type": "execute_result"
    }
   ],
   "source": [
    "recent_grads = pd.read_csv(\"recent-grads.csv\")\n",
    "recent_grads.head()"
   ]
  },
  {
   "cell_type": "code",
   "execution_count": 5,
   "id": "8161a6ba",
   "metadata": {},
   "outputs": [
    {
     "data": {
      "text/plain": [
       "(173, 21)"
      ]
     },
     "execution_count": 5,
     "metadata": {},
     "output_type": "execute_result"
    }
   ],
   "source": [
    "recent_grads.shape"
   ]
  },
  {
   "cell_type": "markdown",
   "id": "aaebc075",
   "metadata": {},
   "source": [
    "In a nutshell, we will explain some of these columns. The ``Rank`` column represents the ranking of fields of study in relation to the median salaries of graduates. ``Major_code`` represents the numerical code of the major of the field of study. ``Total`` represents the total number of people who studied the major. ``Sample_size`` represents the sample of full-time students. ``ShareWomen`` is the proportion of women who took the major, etc."
   ]
  },
  {
   "cell_type": "markdown",
   "id": "4e601811",
   "metadata": {},
   "source": [
    "## Number of students by major category"
   ]
  },
  {
   "cell_type": "markdown",
   "id": "d5602662",
   "metadata": {},
   "source": [
    "In this section, we will try to answer the following questions:\n",
    "\n",
    "* return the unique values of Major_category:\n",
    "    * use the Series.unique() method to return the unique values of a series\n",
    "* for each unique value (use a for? loop):\n",
    "    * return all rows where Major_category is that unique value\n",
    "    * calculate the total number of students representing this major category (Total column to sum)\n",
    "    * you will keep this result in memory as a dictionary containing a Major_category as a key and the number of students as a value\n",
    "* create a function in which you will use the Total column to calculate the number of students for each Major_category in each dataset:\n",
    "    * store the result in 2 separate dictionaries.\n",
    "    * the key for each dictionary will be Major_category and the value will be the total number of students\n",
    "    * for the dataset all_ages, store the result in a dictionary named aa_car_counts\n",
    "    * for the recent_grads dataset, store the result in a dictionary named rg_cat_counts"
   ]
  },
  {
   "cell_type": "code",
   "execution_count": 6,
   "id": "c74eb372",
   "metadata": {},
   "outputs": [],
   "source": [
    "def compute_major_cat_totals(df):\n",
    "\n",
    "    cats = df['Major_category'].unique()\n",
    "    counts_dictionary = dict()\n",
    "\n",
    "    for c in cats:\n",
    "\n",
    "        major_df = df[df[\"Major_category\"] == c]\n",
    "        total = major_df[\"Total\"].sum()\n",
    "        counts_dictionary[c] = total\n",
    "\n",
    "    return counts_dictionary"
   ]
  },
  {
   "cell_type": "code",
   "execution_count": 7,
   "id": "023ed3c3",
   "metadata": {},
   "outputs": [
    {
     "data": {
      "text/plain": [
       "{'Agriculture & Natural Resources': 632437.0,\n",
       " 'Biology & Life Science': 1338186.0,\n",
       " 'Engineering': 3576013.0,\n",
       " 'Humanities & Liberal Arts': 3738335.0,\n",
       " 'Communications & Journalism': 1803822.0,\n",
       " 'Computers & Mathematics': 1781378.0,\n",
       " 'Industrial Arts & Consumer Services': 1018072.0,\n",
       " 'Education': 4700118.0,\n",
       " 'Law & Public Policy': 902926.0,\n",
       " 'Interdisciplinary': 45199.0,\n",
       " 'Health': 2950859.0,\n",
       " 'Social Science': 2654125.0,\n",
       " 'Physical Sciences': 1013152.0,\n",
       " nan: 0.0,\n",
       " 'Psychology & Social Work': 1987278.0,\n",
       " 'Arts': 1805865.0,\n",
       " 'Business': 9858741.0}"
      ]
     },
     "execution_count": 7,
     "metadata": {},
     "output_type": "execute_result"
    }
   ],
   "source": [
    "aa_cat_counts = compute_major_cat_totals(all_ages) \n",
    "aa_cat_counts"
   ]
  },
  {
   "cell_type": "code",
   "execution_count": 8,
   "id": "3ac1e3c9",
   "metadata": {},
   "outputs": [
    {
     "data": {
      "text/plain": [
       "{'Engineering': 537583.0,\n",
       " 'Business': 1302376.0,\n",
       " 'Physical Sciences': 183363.0,\n",
       " 'Law & Public Policy': 179107.0,\n",
       " 'Computers & Mathematics': 299008.0,\n",
       " 'Agriculture & Natural Resources': 79981.0,\n",
       " 'Industrial Arts & Consumer Services': 227357.0,\n",
       " 'Arts': 357130.0,\n",
       " 'Health': 463230.0,\n",
       " 'Social Science': 529966.0,\n",
       " nan: 0.0,\n",
       " 'Biology & Life Science': 453862.0,\n",
       " 'Education': 559129.0,\n",
       " 'Humanities & Liberal Arts': 713468.0,\n",
       " 'Psychology & Social Work': 481007.0,\n",
       " 'Communications & Journalism': 392601.0,\n",
       " 'Interdisciplinary': 12296.0}"
      ]
     },
     "execution_count": 8,
     "metadata": {},
     "output_type": "execute_result"
    }
   ],
   "source": [
    "rg_cat_counts = compute_major_cat_totals(recent_grads)                \n",
    "rg_cat_counts             "
   ]
  },
  {
   "cell_type": "markdown",
   "id": "b4e18cd7",
   "metadata": {},
   "source": [
    "These previous computations could be done directly using the ``pivot_table()`` method."
   ]
  },
  {
   "cell_type": "code",
   "execution_count": 9,
   "id": "68042194",
   "metadata": {},
   "outputs": [],
   "source": [
    "import numpy as np"
   ]
  },
  {
   "cell_type": "code",
   "execution_count": 10,
   "id": "6eedf7fd",
   "metadata": {},
   "outputs": [
    {
     "data": {
      "text/plain": [
       "{'Total': Major_category\n",
       " Agriculture & Natural Resources         632437.0\n",
       " Arts                                   1805865.0\n",
       " Biology & Life Science                 1338186.0\n",
       " Business                               9858741.0\n",
       " Communications & Journalism            1803822.0\n",
       " Computers & Mathematics                1781378.0\n",
       " Education                              4700118.0\n",
       " Engineering                            3576013.0\n",
       " Health                                 2950859.0\n",
       " Humanities & Liberal Arts              3738335.0\n",
       " Industrial Arts & Consumer Services    1018072.0\n",
       " Interdisciplinary                        45199.0\n",
       " Law & Public Policy                     902926.0\n",
       " Physical Sciences                      1013152.0\n",
       " Psychology & Social Work               1987278.0\n",
       " Social Science                         2654125.0\n",
       " Name: Total, dtype: float64}"
      ]
     },
     "execution_count": 10,
     "metadata": {},
     "output_type": "execute_result"
    }
   ],
   "source": [
    "aa_cat_counts = dict(all_ages.pivot_table(\n",
    "    index=\"Major_category\", values=\"Total\", aggfunc=np.sum))\n",
    "aa_cat_counts"
   ]
  },
  {
   "cell_type": "code",
   "execution_count": 11,
   "id": "f06797cd",
   "metadata": {},
   "outputs": [
    {
     "data": {
      "text/plain": [
       "{'Total': Major_category\n",
       " Agriculture & Natural Resources          79981.0\n",
       " Arts                                    357130.0\n",
       " Biology & Life Science                  453862.0\n",
       " Business                               1302376.0\n",
       " Communications & Journalism             392601.0\n",
       " Computers & Mathematics                 299008.0\n",
       " Education                               559129.0\n",
       " Engineering                             537583.0\n",
       " Health                                  463230.0\n",
       " Humanities & Liberal Arts               713468.0\n",
       " Industrial Arts & Consumer Services     227357.0\n",
       " Interdisciplinary                        12296.0\n",
       " Law & Public Policy                     179107.0\n",
       " Physical Sciences                       183363.0\n",
       " Psychology & Social Work                481007.0\n",
       " Social Science                          529966.0\n",
       " Name: Total, dtype: float64}"
      ]
     },
     "execution_count": 11,
     "metadata": {},
     "output_type": "execute_result"
    }
   ],
   "source": [
    "rg_cat_counts = dict(recent_grads.pivot_table(\n",
    "    index=\"Major_category\", values=\"Total\", aggfunc=np.sum))\n",
    "rg_cat_counts"
   ]
  },
  {
   "cell_type": "markdown",
   "id": "68190bd7",
   "metadata": {},
   "source": [
    "## Rate of low wage jobs"
   ]
  },
  {
   "cell_type": "markdown",
   "id": "961cf171",
   "metadata": {},
   "source": [
    "In this section, we will try to answer the following questions:\n",
    "\n",
    "* use the \"Low_wage_jobs\" and \"Total\" columns to compute the proportion of recent graduates who had to find low-wage jobs (recent_grads):\n",
    "    * remember that you can use the Series.sum() method to return the sum of a column's values\n",
    "* store the result in the variable low_wage_proportion and display it"
   ]
  },
  {
   "cell_type": "code",
   "execution_count": 12,
   "id": "12359607",
   "metadata": {},
   "outputs": [],
   "source": [
    "low_wage_jobs_sum = recent_grads['Low_wage_jobs'].sum()\n",
    "recent_grads_sum = recent_grads['Total'].sum()"
   ]
  },
  {
   "cell_type": "code",
   "execution_count": 13,
   "id": "9842eb82",
   "metadata": {},
   "outputs": [
    {
     "data": {
      "text/plain": [
       "0.09856140415130317"
      ]
     },
     "execution_count": 13,
     "metadata": {},
     "output_type": "execute_result"
    }
   ],
   "source": [
    "low_wage_proportion = low_wage_jobs_sum / recent_grads_sum\n",
    "low_wage_proportion"
   ]
  },
  {
   "cell_type": "markdown",
   "id": "befa6f10",
   "metadata": {},
   "source": [
    "## Comparing datasets"
   ]
  },
  {
   "cell_type": "markdown",
   "id": "ba7d0764",
   "metadata": {},
   "source": [
    "In this section, we will try to answer the following questions:\n",
    "\n",
    "* use a for loop to go through all the majors:\n",
    "    * for each Major and each dataset, filter only the rows of the dataset corresponding to that Major\n",
    "    * compare the values for the \"Unemployment_rate\" column to see which of the 2 dataset has the lowest value\n",
    "    * increment (i.e. add 1) to the rg_lower_count variable if the value for Unemployment_rate is smaller in the recent_grads dataset than in the all_ages dataset\n",
    "* display the result rg_lower_count"
   ]
  },
  {
   "cell_type": "code",
   "execution_count": 14,
   "id": "00b90d9b",
   "metadata": {},
   "outputs": [],
   "source": [
    "majors = recent_grads['Major'].unique()\n",
    "rg_lower_count = 0\n",
    "\n",
    "for m in majors:\n",
    "    \n",
    "    if not pd.isna(m):\n",
    "        recent_grads_row = recent_grads[recent_grads['Major'] == m]\n",
    "        all_ages_row = all_ages[all_ages['Major'] == m]\n",
    "\n",
    "        rg_unemp_rate = recent_grads_row['Unemployment_rate'].values\n",
    "        aa_unemp_rate = all_ages_row['Unemployment_rate'].values\n",
    "\n",
    "        assert rg_unemp_rate.size > 0\n",
    "        assert aa_unemp_rate.size > 0\n",
    "        assert rg_unemp_rate.size  == aa_unemp_rate.size \n",
    "\n",
    "        if rg_unemp_rate < aa_unemp_rate:\n",
    "            rg_lower_count += 1\n",
    "    else:\n",
    "        continue"
   ]
  },
  {
   "cell_type": "code",
   "execution_count": 15,
   "id": "80d38a28",
   "metadata": {},
   "outputs": [
    {
     "data": {
      "text/plain": [
       "42"
      ]
     },
     "execution_count": 15,
     "metadata": {},
     "output_type": "execute_result"
    }
   ],
   "source": [
    "rg_lower_count"
   ]
  },
  {
   "cell_type": "markdown",
   "id": "8f545f8b",
   "metadata": {},
   "source": [
    "So there are 42 out of 173 majors where recent graduates are doing better than the whole population in terms of employment rates."
   ]
  }
 ],
 "metadata": {
  "kernelspec": {
   "display_name": "Python 3 (ipykernel)",
   "language": "python",
   "name": "python3"
  },
  "language_info": {
   "codemirror_mode": {
    "name": "ipython",
    "version": 3
   },
   "file_extension": ".py",
   "mimetype": "text/x-python",
   "name": "python",
   "nbconvert_exporter": "python",
   "pygments_lexer": "ipython3",
   "version": "3.9.7"
  },
  "latex_envs": {
   "LaTeX_envs_menu_present": true,
   "autoclose": false,
   "autocomplete": true,
   "bibliofile": "biblio.bib",
   "cite_by": "apalike",
   "current_citInitial": 1,
   "eqLabelWithNumbers": true,
   "eqNumInitial": 1,
   "hotkeys": {
    "equation": "Ctrl-E",
    "itemize": "Ctrl-I"
   },
   "labels_anchors": false,
   "latex_user_defs": false,
   "report_style_numbering": false,
   "user_envs_cfg": false
  },
  "nbTranslate": {
   "displayLangs": [
    "*"
   ],
   "hotkey": "alt-t",
   "langInMainMenu": true,
   "sourceLang": "en",
   "targetLang": "fr",
   "useGoogleTranslate": true
  },
  "toc": {
   "base_numbering": 1,
   "nav_menu": {},
   "number_sections": true,
   "sideBar": true,
   "skip_h1_title": true,
   "title_cell": "Table of Contents",
   "title_sidebar": "Contents",
   "toc_cell": true,
   "toc_position": {},
   "toc_section_display": true,
   "toc_window_display": true
  }
 },
 "nbformat": 4,
 "nbformat_minor": 5
}
