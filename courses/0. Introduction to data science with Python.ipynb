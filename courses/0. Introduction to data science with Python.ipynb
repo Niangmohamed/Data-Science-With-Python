{
 "cells": [
  {
   "cell_type": "markdown",
   "id": "925859f6",
   "metadata": {},
   "source": [
    "# Python: Introduction to data science"
   ]
  },
  {
   "cell_type": "markdown",
   "id": "49074fa2",
   "metadata": {},
   "source": [
    "**Author: Mohamed NIANG, ML Scientist**"
   ]
  },
  {
   "cell_type": "markdown",
   "id": "ff6743f1",
   "metadata": {},
   "source": [
    "## Presentation"
   ]
  },
  {
   "cell_type": "markdown",
   "id": "81eadafc",
   "metadata": {},
   "source": [
    "This repository contains notebooks on introduction to data science with Python. In this course on Data Science with Python, you will discuss the Python libraries particularly used in Data Science: Numpy, Pandas and Matplotlib. You will successively review Numpy objects and Pandas objects to analyze real-world data. You will also learn how to choose the right type of graph to visualize the desired data. You will have the opportunity to apply the practice through several datasets."
   ]
  },
  {
   "cell_type": "markdown",
   "id": "6c86ac82",
   "metadata": {},
   "source": [
    "## Program Content"
   ]
  },
  {
   "cell_type": "markdown",
   "id": "71b45f29",
   "metadata": {},
   "source": [
    "..."
   ]
  }
 ],
 "metadata": {
  "kernelspec": {
   "display_name": "Python 3 (ipykernel)",
   "language": "python",
   "name": "python3"
  },
  "language_info": {
   "codemirror_mode": {
    "name": "ipython",
    "version": 3
   },
   "file_extension": ".py",
   "mimetype": "text/x-python",
   "name": "python",
   "nbconvert_exporter": "python",
   "pygments_lexer": "ipython3",
   "version": "3.9.7"
  }
 },
 "nbformat": 4,
 "nbformat_minor": 5
}
