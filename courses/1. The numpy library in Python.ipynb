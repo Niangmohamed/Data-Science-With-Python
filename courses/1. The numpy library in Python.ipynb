{
 "cells": [
  {
   "cell_type": "markdown",
   "id": "38fa4339",
   "metadata": {},
   "source": [
    "# Python: The numpy library"
   ]
  },
  {
   "cell_type": "markdown",
   "id": "39acc86d",
   "metadata": {},
   "source": [
    "**Goal**: manipulate matrices or multidimensional arrays with the numpy package!"
   ]
  },
  {
   "cell_type": "markdown",
   "id": "aa9957d4",
   "metadata": {},
   "source": [
    "## Introduction to numpy"
   ]
  },
  {
   "cell_type": "markdown",
   "id": "99c66055",
   "metadata": {},
   "source": [
    "Numpy is one of the fundamental package for scientific computing in Python. The numpy library (http://www.numpy.org/) allows you to perform numerical calculations with Python. It introduces an easy management of arrays of numbers. To use numpy, you must first import the numpy package with the following instruction ``` import numpy ```."
   ]
  },
  {
   "cell_type": "code",
   "execution_count": 1,
   "id": "55fc93cf",
   "metadata": {},
   "outputs": [],
   "source": [
    "import numpy as np"
   ]
  },
  {
   "cell_type": "markdown",
   "id": "2a4076c0",
   "metadata": {},
   "source": [
    "## Arrays with numpy"
   ]
  },
  {
   "cell_type": "markdown",
   "id": "fb937d83",
   "metadata": {},
   "source": [
    "In this section, we will discover the numpy tables. So, the main data structure in numpy is the ``` ndarray ```. Arrays can be created with ``` numpy.array() ```. Square brackets are used to delimit lists of elements in arrays. In summary, a vector represents a list and a matrix represents a list of lists."
   ]
  },
  {
   "cell_type": "code",
   "execution_count": 2,
   "id": "323150c4",
   "metadata": {},
   "outputs": [
    {
     "name": "stdout",
     "output_type": "stream",
     "text": [
      "[1 2 3 4 5]\n"
     ]
    }
   ],
   "source": [
    "vector = np.array([1, 2, 3, 4, 5])\n",
    "print(vector)"
   ]
  },
  {
   "cell_type": "code",
   "execution_count": 3,
   "id": "6b7706c0",
   "metadata": {},
   "outputs": [
    {
     "name": "stdout",
     "output_type": "stream",
     "text": [
      "[[1. 2. 3.]\n",
      " [4. 5. 6.]\n",
      " [7. 8. 9.]]\n"
     ]
    }
   ],
   "source": [
    "matrix = np.array([[1.0, 2.0, 3.0], [4.0, 5.0, 6.0], [7.0, 8.0, 9.0]])\n",
    "print(matrix)"
   ]
  },
  {
   "cell_type": "markdown",
   "id": "dcb1b875",
   "metadata": {},
   "source": [
    "## Size of an array"
   ]
  },
  {
   "cell_type": "markdown",
   "id": "23066e16",
   "metadata": {},
   "source": [
    "When manipulating matrices (matrix multiplication for example), it is very useful to know the ``` size of the array ```. Otherwise, you may get errors. So to do this, we have the array property ``` ndarray.shape ```. For vectors, shape will return a tuple with an element. On the other hand, the size of a matrix has two elements, the number of rows and the number of columns."
   ]
  },
  {
   "cell_type": "code",
   "execution_count": 4,
   "id": "edee234a",
   "metadata": {},
   "outputs": [
    {
     "data": {
      "text/plain": [
       "(5,)"
      ]
     },
     "execution_count": 4,
     "metadata": {},
     "output_type": "execute_result"
    }
   ],
   "source": [
    "vector.shape"
   ]
  },
  {
   "cell_type": "code",
   "execution_count": 5,
   "id": "aebdab0f",
   "metadata": {},
   "outputs": [
    {
     "data": {
      "text/plain": [
       "(3, 3)"
      ]
     },
     "execution_count": 5,
     "metadata": {},
     "output_type": "execute_result"
    }
   ],
   "source": [
    "matrix.shape"
   ]
  },
  {
   "cell_type": "markdown",
   "id": "d48832ab",
   "metadata": {},
   "source": [
    "## Read dataset using numpy"
   ]
  },
  {
   "cell_type": "markdown",
   "id": "7d35d180",
   "metadata": {},
   "source": [
    "To read a dataset directly with the numpy library, we use the numpy ``` genfromtxt() ``` function."
   ]
  },
  {
   "cell_type": "code",
   "execution_count": 6,
   "id": "d4f9d3d5",
   "metadata": {},
   "outputs": [
    {
     "data": {
      "text/plain": [
       "array([[      nan,       nan,       nan,       nan,       nan],\n",
       "       [1.986e+03,       nan,       nan,       nan, 0.000e+00],\n",
       "       [1.986e+03,       nan,       nan,       nan, 5.000e-01],\n",
       "       ...,\n",
       "       [1.986e+03,       nan,       nan,       nan, 2.540e+00],\n",
       "       [1.987e+03,       nan,       nan,       nan, 0.000e+00],\n",
       "       [1.986e+03,       nan,       nan,       nan, 5.150e+00]])"
      ]
     },
     "execution_count": 6,
     "metadata": {},
     "output_type": "execute_result"
    }
   ],
   "source": [
    "world_alcohol = np.genfromtxt(\"world_alcohol.csv\", delimiter=\",\")\n",
    "world_alcohol"
   ]
  },
  {
   "cell_type": "code",
   "execution_count": 7,
   "id": "43c207c5",
   "metadata": {},
   "outputs": [
    {
     "name": "stdout",
     "output_type": "stream",
     "text": [
      "<class 'numpy.ndarray'>\n"
     ]
    }
   ],
   "source": [
    "print(type(world_alcohol))"
   ]
  },
  {
   "cell_type": "markdown",
   "id": "1af1c960",
   "metadata": {},
   "source": [
    "We can clearly see that there is a lot of nan in the result. In reality, they are not nan, we will see later how to correct this problem. In fact, when we talk about matrices, we must have only numbers in the dataset. However numpy can accept many types of data, not only numbers. But the particularity of a numpy array is that all the values of the different columns must have the same data type by default. The default format type used by the genformtext function is float, see the documentation: https://numpy.org/doc/stable/reference/generated/numpy.genfromtxt.html."
   ]
  },
  {
   "cell_type": "markdown",
   "id": "084f8d5b",
   "metadata": {},
   "source": [
    "## Data types in numpy"
   ]
  },
  {
   "cell_type": "markdown",
   "id": "57d09007",
   "metadata": {},
   "source": [
    "Here we will see the main data types in numpy which have slight differences with the Python data types. We will also see the particularity with numpy arrays. The data types accepted by numpy are: ```bool```, ```integer```, ```float``` and ```string```. To know the data type of an array, we use the ```dtype``` method of the numpy ```ndarray object```."
   ]
  },
  {
   "cell_type": "code",
   "execution_count": 8,
   "id": "d23cfdb1",
   "metadata": {},
   "outputs": [
    {
     "data": {
      "text/plain": [
       "dtype('int32')"
      ]
     },
     "execution_count": 8,
     "metadata": {},
     "output_type": "execute_result"
    }
   ],
   "source": [
    "vector.dtype"
   ]
  },
  {
   "cell_type": "code",
   "execution_count": 9,
   "id": "60957a49",
   "metadata": {},
   "outputs": [
    {
     "data": {
      "text/plain": [
       "dtype('float64')"
      ]
     },
     "execution_count": 9,
     "metadata": {},
     "output_type": "execute_result"
    }
   ],
   "source": [
    "matrix.dtype"
   ]
  },
  {
   "cell_type": "code",
   "execution_count": 10,
   "id": "f3846b83",
   "metadata": {},
   "outputs": [
    {
     "data": {
      "text/plain": [
       "dtype('float64')"
      ]
     },
     "execution_count": 10,
     "metadata": {},
     "output_type": "execute_result"
    }
   ],
   "source": [
    "world_alcohol.dtype"
   ]
  },
  {
   "cell_type": "markdown",
   "id": "c2517b1a",
   "metadata": {},
   "source": [
    "## Display data correctly"
   ]
  },
  {
   "cell_type": "markdown",
   "id": "4d509950",
   "metadata": {},
   "source": [
    "We have seen previously that our dataset displays nan on some columns. In this section, we will see how to display the data correctly. As a reminder, ```nan``` means ```not a number```, it is a ```data type``` that is used to say that the ```value is missing```. There is another type of data that is ```na (not available)``` for items that are not available. So you have to know that ```nan``` and ```na``` are data types."
   ]
  },
  {
   "cell_type": "code",
   "execution_count": 11,
   "id": "ac3d1eca",
   "metadata": {},
   "outputs": [
    {
     "data": {
      "text/plain": [
       "array([[      nan,       nan,       nan,       nan,       nan],\n",
       "       [1.986e+03,       nan,       nan,       nan, 0.000e+00],\n",
       "       [1.986e+03,       nan,       nan,       nan, 5.000e-01],\n",
       "       ...,\n",
       "       [1.986e+03,       nan,       nan,       nan, 2.540e+00],\n",
       "       [1.987e+03,       nan,       nan,       nan, 0.000e+00],\n",
       "       [1.986e+03,       nan,       nan,       nan, 5.150e+00]])"
      ]
     },
     "execution_count": 11,
     "metadata": {},
     "output_type": "execute_result"
    }
   ],
   "source": [
    "world_alcohol"
   ]
  },
  {
   "cell_type": "markdown",
   "id": "819bc1f5",
   "metadata": {},
   "source": [
    "To display the correct values, we use the ```dtype=U75``` parameter of the ```genfromtxt``` function. This is to force numpy to read each value in the ```U75 (Unicode 75 bit)``` format."
   ]
  },
  {
   "cell_type": "code",
   "execution_count": 12,
   "id": "249c4dfe",
   "metadata": {},
   "outputs": [
    {
     "data": {
      "text/plain": [
       "array([['Year', 'WHO region', 'Country', 'Beverage Types',\n",
       "        'Display Value'],\n",
       "       ['1986', 'Western Pacific', 'Viet Nam', 'Wine', '0'],\n",
       "       ['1986', 'Americas', 'Uruguay', 'Other', '0.5'],\n",
       "       ...,\n",
       "       ['1986', 'Europe', 'Switzerland', 'Spirits', '2.54'],\n",
       "       ['1987', 'Western Pacific', 'Papua New Guinea', 'Other', '0'],\n",
       "       ['1986', 'Africa', 'Swaziland', 'Other', '5.15']], dtype='<U75')"
      ]
     },
     "execution_count": 12,
     "metadata": {},
     "output_type": "execute_result"
    }
   ],
   "source": [
    "world_alcohol = np.genfromtxt(\"world_alcohol.csv\", delimiter=\",\", dtype=\"U75\")\n",
    "world_alcohol"
   ]
  },
  {
   "cell_type": "markdown",
   "id": "5f37413c",
   "metadata": {},
   "source": [
    "We notice that our dataset has a header. To remove it, we use the ```skip_header``` parameter which we will set to a ```1``` to skip the first row."
   ]
  },
  {
   "cell_type": "code",
   "execution_count": 13,
   "id": "adef0858",
   "metadata": {},
   "outputs": [
    {
     "data": {
      "text/plain": [
       "array([['1986', 'Western Pacific', 'Viet Nam', 'Wine', '0'],\n",
       "       ['1986', 'Americas', 'Uruguay', 'Other', '0.5'],\n",
       "       ['1985', 'Africa', \"Cte d'Ivoire\", 'Wine', '1.62'],\n",
       "       ...,\n",
       "       ['1986', 'Europe', 'Switzerland', 'Spirits', '2.54'],\n",
       "       ['1987', 'Western Pacific', 'Papua New Guinea', 'Other', '0'],\n",
       "       ['1986', 'Africa', 'Swaziland', 'Other', '5.15']], dtype='<U75')"
      ]
     },
     "execution_count": 13,
     "metadata": {},
     "output_type": "execute_result"
    }
   ],
   "source": [
    "world_alcohol = np.genfromtxt(\"world_alcohol.csv\", delimiter=\",\", dtype=\"U75\", skip_header=1)\n",
    "world_alcohol"
   ]
  },
  {
   "cell_type": "markdown",
   "id": "7e6103c6",
   "metadata": {},
   "source": [
    "## Extract a value from a numpy array"
   ]
  },
  {
   "cell_type": "markdown",
   "id": "5bde2e8e",
   "metadata": {},
   "source": [
    "The extraction of an element from a numpy array (vectors) is done in a similar way to a list. For matrices, indexing is similar as for lists of list."
   ]
  },
  {
   "cell_type": "code",
   "execution_count": 14,
   "id": "415b96e1",
   "metadata": {},
   "outputs": [
    {
     "data": {
      "text/plain": [
       "(array([1, 2, 3, 4, 5]), 1)"
      ]
     },
     "execution_count": 14,
     "metadata": {},
     "output_type": "execute_result"
    }
   ],
   "source": [
    "# example for vector\n",
    "vector, vector[0]"
   ]
  },
  {
   "cell_type": "code",
   "execution_count": 15,
   "id": "322d5541",
   "metadata": {},
   "outputs": [
    {
     "data": {
      "text/plain": [
       "(array([[1., 2., 3.],\n",
       "        [4., 5., 6.],\n",
       "        [7., 8., 9.]]),\n",
       " 1.0)"
      ]
     },
     "execution_count": 15,
     "metadata": {},
     "output_type": "execute_result"
    }
   ],
   "source": [
    "# example for matrice\n",
    "matrix, matrix[0,0]"
   ]
  },
  {
   "cell_type": "markdown",
   "id": "a954ddce",
   "metadata": {},
   "source": [
    "### Training"
   ]
  },
  {
   "cell_type": "markdown",
   "id": "60101f35",
   "metadata": {},
   "source": [
    "In this section, we will try to answer the following questions:\n",
    "\n",
    "* assign the number of liters of wine drunk by an Ivorian in 1985 to the variable value_ivory_1985, this corresponds to the data in the 3rd line\n",
    "\n",
    "* assign the name of the country in the 2nd line to the variable second_country_name"
   ]
  },
  {
   "cell_type": "code",
   "execution_count": 16,
   "id": "4c989961",
   "metadata": {},
   "outputs": [
    {
     "data": {
      "text/plain": [
       "array([['1986', 'Western Pacific', 'Viet Nam', 'Wine', '0'],\n",
       "       ['1986', 'Americas', 'Uruguay', 'Other', '0.5'],\n",
       "       ['1985', 'Africa', \"Cte d'Ivoire\", 'Wine', '1.62'],\n",
       "       ...,\n",
       "       ['1986', 'Europe', 'Switzerland', 'Spirits', '2.54'],\n",
       "       ['1987', 'Western Pacific', 'Papua New Guinea', 'Other', '0'],\n",
       "       ['1986', 'Africa', 'Swaziland', 'Other', '5.15']], dtype='<U75')"
      ]
     },
     "execution_count": 16,
     "metadata": {},
     "output_type": "execute_result"
    }
   ],
   "source": [
    "world_alcohol"
   ]
  },
  {
   "cell_type": "code",
   "execution_count": 17,
   "id": "7418cc02",
   "metadata": {},
   "outputs": [
    {
     "name": "stdout",
     "output_type": "stream",
     "text": [
      "1.62\n"
     ]
    }
   ],
   "source": [
    "# number of liters of wine drunk by an Ivorian in 1985\n",
    "value_ivory_1985 = world_alcohol[2,4]\n",
    "print(value_ivory_1985)"
   ]
  },
  {
   "cell_type": "code",
   "execution_count": 18,
   "id": "0fd55fed",
   "metadata": {},
   "outputs": [
    {
     "name": "stdout",
     "output_type": "stream",
     "text": [
      "Uruguay\n"
     ]
    }
   ],
   "source": [
    "# name of the country in the 2nd line\n",
    "second_country_name = world_alcohol[1,2]\n",
    "print(second_country_name)"
   ]
  },
  {
   "cell_type": "markdown",
   "id": "934d4dd2",
   "metadata": {},
   "source": [
    "## Extract a vector of values from a numpy array"
   ]
  },
  {
   "cell_type": "markdown",
   "id": "a7f24c4a",
   "metadata": {},
   "source": [
    "The extraction of a vector from a numpy array is done in the same way as the extraction of an element. It consists in a kind of **slicing** from a list. However, the extraction of a matrix is a bit more complex. You can extract a row or column vector, or in a more advanced way, extract a subset of a matrix."
   ]
  },
  {
   "cell_type": "code",
   "execution_count": 19,
   "id": "353242c0",
   "metadata": {},
   "outputs": [
    {
     "data": {
      "text/plain": [
       "array([1, 2, 3, 4, 5])"
      ]
     },
     "execution_count": 19,
     "metadata": {},
     "output_type": "execute_result"
    }
   ],
   "source": [
    "# example for vector\n",
    "vector"
   ]
  },
  {
   "cell_type": "code",
   "execution_count": 20,
   "id": "753c396f",
   "metadata": {},
   "outputs": [
    {
     "data": {
      "text/plain": [
       "array([1, 2, 3])"
      ]
     },
     "execution_count": 20,
     "metadata": {},
     "output_type": "execute_result"
    }
   ],
   "source": [
    "sub_vector = vector[0:3]\n",
    "sub_vector"
   ]
  },
  {
   "cell_type": "code",
   "execution_count": 21,
   "id": "37cc23f2",
   "metadata": {},
   "outputs": [
    {
     "data": {
      "text/plain": [
       "array([[1., 2., 3.],\n",
       "       [4., 5., 6.],\n",
       "       [7., 8., 9.]])"
      ]
     },
     "execution_count": 21,
     "metadata": {},
     "output_type": "execute_result"
    }
   ],
   "source": [
    "# example for matrix\n",
    "matrix"
   ]
  },
  {
   "cell_type": "code",
   "execution_count": 22,
   "id": "407d3983",
   "metadata": {},
   "outputs": [
    {
     "data": {
      "text/plain": [
       "array([1., 4., 7.])"
      ]
     },
     "execution_count": 22,
     "metadata": {},
     "output_type": "execute_result"
    }
   ],
   "source": [
    "# column extraction\n",
    "first_column = matrix[:,0]\n",
    "first_column"
   ]
  },
  {
   "cell_type": "code",
   "execution_count": 23,
   "id": "9c5c666c",
   "metadata": {},
   "outputs": [
    {
     "data": {
      "text/plain": [
       "array([2., 5., 8.])"
      ]
     },
     "execution_count": 23,
     "metadata": {},
     "output_type": "execute_result"
    }
   ],
   "source": [
    "second_column = matrix[:,1]\n",
    "second_column"
   ]
  },
  {
   "cell_type": "code",
   "execution_count": 24,
   "id": "f579bb6c",
   "metadata": {},
   "outputs": [
    {
     "data": {
      "text/plain": [
       "array([3., 6., 9.])"
      ]
     },
     "execution_count": 24,
     "metadata": {},
     "output_type": "execute_result"
    }
   ],
   "source": [
    "third_column = matrix[:,2]\n",
    "third_column"
   ]
  },
  {
   "cell_type": "code",
   "execution_count": 25,
   "id": "c2642b64",
   "metadata": {},
   "outputs": [
    {
     "data": {
      "text/plain": [
       "array([1., 2., 3.])"
      ]
     },
     "execution_count": 25,
     "metadata": {},
     "output_type": "execute_result"
    }
   ],
   "source": [
    "# row extraction\n",
    "first_row = matrix[0,:]\n",
    "first_row"
   ]
  },
  {
   "cell_type": "code",
   "execution_count": 26,
   "id": "021aaf4c",
   "metadata": {},
   "outputs": [
    {
     "data": {
      "text/plain": [
       "array([4., 5., 6.])"
      ]
     },
     "execution_count": 26,
     "metadata": {},
     "output_type": "execute_result"
    }
   ],
   "source": [
    "second_row = matrix[1,:]\n",
    "second_row"
   ]
  },
  {
   "cell_type": "code",
   "execution_count": 27,
   "id": "b0bcf949",
   "metadata": {},
   "outputs": [
    {
     "data": {
      "text/plain": [
       "array([7., 8., 9.])"
      ]
     },
     "execution_count": 27,
     "metadata": {},
     "output_type": "execute_result"
    }
   ],
   "source": [
    "third_row = matrix[2,:]\n",
    "third_row"
   ]
  },
  {
   "cell_type": "markdown",
   "id": "bcf418a0",
   "metadata": {},
   "source": [
    "### Training"
   ]
  },
  {
   "cell_type": "markdown",
   "id": "a386b4ab",
   "metadata": {},
   "source": [
    "In this section, we will try to answer the following questions:\n",
    "\n",
    "* assign all the 3rd column of world_alcohol to the countries variable\n",
    "\n",
    "* assign the whole 5th column of world_alcohol to the variable alcohol_consumption"
   ]
  },
  {
   "cell_type": "code",
   "execution_count": 28,
   "id": "eddad936",
   "metadata": {},
   "outputs": [
    {
     "data": {
      "text/plain": [
       "array(['Viet Nam', 'Uruguay', \"Cte d'Ivoire\", ..., 'Switzerland',\n",
       "       'Papua New Guinea', 'Swaziland'], dtype='<U75')"
      ]
     },
     "execution_count": 28,
     "metadata": {},
     "output_type": "execute_result"
    }
   ],
   "source": [
    "countries = world_alcohol[:,2]\n",
    "countries"
   ]
  },
  {
   "cell_type": "code",
   "execution_count": 29,
   "id": "9ad652ae",
   "metadata": {},
   "outputs": [
    {
     "data": {
      "text/plain": [
       "array(['0', '0.5', '1.62', ..., '2.54', '0', '5.15'], dtype='<U75')"
      ]
     },
     "execution_count": 29,
     "metadata": {},
     "output_type": "execute_result"
    }
   ],
   "source": [
    "alcohol_consumption = world_alcohol[:,4]\n",
    "alcohol_consumption"
   ]
  },
  {
   "cell_type": "markdown",
   "id": "d8bc07fb",
   "metadata": {},
   "source": [
    "## Extract an array of values from a numpy array"
   ]
  },
  {
   "cell_type": "markdown",
   "id": "12325587",
   "metadata": {},
   "source": [
    "In this section we will see how to extract an array of values (matrix or sub-matrix) from a numpy array of values (matrix). Extraction is done in the same way just by double slicing the rows and columns of a matrix."
   ]
  },
  {
   "cell_type": "code",
   "execution_count": 30,
   "id": "ed8fde14",
   "metadata": {},
   "outputs": [
    {
     "data": {
      "text/plain": [
       "array([[1., 2., 3.],\n",
       "       [4., 5., 6.],\n",
       "       [7., 8., 9.]])"
      ]
     },
     "execution_count": 30,
     "metadata": {},
     "output_type": "execute_result"
    }
   ],
   "source": [
    "# example\n",
    "matrix"
   ]
  },
  {
   "cell_type": "code",
   "execution_count": 31,
   "id": "ed6a37ba",
   "metadata": {},
   "outputs": [
    {
     "data": {
      "text/plain": [
       "array([[1., 2.],\n",
       "       [4., 5.]])"
      ]
     },
     "execution_count": 31,
     "metadata": {},
     "output_type": "execute_result"
    }
   ],
   "source": [
    "first_sub_matrix = matrix[:2,:2]\n",
    "first_sub_matrix"
   ]
  },
  {
   "cell_type": "code",
   "execution_count": 32,
   "id": "c63e8e35",
   "metadata": {},
   "outputs": [
    {
     "data": {
      "text/plain": [
       "array([[2., 3.],\n",
       "       [5., 6.]])"
      ]
     },
     "execution_count": 32,
     "metadata": {},
     "output_type": "execute_result"
    }
   ],
   "source": [
    "second_sub_matrix = matrix[:2,1:3]\n",
    "second_sub_matrix"
   ]
  },
  {
   "cell_type": "code",
   "execution_count": 33,
   "id": "78637e58",
   "metadata": {},
   "outputs": [
    {
     "data": {
      "text/plain": [
       "array([[4., 5.],\n",
       "       [7., 8.]])"
      ]
     },
     "execution_count": 33,
     "metadata": {},
     "output_type": "execute_result"
    }
   ],
   "source": [
    "third_sub_matrix = matrix[1:3,:2]\n",
    "third_sub_matrix"
   ]
  },
  {
   "cell_type": "code",
   "execution_count": 34,
   "id": "f5d5b818",
   "metadata": {},
   "outputs": [
    {
     "data": {
      "text/plain": [
       "array([[5., 6.],\n",
       "       [8., 9.]])"
      ]
     },
     "execution_count": 34,
     "metadata": {},
     "output_type": "execute_result"
    }
   ],
   "source": [
    "fourth_sub_matrix = matrix[1:3,1:3]\n",
    "fourth_sub_matrix"
   ]
  },
  {
   "cell_type": "markdown",
   "id": "216e629b",
   "metadata": {},
   "source": [
    "These extractions are interesting when the determinant of a matrix has to be calculated."
   ]
  },
  {
   "cell_type": "markdown",
   "id": "f74cb942",
   "metadata": {},
   "source": [
    "### Training"
   ]
  },
  {
   "cell_type": "markdown",
   "id": "236f9b3d",
   "metadata": {},
   "source": [
    "In this section, we will try to answer the following questions:\n",
    "\n",
    "* assign all lines of the first 2 columns of world_acohol to the variable first_two_columns\n",
    "\n",
    "* assign the first 10 rows of the first column of world_alcohol to the variable first_ten_years\n",
    "\n",
    "* assign the first 10 rows of all world_alcohol columns to the variable first_ten_rows\n",
    "\n",
    "* assign the first 20 rows of the world_alcohol index 1 and 2 columns to the variable first_twenty_regions"
   ]
  },
  {
   "cell_type": "code",
   "execution_count": 35,
   "id": "7e48e9ff",
   "metadata": {},
   "outputs": [
    {
     "data": {
      "text/plain": [
       "array([['1986', 'Western Pacific'],\n",
       "       ['1986', 'Americas'],\n",
       "       ['1985', 'Africa'],\n",
       "       ...,\n",
       "       ['1986', 'Europe'],\n",
       "       ['1987', 'Western Pacific'],\n",
       "       ['1986', 'Africa']], dtype='<U75')"
      ]
     },
     "execution_count": 35,
     "metadata": {},
     "output_type": "execute_result"
    }
   ],
   "source": [
    "first_two_colomns = world_alcohol[:,:2]\n",
    "first_two_colomns"
   ]
  },
  {
   "cell_type": "code",
   "execution_count": 36,
   "id": "cebcc47f",
   "metadata": {},
   "outputs": [
    {
     "data": {
      "text/plain": [
       "array(['1986', '1986', '1985', '1986', '1987', '1987', '1987', '1985',\n",
       "       '1986', '1984'], dtype='<U75')"
      ]
     },
     "execution_count": 36,
     "metadata": {},
     "output_type": "execute_result"
    }
   ],
   "source": [
    "first_ten_years = world_alcohol[:10,0]\n",
    "first_ten_years"
   ]
  },
  {
   "cell_type": "code",
   "execution_count": 37,
   "id": "6c3c6253",
   "metadata": {},
   "outputs": [
    {
     "data": {
      "text/plain": [
       "array([['1986', 'Western Pacific', 'Viet Nam', 'Wine', '0'],\n",
       "       ['1986', 'Americas', 'Uruguay', 'Other', '0.5'],\n",
       "       ['1985', 'Africa', \"Cte d'Ivoire\", 'Wine', '1.62'],\n",
       "       ['1986', 'Americas', 'Colombia', 'Beer', '4.27'],\n",
       "       ['1987', 'Americas', 'Saint Kitts and Nevis', 'Beer', '1.98'],\n",
       "       ['1987', 'Americas', 'Guatemala', 'Other', '0'],\n",
       "       ['1987', 'Africa', 'Mauritius', 'Wine', '0.13'],\n",
       "       ['1985', 'Africa', 'Angola', 'Spirits', '0.39'],\n",
       "       ['1986', 'Americas', 'Antigua and Barbuda', 'Spirits', '1.55'],\n",
       "       ['1984', 'Africa', 'Nigeria', 'Other', '6.1']], dtype='<U75')"
      ]
     },
     "execution_count": 37,
     "metadata": {},
     "output_type": "execute_result"
    }
   ],
   "source": [
    "first_ten_rows = world_alcohol[:10,:]\n",
    "first_ten_rows"
   ]
  },
  {
   "cell_type": "code",
   "execution_count": 38,
   "id": "88980f16",
   "metadata": {},
   "outputs": [
    {
     "data": {
      "text/plain": [
       "array([['Western Pacific', 'Viet Nam'],\n",
       "       ['Americas', 'Uruguay'],\n",
       "       ['Africa', \"Cte d'Ivoire\"],\n",
       "       ['Americas', 'Colombia'],\n",
       "       ['Americas', 'Saint Kitts and Nevis'],\n",
       "       ['Americas', 'Guatemala'],\n",
       "       ['Africa', 'Mauritius'],\n",
       "       ['Africa', 'Angola'],\n",
       "       ['Americas', 'Antigua and Barbuda'],\n",
       "       ['Africa', 'Nigeria'],\n",
       "       ['Africa', 'Botswana'],\n",
       "       ['Americas', 'Guatemala'],\n",
       "       ['Western Pacific', \"Lao People's Democratic Republic\"],\n",
       "       ['Eastern Mediterranean', 'Afghanistan'],\n",
       "       ['Western Pacific', 'Viet Nam'],\n",
       "       ['Africa', 'Guinea-Bissau'],\n",
       "       ['Americas', 'Costa Rica'],\n",
       "       ['Africa', 'Seychelles'],\n",
       "       ['Europe', 'Norway'],\n",
       "       ['Africa', 'Kenya']], dtype='<U75')"
      ]
     },
     "execution_count": 38,
     "metadata": {},
     "output_type": "execute_result"
    }
   ],
   "source": [
    "first_twenty_regions = world_alcohol[:20,1:3]\n",
    "first_twenty_regions"
   ]
  }
 ],
 "metadata": {
  "kernelspec": {
   "display_name": "Python 3 (ipykernel)",
   "language": "python",
   "name": "python3"
  },
  "language_info": {
   "codemirror_mode": {
    "name": "ipython",
    "version": 3
   },
   "file_extension": ".py",
   "mimetype": "text/x-python",
   "name": "python",
   "nbconvert_exporter": "python",
   "pygments_lexer": "ipython3",
   "version": "3.9.7"
  }
 },
 "nbformat": 4,
 "nbformat_minor": 5
}
