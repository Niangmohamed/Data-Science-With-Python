{
 "cells": [
  {
   "cell_type": "markdown",
   "id": "e477a08e",
   "metadata": {},
   "source": [
    "# Python: Handling missing values"
   ]
  },
  {
   "cell_type": "markdown",
   "id": "57a1eeed",
   "metadata": {},
   "source": [
    "**Goal**: Clean and organise your data!"
   ]
  },
  {
   "cell_type": "markdown",
   "id": "f682924a",
   "metadata": {
    "toc": true
   },
   "source": [
    "<h1>Table of Contents<span class=\"tocSkip\"></span></h1>\n",
    "<div class=\"toc\"><ul class=\"toc-item\"><li><span><a href=\"#Introduction-to-dataset\" data-toc-modified-id=\"Introduction-to-dataset-1\"><span class=\"toc-item-num\">1&nbsp;&nbsp;</span>Introduction to dataset</a></span></li><li><span><a href=\"#Find-missing-values\" data-toc-modified-id=\"Find-missing-values-2\"><span class=\"toc-item-num\">2&nbsp;&nbsp;</span>Find missing values</a></span></li><li><span><a href=\"#Problems-with-missing-values\" data-toc-modified-id=\"Problems-with-missing-values-3\"><span class=\"toc-item-num\">3&nbsp;&nbsp;</span>Problems with missing values</a></span><ul class=\"toc-item\"><li><span><a href=\"#Training\" data-toc-modified-id=\"Training-3.1\"><span class=\"toc-item-num\">3.1&nbsp;&nbsp;</span>Training</a></span></li></ul></li><li><span><a href=\"#Introduction-to-pivot-table\" data-toc-modified-id=\"Introduction-to-pivot-table-4\"><span class=\"toc-item-num\">4&nbsp;&nbsp;</span>Introduction to pivot table</a></span><ul class=\"toc-item\"><li><span><a href=\"#Training\" data-toc-modified-id=\"Training-4.1\"><span class=\"toc-item-num\">4.1&nbsp;&nbsp;</span>Training</a></span></li></ul></li><li><span><a href=\"#Remove-missing-values\" data-toc-modified-id=\"Remove-missing-values-5\"><span class=\"toc-item-num\">5&nbsp;&nbsp;</span>Remove missing values</a></span></li><li><span><a href=\"#Iloc-to-access-rows\" data-toc-modified-id=\"Iloc-to-access-rows-6\"><span class=\"toc-item-num\">6&nbsp;&nbsp;</span>Iloc to access rows</a></span></li><li><span><a href=\"#Column-indexes\" data-toc-modified-id=\"Column-indexes-7\"><span class=\"toc-item-num\">7&nbsp;&nbsp;</span>Column indexes</a></span></li><li><span><a href=\"#Re-index-rows-in-a-dataframe\" data-toc-modified-id=\"Re-index-rows-in-a-dataframe-8\"><span class=\"toc-item-num\">8&nbsp;&nbsp;</span>Re-index rows in a dataframe</a></span></li><li><span><a href=\"#Apply-functions-to-a-dataframe\" data-toc-modified-id=\"Apply-functions-to-a-dataframe-9\"><span class=\"toc-item-num\">9&nbsp;&nbsp;</span>Apply functions to a dataframe</a></span><ul class=\"toc-item\"><li><span><a href=\"#Training\" data-toc-modified-id=\"Training-9.1\"><span class=\"toc-item-num\">9.1&nbsp;&nbsp;</span>Training</a></span></li></ul></li><li><span><a href=\"#Practice:-compute-the-percentage-of-survival-by-classe-group\" data-toc-modified-id=\"Practice:-compute-the-percentage-of-survival-by-classe-group-10\"><span class=\"toc-item-num\">10&nbsp;&nbsp;</span>Practice: compute the percentage of survival by classe group</a></span></li></ul></div>"
   ]
  },
  {
   "cell_type": "markdown",
   "id": "796c74fa",
   "metadata": {},
   "source": [
    "## Introduction to dataset"
   ]
  },
  {
   "cell_type": "markdown",
   "id": "83bf9dd5",
   "metadata": {},
   "source": [
    "In this chapter, we will clean and analyze the data of a dataset containing the ``survivors of titanic``. "
   ]
  },
  {
   "cell_type": "code",
   "execution_count": 1,
   "id": "e7c5ad15",
   "metadata": {},
   "outputs": [],
   "source": [
    "import pandas as pd"
   ]
  },
  {
   "cell_type": "code",
   "execution_count": 2,
   "id": "4ffe8c3d",
   "metadata": {},
   "outputs": [
    {
     "data": {
      "text/html": [
       "<div>\n",
       "<style scoped>\n",
       "    .dataframe tbody tr th:only-of-type {\n",
       "        vertical-align: middle;\n",
       "    }\n",
       "\n",
       "    .dataframe tbody tr th {\n",
       "        vertical-align: top;\n",
       "    }\n",
       "\n",
       "    .dataframe thead th {\n",
       "        text-align: right;\n",
       "    }\n",
       "</style>\n",
       "<table border=\"1\" class=\"dataframe\">\n",
       "  <thead>\n",
       "    <tr style=\"text-align: right;\">\n",
       "      <th></th>\n",
       "      <th>pclass</th>\n",
       "      <th>survived</th>\n",
       "      <th>name</th>\n",
       "      <th>sex</th>\n",
       "      <th>age</th>\n",
       "      <th>sibsp</th>\n",
       "      <th>parch</th>\n",
       "      <th>ticket</th>\n",
       "      <th>fare</th>\n",
       "      <th>cabin</th>\n",
       "      <th>embarked</th>\n",
       "      <th>boat</th>\n",
       "      <th>body</th>\n",
       "      <th>home.dest</th>\n",
       "    </tr>\n",
       "  </thead>\n",
       "  <tbody>\n",
       "    <tr>\n",
       "      <th>0</th>\n",
       "      <td>1.0</td>\n",
       "      <td>1.0</td>\n",
       "      <td>Allen, Miss. Elisabeth Walton</td>\n",
       "      <td>female</td>\n",
       "      <td>29.0000</td>\n",
       "      <td>0.0</td>\n",
       "      <td>0.0</td>\n",
       "      <td>24160</td>\n",
       "      <td>211.3375</td>\n",
       "      <td>B5</td>\n",
       "      <td>S</td>\n",
       "      <td>2</td>\n",
       "      <td>NaN</td>\n",
       "      <td>St Louis, MO</td>\n",
       "    </tr>\n",
       "    <tr>\n",
       "      <th>1</th>\n",
       "      <td>1.0</td>\n",
       "      <td>1.0</td>\n",
       "      <td>Allison, Master. Hudson Trevor</td>\n",
       "      <td>male</td>\n",
       "      <td>0.9167</td>\n",
       "      <td>1.0</td>\n",
       "      <td>2.0</td>\n",
       "      <td>113781</td>\n",
       "      <td>151.5500</td>\n",
       "      <td>C22 C26</td>\n",
       "      <td>S</td>\n",
       "      <td>11</td>\n",
       "      <td>NaN</td>\n",
       "      <td>Montreal, PQ / Chesterville, ON</td>\n",
       "    </tr>\n",
       "    <tr>\n",
       "      <th>2</th>\n",
       "      <td>1.0</td>\n",
       "      <td>0.0</td>\n",
       "      <td>Allison, Miss. Helen Loraine</td>\n",
       "      <td>female</td>\n",
       "      <td>2.0000</td>\n",
       "      <td>1.0</td>\n",
       "      <td>2.0</td>\n",
       "      <td>113781</td>\n",
       "      <td>151.5500</td>\n",
       "      <td>C22 C26</td>\n",
       "      <td>S</td>\n",
       "      <td>NaN</td>\n",
       "      <td>NaN</td>\n",
       "      <td>Montreal, PQ / Chesterville, ON</td>\n",
       "    </tr>\n",
       "    <tr>\n",
       "      <th>3</th>\n",
       "      <td>1.0</td>\n",
       "      <td>0.0</td>\n",
       "      <td>Allison, Mr. Hudson Joshua Creighton</td>\n",
       "      <td>male</td>\n",
       "      <td>30.0000</td>\n",
       "      <td>1.0</td>\n",
       "      <td>2.0</td>\n",
       "      <td>113781</td>\n",
       "      <td>151.5500</td>\n",
       "      <td>C22 C26</td>\n",
       "      <td>S</td>\n",
       "      <td>NaN</td>\n",
       "      <td>135.0</td>\n",
       "      <td>Montreal, PQ / Chesterville, ON</td>\n",
       "    </tr>\n",
       "    <tr>\n",
       "      <th>4</th>\n",
       "      <td>1.0</td>\n",
       "      <td>0.0</td>\n",
       "      <td>Allison, Mrs. Hudson J C (Bessie Waldo Daniels)</td>\n",
       "      <td>female</td>\n",
       "      <td>25.0000</td>\n",
       "      <td>1.0</td>\n",
       "      <td>2.0</td>\n",
       "      <td>113781</td>\n",
       "      <td>151.5500</td>\n",
       "      <td>C22 C26</td>\n",
       "      <td>S</td>\n",
       "      <td>NaN</td>\n",
       "      <td>NaN</td>\n",
       "      <td>Montreal, PQ / Chesterville, ON</td>\n",
       "    </tr>\n",
       "  </tbody>\n",
       "</table>\n",
       "</div>"
      ],
      "text/plain": [
       "   pclass  survived                                             name     sex  \\\n",
       "0     1.0       1.0                    Allen, Miss. Elisabeth Walton  female   \n",
       "1     1.0       1.0                   Allison, Master. Hudson Trevor    male   \n",
       "2     1.0       0.0                     Allison, Miss. Helen Loraine  female   \n",
       "3     1.0       0.0             Allison, Mr. Hudson Joshua Creighton    male   \n",
       "4     1.0       0.0  Allison, Mrs. Hudson J C (Bessie Waldo Daniels)  female   \n",
       "\n",
       "       age  sibsp  parch  ticket      fare    cabin embarked boat   body  \\\n",
       "0  29.0000    0.0    0.0   24160  211.3375       B5        S    2    NaN   \n",
       "1   0.9167    1.0    2.0  113781  151.5500  C22 C26        S   11    NaN   \n",
       "2   2.0000    1.0    2.0  113781  151.5500  C22 C26        S  NaN    NaN   \n",
       "3  30.0000    1.0    2.0  113781  151.5500  C22 C26        S  NaN  135.0   \n",
       "4  25.0000    1.0    2.0  113781  151.5500  C22 C26        S  NaN    NaN   \n",
       "\n",
       "                         home.dest  \n",
       "0                     St Louis, MO  \n",
       "1  Montreal, PQ / Chesterville, ON  \n",
       "2  Montreal, PQ / Chesterville, ON  \n",
       "3  Montreal, PQ / Chesterville, ON  \n",
       "4  Montreal, PQ / Chesterville, ON  "
      ]
     },
     "execution_count": 2,
     "metadata": {},
     "output_type": "execute_result"
    }
   ],
   "source": [
    "titanic_survival = pd.read_csv(\"titanic_survival.csv\")\n",
    "titanic_survival.head()"
   ]
  },
  {
   "cell_type": "markdown",
   "id": "e477f749",
   "metadata": {},
   "source": [
    "We will proceed to a brief presentation of some columns. The column ``pclass`` is the class of the passenger cabin which goes from 1 to 3 knowing that 1 is the highest class. The column ``survived`` represents the survival of a passenger. It takes the value 1 if the passenger survived and 0 otherwise. The ``fare`` column represents the amount paid by the passenger for the boarding ticket. The column ``embarked`` represents the place of boarding of the passenger, it takes 3 values: C, Q and S. In this dataset, it should be noted that many columns like ``age`` and ``sex`` have missing values. These ``missing values`` can cause numerical errors in our calculations. So we have to handle with them before starting the analyses. So it is important to learn how to handle with missing values and this is what we will do throughout this chapter."
   ]
  },
  {
   "cell_type": "markdown",
   "id": "8e47ba57",
   "metadata": {},
   "source": [
    "## Find missing values"
   ]
  },
  {
   "cell_type": "markdown",
   "id": "ed56a721",
   "metadata": {},
   "source": [
    "In this section, we will proceed to the ``discovery of missing values``. As a reminder, there are several types of missing values. There are values of type ``None`` which indicates no value, there is also the value ``Nan`` which means ``not a number`` which indicates a missing value. In general, we can consider None and Nan as ``null values``. In pandas, there is a function that allows to see which values are null or none, it is the ``isnull()`` function."
   ]
  },
  {
   "cell_type": "code",
   "execution_count": 3,
   "id": "adfc357c",
   "metadata": {},
   "outputs": [
    {
     "data": {
      "text/plain": [
       "0       False\n",
       "1       False\n",
       "2       False\n",
       "3       False\n",
       "4       False\n",
       "        ...  \n",
       "1305    False\n",
       "1306    False\n",
       "1307    False\n",
       "1308    False\n",
       "1309     True\n",
       "Name: sex, Length: 1310, dtype: bool"
      ]
     },
     "execution_count": 3,
     "metadata": {},
     "output_type": "execute_result"
    }
   ],
   "source": [
    "# example with sex column\n",
    "sex = titanic_survival[\"sex\"]\n",
    "sex_is_null = pd.isnull(sex)\n",
    "sex_is_null"
   ]
  },
  {
   "cell_type": "code",
   "execution_count": 4,
   "id": "555fdd48",
   "metadata": {},
   "outputs": [
    {
     "data": {
      "text/plain": [
       "1309    NaN\n",
       "Name: sex, dtype: object"
      ]
     },
     "execution_count": 4,
     "metadata": {},
     "output_type": "execute_result"
    }
   ],
   "source": [
    "sex_null = sex[sex_is_null]\n",
    "sex_null"
   ]
  },
  {
   "cell_type": "code",
   "execution_count": 5,
   "id": "56d26a6a",
   "metadata": {},
   "outputs": [
    {
     "data": {
      "text/plain": [
       "15     NaN\n",
       "37     NaN\n",
       "40     NaN\n",
       "46     NaN\n",
       "59     NaN\n",
       "        ..\n",
       "1297   NaN\n",
       "1302   NaN\n",
       "1303   NaN\n",
       "1305   NaN\n",
       "1309   NaN\n",
       "Name: age, Length: 264, dtype: float64"
      ]
     },
     "execution_count": 5,
     "metadata": {},
     "output_type": "execute_result"
    }
   ],
   "source": [
    "# example with age column\n",
    "age_null = titanic_survival[\"age\"][pd.isnull(titanic_survival.age)]\n",
    "age_null"
   ]
  },
  {
   "cell_type": "markdown",
   "id": "b795b484",
   "metadata": {},
   "source": [
    "We can clearly see that our age column has 264 missing values that we can recheck using the ``len()`` function."
   ]
  },
  {
   "cell_type": "code",
   "execution_count": 6,
   "id": "6bfe3ed1",
   "metadata": {},
   "outputs": [
    {
     "data": {
      "text/plain": [
       "264"
      ]
     },
     "execution_count": 6,
     "metadata": {},
     "output_type": "execute_result"
    }
   ],
   "source": [
    "count_age_null = len(age_null)\n",
    "count_age_null"
   ]
  },
  {
   "cell_type": "markdown",
   "id": "de24a8cb",
   "metadata": {},
   "source": [
    "## Problems with missing values"
   ]
  },
  {
   "cell_type": "markdown",
   "id": "e637913a",
   "metadata": {},
   "source": [
    "We have seen previously that there are columns with missing values. In this section, we will show what ``problems`` these missing values ``cause``."
   ]
  },
  {
   "cell_type": "code",
   "execution_count": 7,
   "id": "83d0a446",
   "metadata": {},
   "outputs": [
    {
     "data": {
      "text/plain": [
       "nan"
      ]
     },
     "execution_count": 7,
     "metadata": {},
     "output_type": "execute_result"
    }
   ],
   "source": [
    "# example of problem\n",
    "mean_age = sum(titanic_survival[\"age\"]) / len(titanic_survival[\"age\"])\n",
    "mean_age"
   ]
  },
  {
   "cell_type": "markdown",
   "id": "1017ff3a",
   "metadata": {},
   "source": [
    "This example above simply illustrates that a computation containing a missing value will return a missing value. So it is necessary to ``filter`` out the missing values before proceeding with the computations."
   ]
  },
  {
   "cell_type": "code",
   "execution_count": 8,
   "id": "04456a4c",
   "metadata": {},
   "outputs": [
    {
     "data": {
      "text/plain": [
       "0       29.0000\n",
       "1        0.9167\n",
       "2        2.0000\n",
       "3       30.0000\n",
       "4       25.0000\n",
       "         ...   \n",
       "1301    45.5000\n",
       "1304    14.5000\n",
       "1306    26.5000\n",
       "1307    27.0000\n",
       "1308    29.0000\n",
       "Name: age, Length: 1046, dtype: float64"
      ]
     },
     "execution_count": 8,
     "metadata": {},
     "output_type": "execute_result"
    }
   ],
   "source": [
    "# filter the nan values\n",
    "age_not_null = titanic_survival[\"age\"][pd.isnull(\n",
    "    titanic_survival[\"age\"]) == False]\n",
    "age_not_null"
   ]
  },
  {
   "cell_type": "code",
   "execution_count": 9,
   "id": "e2e770b0",
   "metadata": {},
   "outputs": [
    {
     "data": {
      "text/plain": [
       "29.8811345124283"
      ]
     },
     "execution_count": 9,
     "metadata": {},
     "output_type": "execute_result"
    }
   ],
   "source": [
    "# compute the mean of age column without nan values\n",
    "mean_age = sum(age_not_null) / len(age_not_null)\n",
    "mean_age"
   ]
  },
  {
   "cell_type": "markdown",
   "id": "21223057",
   "metadata": {},
   "source": [
    "For ``information``, there is a method of pandas to compute more simply an average directly on a column. This function which the ``mean()`` method ignores the missing values and computes directly the average of a numerical series."
   ]
  },
  {
   "cell_type": "code",
   "execution_count": 10,
   "id": "f11dd660",
   "metadata": {},
   "outputs": [
    {
     "data": {
      "text/plain": [
       "29.8811345124283"
      ]
     },
     "execution_count": 10,
     "metadata": {},
     "output_type": "execute_result"
    }
   ],
   "source": [
    "# example with age column\n",
    "mean_age = titanic_survival[\"age\"].mean()\n",
    "mean_age"
   ]
  },
  {
   "cell_type": "markdown",
   "id": "00e683fc",
   "metadata": {},
   "source": [
    "### Training"
   ]
  },
  {
   "cell_type": "markdown",
   "id": "af97bd6a",
   "metadata": {},
   "source": [
    "In this practice, we will try to answer the following questions:\n",
    "\n",
    "* create an empty dictionary that we will name fares_by_class\n",
    "* create the list passenger_classes which contains the elements [1,2,3]\n",
    "* use a for loop to browse the passenger_classes list:\n",
    "    * select just the rows of titanic_survival for which the column pclass is equal to the temporary variable (the iterator) of the for loop, i.e. corresponding to the class number (1, 2 or 3)\n",
    "    * select only the fare column for this subset of rows (corresponding to the class)\n",
    "    * use the series.mean() method to calculate the average of this subset\n",
    "    * add this calculated average of the class to the fares_by_class dictionary with the class number as key (and thus the average fare as value)\n",
    "* once the loop is completed, the dictionary fares_by_class should have 1,2 and 3 as keys with the corresponding average values\n",
    "* display the result"
   ]
  },
  {
   "cell_type": "code",
   "execution_count": 11,
   "id": "b41cb48f",
   "metadata": {},
   "outputs": [],
   "source": [
    "fares_by_class = {}\n",
    "passenger_classes = [1, 2, 3]\n",
    "\n",
    "for this_class in passenger_classes:\n",
    "    pclass_rows = titanic_survival[titanic_survival[\"pclass\"] == this_class]\n",
    "    pclass_fares = pclass_rows[\"fare\"]\n",
    "    fare_for_class = pclass_fares.mean()\n",
    "    fares_by_class[this_class] = fare_for_class"
   ]
  },
  {
   "cell_type": "code",
   "execution_count": 12,
   "id": "c3a19115",
   "metadata": {},
   "outputs": [
    {
     "data": {
      "text/plain": [
       "{1: 87.50899164086687, 2: 21.1791963898917, 3: 13.302888700564957}"
      ]
     },
     "execution_count": 12,
     "metadata": {},
     "output_type": "execute_result"
    }
   ],
   "source": [
    "fares_by_class"
   ]
  },
  {
   "cell_type": "markdown",
   "id": "fe9266ad",
   "metadata": {},
   "source": [
    "## Introduction to pivot table"
   ]
  },
  {
   "cell_type": "markdown",
   "id": "027d0556",
   "metadata": {},
   "source": [
    "In this section we will look at pivot tables which are a way of creating a subset from a column and performing computations, for example calculating an average, etc. The idea of pivot tables is to group and then apply a function. The ``pivot_table()`` method of pandas allows to perform these operations. This following example shows how to perform our previous task just by using the ``pivot_table()`` method."
   ]
  },
  {
   "cell_type": "code",
   "execution_count": 13,
   "id": "7c739bf0",
   "metadata": {},
   "outputs": [],
   "source": [
    "import numpy as np"
   ]
  },
  {
   "cell_type": "code",
   "execution_count": 14,
   "id": "d2a21829",
   "metadata": {},
   "outputs": [
    {
     "data": {
      "text/html": [
       "<div>\n",
       "<style scoped>\n",
       "    .dataframe tbody tr th:only-of-type {\n",
       "        vertical-align: middle;\n",
       "    }\n",
       "\n",
       "    .dataframe tbody tr th {\n",
       "        vertical-align: top;\n",
       "    }\n",
       "\n",
       "    .dataframe thead th {\n",
       "        text-align: right;\n",
       "    }\n",
       "</style>\n",
       "<table border=\"1\" class=\"dataframe\">\n",
       "  <thead>\n",
       "    <tr style=\"text-align: right;\">\n",
       "      <th></th>\n",
       "      <th>fare</th>\n",
       "    </tr>\n",
       "    <tr>\n",
       "      <th>pclass</th>\n",
       "      <th></th>\n",
       "    </tr>\n",
       "  </thead>\n",
       "  <tbody>\n",
       "    <tr>\n",
       "      <th>1.0</th>\n",
       "      <td>87.508992</td>\n",
       "    </tr>\n",
       "    <tr>\n",
       "      <th>2.0</th>\n",
       "      <td>21.179196</td>\n",
       "    </tr>\n",
       "    <tr>\n",
       "      <th>3.0</th>\n",
       "      <td>13.302889</td>\n",
       "    </tr>\n",
       "  </tbody>\n",
       "</table>\n",
       "</div>"
      ],
      "text/plain": [
       "             fare\n",
       "pclass           \n",
       "1.0     87.508992\n",
       "2.0     21.179196\n",
       "3.0     13.302889"
      ]
     },
     "execution_count": 14,
     "metadata": {},
     "output_type": "execute_result"
    }
   ],
   "source": [
    "fares_by_pclass = titanic_survival.pivot_table(index=\"pclass\",\n",
    "                                               values=\"fare\",\n",
    "                                               aggfunc=np.mean)\n",
    "fares_by_pclass"
   ]
  },
  {
   "cell_type": "markdown",
   "id": "65d0e05d",
   "metadata": {},
   "source": [
    "The first parameter ``index`` indicates the column you want to group. The second parameter ``values`` indicates the column on which we want to apply a function (sum, average, etc). And the last parameter ``aggfunc`` indicates the function we want to apply on the ``values`` parameter. With this same method ``pivot_table()``, we can also perform calculations on several columns."
   ]
  },
  {
   "cell_type": "markdown",
   "id": "69c5f74b",
   "metadata": {},
   "source": [
    "### Training"
   ]
  },
  {
   "cell_type": "markdown",
   "id": "bd15c26c",
   "metadata": {},
   "source": [
    "In this practice, we will try to answer the following questions:\n",
    "\n",
    "* make a table pivot that calculates the total money collected (\"fare\") and the total number of survivors (\"survived\") for each embarked port (\"embarked\") using the numpy.sum function\n",
    "* assign the result to the variable port_stats\n",
    "* display the result"
   ]
  },
  {
   "cell_type": "code",
   "execution_count": 15,
   "id": "1512923a",
   "metadata": {},
   "outputs": [
    {
     "data": {
      "text/html": [
       "<div>\n",
       "<style scoped>\n",
       "    .dataframe tbody tr th:only-of-type {\n",
       "        vertical-align: middle;\n",
       "    }\n",
       "\n",
       "    .dataframe tbody tr th {\n",
       "        vertical-align: top;\n",
       "    }\n",
       "\n",
       "    .dataframe thead th {\n",
       "        text-align: right;\n",
       "    }\n",
       "</style>\n",
       "<table border=\"1\" class=\"dataframe\">\n",
       "  <thead>\n",
       "    <tr style=\"text-align: right;\">\n",
       "      <th></th>\n",
       "      <th>fare</th>\n",
       "      <th>survived</th>\n",
       "    </tr>\n",
       "    <tr>\n",
       "      <th>embarked</th>\n",
       "      <th></th>\n",
       "      <th></th>\n",
       "    </tr>\n",
       "  </thead>\n",
       "  <tbody>\n",
       "    <tr>\n",
       "      <th>C</th>\n",
       "      <td>16830.7922</td>\n",
       "      <td>150.0</td>\n",
       "    </tr>\n",
       "    <tr>\n",
       "      <th>Q</th>\n",
       "      <td>1526.3085</td>\n",
       "      <td>44.0</td>\n",
       "    </tr>\n",
       "    <tr>\n",
       "      <th>S</th>\n",
       "      <td>25033.3862</td>\n",
       "      <td>304.0</td>\n",
       "    </tr>\n",
       "  </tbody>\n",
       "</table>\n",
       "</div>"
      ],
      "text/plain": [
       "                fare  survived\n",
       "embarked                      \n",
       "C         16830.7922     150.0\n",
       "Q          1526.3085      44.0\n",
       "S         25033.3862     304.0"
      ]
     },
     "execution_count": 15,
     "metadata": {},
     "output_type": "execute_result"
    }
   ],
   "source": [
    "port_stats = titanic_survival.pivot_table(index=\"embarked\",\n",
    "                                          values=[\"fare\", \"survived\"],\n",
    "                                          aggfunc=np.sum)\n",
    "port_stats"
   ]
  },
  {
   "cell_type": "markdown",
   "id": "a47b0d66",
   "metadata": {},
   "source": [
    "## Remove missing values"
   ]
  },
  {
   "cell_type": "markdown",
   "id": "c26b666b",
   "metadata": {},
   "source": [
    "To ``remove`` missing values directly from a dataframe, we use the ``dropna()`` method. This method allows to ``delete`` all rows or columns with at least one missing value."
   ]
  },
  {
   "cell_type": "code",
   "execution_count": 16,
   "id": "bc0df8af",
   "metadata": {},
   "outputs": [
    {
     "data": {
      "text/html": [
       "<div>\n",
       "<style scoped>\n",
       "    .dataframe tbody tr th:only-of-type {\n",
       "        vertical-align: middle;\n",
       "    }\n",
       "\n",
       "    .dataframe tbody tr th {\n",
       "        vertical-align: top;\n",
       "    }\n",
       "\n",
       "    .dataframe thead th {\n",
       "        text-align: right;\n",
       "    }\n",
       "</style>\n",
       "<table border=\"1\" class=\"dataframe\">\n",
       "  <thead>\n",
       "    <tr style=\"text-align: right;\">\n",
       "      <th></th>\n",
       "      <th>pclass</th>\n",
       "      <th>survived</th>\n",
       "      <th>name</th>\n",
       "      <th>sex</th>\n",
       "      <th>age</th>\n",
       "      <th>sibsp</th>\n",
       "      <th>parch</th>\n",
       "      <th>ticket</th>\n",
       "      <th>fare</th>\n",
       "      <th>cabin</th>\n",
       "      <th>embarked</th>\n",
       "      <th>boat</th>\n",
       "      <th>body</th>\n",
       "      <th>home.dest</th>\n",
       "    </tr>\n",
       "  </thead>\n",
       "  <tbody>\n",
       "  </tbody>\n",
       "</table>\n",
       "</div>"
      ],
      "text/plain": [
       "Empty DataFrame\n",
       "Columns: [pclass, survived, name, sex, age, sibsp, parch, ticket, fare, cabin, embarked, boat, body, home.dest]\n",
       "Index: []"
      ]
     },
     "execution_count": 16,
     "metadata": {},
     "output_type": "execute_result"
    }
   ],
   "source": [
    "drop_na_rows = titanic_survival.dropna(axis=0)\n",
    "drop_na_rows"
   ]
  },
  {
   "cell_type": "code",
   "execution_count": 17,
   "id": "aededa26",
   "metadata": {},
   "outputs": [
    {
     "data": {
      "text/html": [
       "<div>\n",
       "<style scoped>\n",
       "    .dataframe tbody tr th:only-of-type {\n",
       "        vertical-align: middle;\n",
       "    }\n",
       "\n",
       "    .dataframe tbody tr th {\n",
       "        vertical-align: top;\n",
       "    }\n",
       "\n",
       "    .dataframe thead th {\n",
       "        text-align: right;\n",
       "    }\n",
       "</style>\n",
       "<table border=\"1\" class=\"dataframe\">\n",
       "  <thead>\n",
       "    <tr style=\"text-align: right;\">\n",
       "      <th></th>\n",
       "    </tr>\n",
       "  </thead>\n",
       "  <tbody>\n",
       "    <tr>\n",
       "      <th>0</th>\n",
       "    </tr>\n",
       "    <tr>\n",
       "      <th>1</th>\n",
       "    </tr>\n",
       "    <tr>\n",
       "      <th>2</th>\n",
       "    </tr>\n",
       "    <tr>\n",
       "      <th>3</th>\n",
       "    </tr>\n",
       "    <tr>\n",
       "      <th>4</th>\n",
       "    </tr>\n",
       "    <tr>\n",
       "      <th>...</th>\n",
       "    </tr>\n",
       "    <tr>\n",
       "      <th>1305</th>\n",
       "    </tr>\n",
       "    <tr>\n",
       "      <th>1306</th>\n",
       "    </tr>\n",
       "    <tr>\n",
       "      <th>1307</th>\n",
       "    </tr>\n",
       "    <tr>\n",
       "      <th>1308</th>\n",
       "    </tr>\n",
       "    <tr>\n",
       "      <th>1309</th>\n",
       "    </tr>\n",
       "  </tbody>\n",
       "</table>\n",
       "<p>1310 rows × 0 columns</p>\n",
       "</div>"
      ],
      "text/plain": [
       "Empty DataFrame\n",
       "Columns: []\n",
       "Index: [0, 1, 2, 3, 4, 5, 6, 7, 8, 9, 10, 11, 12, 13, 14, 15, 16, 17, 18, 19, 20, 21, 22, 23, 24, 25, 26, 27, 28, 29, 30, 31, 32, 33, 34, 35, 36, 37, 38, 39, 40, 41, 42, 43, 44, 45, 46, 47, 48, 49, 50, 51, 52, 53, 54, 55, 56, 57, 58, 59, 60, 61, 62, 63, 64, 65, 66, 67, 68, 69, 70, 71, 72, 73, 74, 75, 76, 77, 78, 79, 80, 81, 82, 83, 84, 85, 86, 87, 88, 89, 90, 91, 92, 93, 94, 95, 96, 97, 98, 99, ...]\n",
       "\n",
       "[1310 rows x 0 columns]"
      ]
     },
     "execution_count": 17,
     "metadata": {},
     "output_type": "execute_result"
    }
   ],
   "source": [
    "drop_na_columns = titanic_survival.dropna(axis=1)\n",
    "drop_na_columns"
   ]
  },
  {
   "cell_type": "markdown",
   "id": "6ea15b15",
   "metadata": {},
   "source": [
    "These examples above show that all rows or columns in our dataset have at least one missing value. It is also possible to remove missing values by specifying a ``subset of variables`` using the ``subset`` parameter."
   ]
  },
  {
   "cell_type": "code",
   "execution_count": 18,
   "id": "51094dd4",
   "metadata": {},
   "outputs": [
    {
     "data": {
      "text/plain": [
       "(1310, 14)"
      ]
     },
     "execution_count": 18,
     "metadata": {},
     "output_type": "execute_result"
    }
   ],
   "source": [
    "titanic_survival.shape"
   ]
  },
  {
   "cell_type": "code",
   "execution_count": 19,
   "id": "4968b083",
   "metadata": {},
   "outputs": [
    {
     "data": {
      "text/plain": [
       "(1309, 14)"
      ]
     },
     "execution_count": 19,
     "metadata": {},
     "output_type": "execute_result"
    }
   ],
   "source": [
    "name_drop_na_rows = titanic_survival.dropna(axis=0, subset=[\"name\"])\n",
    "name_drop_na_rows.shape"
   ]
  },
  {
   "cell_type": "markdown",
   "id": "64b49e2d",
   "metadata": {},
   "source": [
    "This last example says that there is a row that has at least one missing value for the ``name`` column."
   ]
  },
  {
   "cell_type": "markdown",
   "id": "e43fd74b",
   "metadata": {},
   "source": [
    "## Iloc to access rows"
   ]
  },
  {
   "cell_type": "markdown",
   "id": "79577ee8",
   "metadata": {},
   "source": [
    "In this section we will see the ``iloc`` method for accessing rows. More advanced than the ``loc`` method, the ``iloc`` method allows to display the elements according to the position where it is located. This method also allows to do other tasks much more advanced than the ``loc`` method."
   ]
  },
  {
   "cell_type": "code",
   "execution_count": 20,
   "id": "890b0f2c",
   "metadata": {},
   "outputs": [
    {
     "data": {
      "text/html": [
       "<div>\n",
       "<style scoped>\n",
       "    .dataframe tbody tr th:only-of-type {\n",
       "        vertical-align: middle;\n",
       "    }\n",
       "\n",
       "    .dataframe tbody tr th {\n",
       "        vertical-align: top;\n",
       "    }\n",
       "\n",
       "    .dataframe thead th {\n",
       "        text-align: right;\n",
       "    }\n",
       "</style>\n",
       "<table border=\"1\" class=\"dataframe\">\n",
       "  <thead>\n",
       "    <tr style=\"text-align: right;\">\n",
       "      <th></th>\n",
       "      <th>pclass</th>\n",
       "      <th>survived</th>\n",
       "      <th>name</th>\n",
       "      <th>sex</th>\n",
       "      <th>age</th>\n",
       "      <th>sibsp</th>\n",
       "      <th>parch</th>\n",
       "      <th>ticket</th>\n",
       "      <th>fare</th>\n",
       "      <th>cabin</th>\n",
       "      <th>embarked</th>\n",
       "      <th>boat</th>\n",
       "      <th>body</th>\n",
       "      <th>home.dest</th>\n",
       "    </tr>\n",
       "  </thead>\n",
       "  <tbody>\n",
       "    <tr>\n",
       "      <th>14</th>\n",
       "      <td>1.0</td>\n",
       "      <td>1.0</td>\n",
       "      <td>Barkworth, Mr. Algernon Henry Wilson</td>\n",
       "      <td>male</td>\n",
       "      <td>80.0</td>\n",
       "      <td>0.0</td>\n",
       "      <td>0.0</td>\n",
       "      <td>27042</td>\n",
       "      <td>30.0000</td>\n",
       "      <td>A23</td>\n",
       "      <td>S</td>\n",
       "      <td>B</td>\n",
       "      <td>NaN</td>\n",
       "      <td>Hessle, Yorks</td>\n",
       "    </tr>\n",
       "    <tr>\n",
       "      <th>61</th>\n",
       "      <td>1.0</td>\n",
       "      <td>1.0</td>\n",
       "      <td>Cavendish, Mrs. Tyrell William (Julia Florence...</td>\n",
       "      <td>female</td>\n",
       "      <td>76.0</td>\n",
       "      <td>1.0</td>\n",
       "      <td>0.0</td>\n",
       "      <td>19877</td>\n",
       "      <td>78.8500</td>\n",
       "      <td>C46</td>\n",
       "      <td>S</td>\n",
       "      <td>6</td>\n",
       "      <td>NaN</td>\n",
       "      <td>Little Onn Hall, Staffs</td>\n",
       "    </tr>\n",
       "    <tr>\n",
       "      <th>1235</th>\n",
       "      <td>3.0</td>\n",
       "      <td>0.0</td>\n",
       "      <td>Svensson, Mr. Johan</td>\n",
       "      <td>male</td>\n",
       "      <td>74.0</td>\n",
       "      <td>0.0</td>\n",
       "      <td>0.0</td>\n",
       "      <td>347060</td>\n",
       "      <td>7.7750</td>\n",
       "      <td>NaN</td>\n",
       "      <td>S</td>\n",
       "      <td>NaN</td>\n",
       "      <td>NaN</td>\n",
       "      <td>NaN</td>\n",
       "    </tr>\n",
       "    <tr>\n",
       "      <th>135</th>\n",
       "      <td>1.0</td>\n",
       "      <td>0.0</td>\n",
       "      <td>Goldschmidt, Mr. George B</td>\n",
       "      <td>male</td>\n",
       "      <td>71.0</td>\n",
       "      <td>0.0</td>\n",
       "      <td>0.0</td>\n",
       "      <td>PC 17754</td>\n",
       "      <td>34.6542</td>\n",
       "      <td>A5</td>\n",
       "      <td>C</td>\n",
       "      <td>NaN</td>\n",
       "      <td>NaN</td>\n",
       "      <td>New York, NY</td>\n",
       "    </tr>\n",
       "    <tr>\n",
       "      <th>9</th>\n",
       "      <td>1.0</td>\n",
       "      <td>0.0</td>\n",
       "      <td>Artagaveytia, Mr. Ramon</td>\n",
       "      <td>male</td>\n",
       "      <td>71.0</td>\n",
       "      <td>0.0</td>\n",
       "      <td>0.0</td>\n",
       "      <td>PC 17609</td>\n",
       "      <td>49.5042</td>\n",
       "      <td>NaN</td>\n",
       "      <td>C</td>\n",
       "      <td>NaN</td>\n",
       "      <td>22.0</td>\n",
       "      <td>Montevideo, Uruguay</td>\n",
       "    </tr>\n",
       "  </tbody>\n",
       "</table>\n",
       "</div>"
      ],
      "text/plain": [
       "      pclass  survived                                               name  \\\n",
       "14       1.0       1.0               Barkworth, Mr. Algernon Henry Wilson   \n",
       "61       1.0       1.0  Cavendish, Mrs. Tyrell William (Julia Florence...   \n",
       "1235     3.0       0.0                                Svensson, Mr. Johan   \n",
       "135      1.0       0.0                          Goldschmidt, Mr. George B   \n",
       "9        1.0       0.0                            Artagaveytia, Mr. Ramon   \n",
       "\n",
       "         sex   age  sibsp  parch    ticket     fare cabin embarked boat  body  \\\n",
       "14      male  80.0    0.0    0.0     27042  30.0000   A23        S    B   NaN   \n",
       "61    female  76.0    1.0    0.0     19877  78.8500   C46        S    6   NaN   \n",
       "1235    male  74.0    0.0    0.0    347060   7.7750   NaN        S  NaN   NaN   \n",
       "135     male  71.0    0.0    0.0  PC 17754  34.6542    A5        C  NaN   NaN   \n",
       "9       male  71.0    0.0    0.0  PC 17609  49.5042   NaN        C  NaN  22.0   \n",
       "\n",
       "                    home.dest  \n",
       "14              Hessle, Yorks  \n",
       "61    Little Onn Hall, Staffs  \n",
       "1235                      NaN  \n",
       "135              New York, NY  \n",
       "9         Montevideo, Uruguay  "
      ]
     },
     "execution_count": 20,
     "metadata": {},
     "output_type": "execute_result"
    }
   ],
   "source": [
    "unordered_titanic_survival = titanic_survival.sort_values(\n",
    "    by=\"age\", ascending=False)\n",
    "unordered_titanic_survival.head()"
   ]
  },
  {
   "cell_type": "code",
   "execution_count": 21,
   "id": "c7712b49",
   "metadata": {},
   "outputs": [
    {
     "data": {
      "text/plain": [
       "pclass                                 1.0\n",
       "survived                               1.0\n",
       "name         Allen, Miss. Elisabeth Walton\n",
       "sex                                 female\n",
       "age                                   29.0\n",
       "sibsp                                  0.0\n",
       "parch                                  0.0\n",
       "ticket                               24160\n",
       "fare                              211.3375\n",
       "cabin                                   B5\n",
       "embarked                                 S\n",
       "boat                                     2\n",
       "body                                   NaN\n",
       "home.dest                     St Louis, MO\n",
       "Name: 0, dtype: object"
      ]
     },
     "execution_count": 21,
     "metadata": {},
     "output_type": "execute_result"
    }
   ],
   "source": [
    "unordered_titanic_survival.loc[0]"
   ]
  },
  {
   "cell_type": "code",
   "execution_count": 22,
   "id": "7ee38386",
   "metadata": {},
   "outputs": [
    {
     "data": {
      "text/plain": [
       "pclass                                        1.0\n",
       "survived                                      1.0\n",
       "name         Barkworth, Mr. Algernon Henry Wilson\n",
       "sex                                          male\n",
       "age                                          80.0\n",
       "sibsp                                         0.0\n",
       "parch                                         0.0\n",
       "ticket                                      27042\n",
       "fare                                         30.0\n",
       "cabin                                         A23\n",
       "embarked                                        S\n",
       "boat                                            B\n",
       "body                                          NaN\n",
       "home.dest                           Hessle, Yorks\n",
       "Name: 14, dtype: object"
      ]
     },
     "execution_count": 22,
     "metadata": {},
     "output_type": "execute_result"
    }
   ],
   "source": [
    "unordered_titanic_survival.iloc[0]"
   ]
  },
  {
   "cell_type": "code",
   "execution_count": 23,
   "id": "3b67304c",
   "metadata": {},
   "outputs": [
    {
     "data": {
      "text/html": [
       "<div>\n",
       "<style scoped>\n",
       "    .dataframe tbody tr th:only-of-type {\n",
       "        vertical-align: middle;\n",
       "    }\n",
       "\n",
       "    .dataframe tbody tr th {\n",
       "        vertical-align: top;\n",
       "    }\n",
       "\n",
       "    .dataframe thead th {\n",
       "        text-align: right;\n",
       "    }\n",
       "</style>\n",
       "<table border=\"1\" class=\"dataframe\">\n",
       "  <thead>\n",
       "    <tr style=\"text-align: right;\">\n",
       "      <th></th>\n",
       "      <th>pclass</th>\n",
       "      <th>survived</th>\n",
       "      <th>name</th>\n",
       "      <th>sex</th>\n",
       "      <th>age</th>\n",
       "      <th>sibsp</th>\n",
       "      <th>parch</th>\n",
       "      <th>ticket</th>\n",
       "      <th>fare</th>\n",
       "      <th>cabin</th>\n",
       "      <th>embarked</th>\n",
       "      <th>boat</th>\n",
       "      <th>body</th>\n",
       "      <th>home.dest</th>\n",
       "    </tr>\n",
       "  </thead>\n",
       "  <tbody>\n",
       "  </tbody>\n",
       "</table>\n",
       "</div>"
      ],
      "text/plain": [
       "Empty DataFrame\n",
       "Columns: [pclass, survived, name, sex, age, sibsp, parch, ticket, fare, cabin, embarked, boat, body, home.dest]\n",
       "Index: []"
      ]
     },
     "execution_count": 23,
     "metadata": {},
     "output_type": "execute_result"
    }
   ],
   "source": [
    "unordered_titanic_survival.loc[0:5]"
   ]
  },
  {
   "cell_type": "code",
   "execution_count": 24,
   "id": "43c2ca63",
   "metadata": {},
   "outputs": [
    {
     "data": {
      "text/html": [
       "<div>\n",
       "<style scoped>\n",
       "    .dataframe tbody tr th:only-of-type {\n",
       "        vertical-align: middle;\n",
       "    }\n",
       "\n",
       "    .dataframe tbody tr th {\n",
       "        vertical-align: top;\n",
       "    }\n",
       "\n",
       "    .dataframe thead th {\n",
       "        text-align: right;\n",
       "    }\n",
       "</style>\n",
       "<table border=\"1\" class=\"dataframe\">\n",
       "  <thead>\n",
       "    <tr style=\"text-align: right;\">\n",
       "      <th></th>\n",
       "      <th>pclass</th>\n",
       "      <th>survived</th>\n",
       "      <th>name</th>\n",
       "      <th>sex</th>\n",
       "      <th>age</th>\n",
       "      <th>sibsp</th>\n",
       "      <th>parch</th>\n",
       "      <th>ticket</th>\n",
       "      <th>fare</th>\n",
       "      <th>cabin</th>\n",
       "      <th>embarked</th>\n",
       "      <th>boat</th>\n",
       "      <th>body</th>\n",
       "      <th>home.dest</th>\n",
       "    </tr>\n",
       "  </thead>\n",
       "  <tbody>\n",
       "    <tr>\n",
       "      <th>14</th>\n",
       "      <td>1.0</td>\n",
       "      <td>1.0</td>\n",
       "      <td>Barkworth, Mr. Algernon Henry Wilson</td>\n",
       "      <td>male</td>\n",
       "      <td>80.0</td>\n",
       "      <td>0.0</td>\n",
       "      <td>0.0</td>\n",
       "      <td>27042</td>\n",
       "      <td>30.0000</td>\n",
       "      <td>A23</td>\n",
       "      <td>S</td>\n",
       "      <td>B</td>\n",
       "      <td>NaN</td>\n",
       "      <td>Hessle, Yorks</td>\n",
       "    </tr>\n",
       "    <tr>\n",
       "      <th>61</th>\n",
       "      <td>1.0</td>\n",
       "      <td>1.0</td>\n",
       "      <td>Cavendish, Mrs. Tyrell William (Julia Florence...</td>\n",
       "      <td>female</td>\n",
       "      <td>76.0</td>\n",
       "      <td>1.0</td>\n",
       "      <td>0.0</td>\n",
       "      <td>19877</td>\n",
       "      <td>78.8500</td>\n",
       "      <td>C46</td>\n",
       "      <td>S</td>\n",
       "      <td>6</td>\n",
       "      <td>NaN</td>\n",
       "      <td>Little Onn Hall, Staffs</td>\n",
       "    </tr>\n",
       "    <tr>\n",
       "      <th>1235</th>\n",
       "      <td>3.0</td>\n",
       "      <td>0.0</td>\n",
       "      <td>Svensson, Mr. Johan</td>\n",
       "      <td>male</td>\n",
       "      <td>74.0</td>\n",
       "      <td>0.0</td>\n",
       "      <td>0.0</td>\n",
       "      <td>347060</td>\n",
       "      <td>7.7750</td>\n",
       "      <td>NaN</td>\n",
       "      <td>S</td>\n",
       "      <td>NaN</td>\n",
       "      <td>NaN</td>\n",
       "      <td>NaN</td>\n",
       "    </tr>\n",
       "    <tr>\n",
       "      <th>135</th>\n",
       "      <td>1.0</td>\n",
       "      <td>0.0</td>\n",
       "      <td>Goldschmidt, Mr. George B</td>\n",
       "      <td>male</td>\n",
       "      <td>71.0</td>\n",
       "      <td>0.0</td>\n",
       "      <td>0.0</td>\n",
       "      <td>PC 17754</td>\n",
       "      <td>34.6542</td>\n",
       "      <td>A5</td>\n",
       "      <td>C</td>\n",
       "      <td>NaN</td>\n",
       "      <td>NaN</td>\n",
       "      <td>New York, NY</td>\n",
       "    </tr>\n",
       "    <tr>\n",
       "      <th>9</th>\n",
       "      <td>1.0</td>\n",
       "      <td>0.0</td>\n",
       "      <td>Artagaveytia, Mr. Ramon</td>\n",
       "      <td>male</td>\n",
       "      <td>71.0</td>\n",
       "      <td>0.0</td>\n",
       "      <td>0.0</td>\n",
       "      <td>PC 17609</td>\n",
       "      <td>49.5042</td>\n",
       "      <td>NaN</td>\n",
       "      <td>C</td>\n",
       "      <td>NaN</td>\n",
       "      <td>22.0</td>\n",
       "      <td>Montevideo, Uruguay</td>\n",
       "    </tr>\n",
       "  </tbody>\n",
       "</table>\n",
       "</div>"
      ],
      "text/plain": [
       "      pclass  survived                                               name  \\\n",
       "14       1.0       1.0               Barkworth, Mr. Algernon Henry Wilson   \n",
       "61       1.0       1.0  Cavendish, Mrs. Tyrell William (Julia Florence...   \n",
       "1235     3.0       0.0                                Svensson, Mr. Johan   \n",
       "135      1.0       0.0                          Goldschmidt, Mr. George B   \n",
       "9        1.0       0.0                            Artagaveytia, Mr. Ramon   \n",
       "\n",
       "         sex   age  sibsp  parch    ticket     fare cabin embarked boat  body  \\\n",
       "14      male  80.0    0.0    0.0     27042  30.0000   A23        S    B   NaN   \n",
       "61    female  76.0    1.0    0.0     19877  78.8500   C46        S    6   NaN   \n",
       "1235    male  74.0    0.0    0.0    347060   7.7750   NaN        S  NaN   NaN   \n",
       "135     male  71.0    0.0    0.0  PC 17754  34.6542    A5        C  NaN   NaN   \n",
       "9       male  71.0    0.0    0.0  PC 17609  49.5042   NaN        C  NaN  22.0   \n",
       "\n",
       "                    home.dest  \n",
       "14              Hessle, Yorks  \n",
       "61    Little Onn Hall, Staffs  \n",
       "1235                      NaN  \n",
       "135              New York, NY  \n",
       "9         Montevideo, Uruguay  "
      ]
     },
     "execution_count": 24,
     "metadata": {},
     "output_type": "execute_result"
    }
   ],
   "source": [
    "unordered_titanic_survival.iloc[0:5]"
   ]
  },
  {
   "cell_type": "markdown",
   "id": "da4d7b45",
   "metadata": {},
   "source": [
    "The above example clearly shows that the ``iloc`` method does not take into account the order of the elements on the dataframe but only focuses on the positions of the elements in the dataframe. So when you are slicing a dataframe, you should use the ``iloc`` method because slicing using the ``loc`` method assumes that the index of our dataframe is sorted in ascending order. And on the other hand, if you want to access elements, you should use the ``loc`` method if you are accessing by index number, otherwise you should use the ``iloc`` method if you are accessing by the position of the element in the dataframe."
   ]
  },
  {
   "cell_type": "markdown",
   "id": "dcd3758e",
   "metadata": {},
   "source": [
    "## Column indexes"
   ]
  },
  {
   "cell_type": "markdown",
   "id": "0147ceac",
   "metadata": {},
   "source": [
    "As we have seen in the previous chapters, the indexing of columns is done with the ``loc`` and ``iloc`` methods. With the ``loc`` method, we use the name of the column, and for the ``iloc`` method, we use an integer that corresponds to the positions of the column in the dataframe."
   ]
  },
  {
   "cell_type": "code",
   "execution_count": 25,
   "id": "dec1ca3a",
   "metadata": {},
   "outputs": [
    {
     "data": {
      "text/html": [
       "<div>\n",
       "<style scoped>\n",
       "    .dataframe tbody tr th:only-of-type {\n",
       "        vertical-align: middle;\n",
       "    }\n",
       "\n",
       "    .dataframe tbody tr th {\n",
       "        vertical-align: top;\n",
       "    }\n",
       "\n",
       "    .dataframe thead th {\n",
       "        text-align: right;\n",
       "    }\n",
       "</style>\n",
       "<table border=\"1\" class=\"dataframe\">\n",
       "  <thead>\n",
       "    <tr style=\"text-align: right;\">\n",
       "      <th></th>\n",
       "      <th>pclass</th>\n",
       "      <th>survived</th>\n",
       "      <th>name</th>\n",
       "      <th>sex</th>\n",
       "      <th>age</th>\n",
       "      <th>sibsp</th>\n",
       "      <th>parch</th>\n",
       "      <th>ticket</th>\n",
       "      <th>fare</th>\n",
       "      <th>cabin</th>\n",
       "      <th>embarked</th>\n",
       "      <th>boat</th>\n",
       "      <th>body</th>\n",
       "      <th>home.dest</th>\n",
       "    </tr>\n",
       "  </thead>\n",
       "  <tbody>\n",
       "    <tr>\n",
       "      <th>14</th>\n",
       "      <td>1.0</td>\n",
       "      <td>1.0</td>\n",
       "      <td>Barkworth, Mr. Algernon Henry Wilson</td>\n",
       "      <td>male</td>\n",
       "      <td>80.0</td>\n",
       "      <td>0.0</td>\n",
       "      <td>0.0</td>\n",
       "      <td>27042</td>\n",
       "      <td>30.0000</td>\n",
       "      <td>A23</td>\n",
       "      <td>S</td>\n",
       "      <td>B</td>\n",
       "      <td>NaN</td>\n",
       "      <td>Hessle, Yorks</td>\n",
       "    </tr>\n",
       "    <tr>\n",
       "      <th>61</th>\n",
       "      <td>1.0</td>\n",
       "      <td>1.0</td>\n",
       "      <td>Cavendish, Mrs. Tyrell William (Julia Florence...</td>\n",
       "      <td>female</td>\n",
       "      <td>76.0</td>\n",
       "      <td>1.0</td>\n",
       "      <td>0.0</td>\n",
       "      <td>19877</td>\n",
       "      <td>78.8500</td>\n",
       "      <td>C46</td>\n",
       "      <td>S</td>\n",
       "      <td>6</td>\n",
       "      <td>NaN</td>\n",
       "      <td>Little Onn Hall, Staffs</td>\n",
       "    </tr>\n",
       "    <tr>\n",
       "      <th>1235</th>\n",
       "      <td>3.0</td>\n",
       "      <td>0.0</td>\n",
       "      <td>Svensson, Mr. Johan</td>\n",
       "      <td>male</td>\n",
       "      <td>74.0</td>\n",
       "      <td>0.0</td>\n",
       "      <td>0.0</td>\n",
       "      <td>347060</td>\n",
       "      <td>7.7750</td>\n",
       "      <td>NaN</td>\n",
       "      <td>S</td>\n",
       "      <td>NaN</td>\n",
       "      <td>NaN</td>\n",
       "      <td>NaN</td>\n",
       "    </tr>\n",
       "    <tr>\n",
       "      <th>135</th>\n",
       "      <td>1.0</td>\n",
       "      <td>0.0</td>\n",
       "      <td>Goldschmidt, Mr. George B</td>\n",
       "      <td>male</td>\n",
       "      <td>71.0</td>\n",
       "      <td>0.0</td>\n",
       "      <td>0.0</td>\n",
       "      <td>PC 17754</td>\n",
       "      <td>34.6542</td>\n",
       "      <td>A5</td>\n",
       "      <td>C</td>\n",
       "      <td>NaN</td>\n",
       "      <td>NaN</td>\n",
       "      <td>New York, NY</td>\n",
       "    </tr>\n",
       "    <tr>\n",
       "      <th>9</th>\n",
       "      <td>1.0</td>\n",
       "      <td>0.0</td>\n",
       "      <td>Artagaveytia, Mr. Ramon</td>\n",
       "      <td>male</td>\n",
       "      <td>71.0</td>\n",
       "      <td>0.0</td>\n",
       "      <td>0.0</td>\n",
       "      <td>PC 17609</td>\n",
       "      <td>49.5042</td>\n",
       "      <td>NaN</td>\n",
       "      <td>C</td>\n",
       "      <td>NaN</td>\n",
       "      <td>22.0</td>\n",
       "      <td>Montevideo, Uruguay</td>\n",
       "    </tr>\n",
       "  </tbody>\n",
       "</table>\n",
       "</div>"
      ],
      "text/plain": [
       "      pclass  survived                                               name  \\\n",
       "14       1.0       1.0               Barkworth, Mr. Algernon Henry Wilson   \n",
       "61       1.0       1.0  Cavendish, Mrs. Tyrell William (Julia Florence...   \n",
       "1235     3.0       0.0                                Svensson, Mr. Johan   \n",
       "135      1.0       0.0                          Goldschmidt, Mr. George B   \n",
       "9        1.0       0.0                            Artagaveytia, Mr. Ramon   \n",
       "\n",
       "         sex   age  sibsp  parch    ticket     fare cabin embarked boat  body  \\\n",
       "14      male  80.0    0.0    0.0     27042  30.0000   A23        S    B   NaN   \n",
       "61    female  76.0    1.0    0.0     19877  78.8500   C46        S    6   NaN   \n",
       "1235    male  74.0    0.0    0.0    347060   7.7750   NaN        S  NaN   NaN   \n",
       "135     male  71.0    0.0    0.0  PC 17754  34.6542    A5        C  NaN   NaN   \n",
       "9       male  71.0    0.0    0.0  PC 17609  49.5042   NaN        C  NaN  22.0   \n",
       "\n",
       "                    home.dest  \n",
       "14              Hessle, Yorks  \n",
       "61    Little Onn Hall, Staffs  \n",
       "1235                      NaN  \n",
       "135              New York, NY  \n",
       "9         Montevideo, Uruguay  "
      ]
     },
     "execution_count": 25,
     "metadata": {},
     "output_type": "execute_result"
    }
   ],
   "source": [
    "# example\n",
    "unordered_titanic_survival.head()"
   ]
  },
  {
   "cell_type": "code",
   "execution_count": 26,
   "id": "18196ae8",
   "metadata": {},
   "outputs": [
    {
     "data": {
      "text/plain": [
       "'Barkworth, Mr. Algernon Henry Wilson'"
      ]
     },
     "execution_count": 26,
     "metadata": {},
     "output_type": "execute_result"
    }
   ],
   "source": [
    "unordered_titanic_survival.iloc[0, 2]"
   ]
  },
  {
   "cell_type": "code",
   "execution_count": 27,
   "id": "339e7f07",
   "metadata": {},
   "outputs": [
    {
     "data": {
      "text/plain": [
       "'Barkworth, Mr. Algernon Henry Wilson'"
      ]
     },
     "execution_count": 27,
     "metadata": {},
     "output_type": "execute_result"
    }
   ],
   "source": [
    "unordered_titanic_survival.loc[14, \"name\"]"
   ]
  },
  {
   "cell_type": "markdown",
   "id": "979a1aa6",
   "metadata": {},
   "source": [
    "## Re-index rows in a dataframe"
   ]
  },
  {
   "cell_type": "markdown",
   "id": "1b3dcbcc",
   "metadata": {},
   "source": [
    "In this section, we will see how to re-index the rows of a dataframe. We have seen that sorting changes the order of a dataframe but keeps the indexes of each row. However, it can sometimes be useful to re-index a dataframe by starting the indexes at 0. To do this, we use the ``reset_index()`` method of pandas. "
   ]
  },
  {
   "cell_type": "code",
   "execution_count": 28,
   "id": "6765f26a",
   "metadata": {},
   "outputs": [
    {
     "data": {
      "text/html": [
       "<div>\n",
       "<style scoped>\n",
       "    .dataframe tbody tr th:only-of-type {\n",
       "        vertical-align: middle;\n",
       "    }\n",
       "\n",
       "    .dataframe tbody tr th {\n",
       "        vertical-align: top;\n",
       "    }\n",
       "\n",
       "    .dataframe thead th {\n",
       "        text-align: right;\n",
       "    }\n",
       "</style>\n",
       "<table border=\"1\" class=\"dataframe\">\n",
       "  <thead>\n",
       "    <tr style=\"text-align: right;\">\n",
       "      <th></th>\n",
       "      <th>index</th>\n",
       "      <th>pclass</th>\n",
       "      <th>survived</th>\n",
       "      <th>name</th>\n",
       "      <th>sex</th>\n",
       "      <th>age</th>\n",
       "      <th>sibsp</th>\n",
       "      <th>parch</th>\n",
       "      <th>ticket</th>\n",
       "      <th>fare</th>\n",
       "      <th>cabin</th>\n",
       "      <th>embarked</th>\n",
       "      <th>boat</th>\n",
       "      <th>body</th>\n",
       "      <th>home.dest</th>\n",
       "    </tr>\n",
       "  </thead>\n",
       "  <tbody>\n",
       "    <tr>\n",
       "      <th>0</th>\n",
       "      <td>14</td>\n",
       "      <td>1.0</td>\n",
       "      <td>1.0</td>\n",
       "      <td>Barkworth, Mr. Algernon Henry Wilson</td>\n",
       "      <td>male</td>\n",
       "      <td>80.0</td>\n",
       "      <td>0.0</td>\n",
       "      <td>0.0</td>\n",
       "      <td>27042</td>\n",
       "      <td>30.0000</td>\n",
       "      <td>A23</td>\n",
       "      <td>S</td>\n",
       "      <td>B</td>\n",
       "      <td>NaN</td>\n",
       "      <td>Hessle, Yorks</td>\n",
       "    </tr>\n",
       "    <tr>\n",
       "      <th>1</th>\n",
       "      <td>61</td>\n",
       "      <td>1.0</td>\n",
       "      <td>1.0</td>\n",
       "      <td>Cavendish, Mrs. Tyrell William (Julia Florence...</td>\n",
       "      <td>female</td>\n",
       "      <td>76.0</td>\n",
       "      <td>1.0</td>\n",
       "      <td>0.0</td>\n",
       "      <td>19877</td>\n",
       "      <td>78.8500</td>\n",
       "      <td>C46</td>\n",
       "      <td>S</td>\n",
       "      <td>6</td>\n",
       "      <td>NaN</td>\n",
       "      <td>Little Onn Hall, Staffs</td>\n",
       "    </tr>\n",
       "    <tr>\n",
       "      <th>2</th>\n",
       "      <td>1235</td>\n",
       "      <td>3.0</td>\n",
       "      <td>0.0</td>\n",
       "      <td>Svensson, Mr. Johan</td>\n",
       "      <td>male</td>\n",
       "      <td>74.0</td>\n",
       "      <td>0.0</td>\n",
       "      <td>0.0</td>\n",
       "      <td>347060</td>\n",
       "      <td>7.7750</td>\n",
       "      <td>NaN</td>\n",
       "      <td>S</td>\n",
       "      <td>NaN</td>\n",
       "      <td>NaN</td>\n",
       "      <td>NaN</td>\n",
       "    </tr>\n",
       "    <tr>\n",
       "      <th>3</th>\n",
       "      <td>135</td>\n",
       "      <td>1.0</td>\n",
       "      <td>0.0</td>\n",
       "      <td>Goldschmidt, Mr. George B</td>\n",
       "      <td>male</td>\n",
       "      <td>71.0</td>\n",
       "      <td>0.0</td>\n",
       "      <td>0.0</td>\n",
       "      <td>PC 17754</td>\n",
       "      <td>34.6542</td>\n",
       "      <td>A5</td>\n",
       "      <td>C</td>\n",
       "      <td>NaN</td>\n",
       "      <td>NaN</td>\n",
       "      <td>New York, NY</td>\n",
       "    </tr>\n",
       "    <tr>\n",
       "      <th>4</th>\n",
       "      <td>9</td>\n",
       "      <td>1.0</td>\n",
       "      <td>0.0</td>\n",
       "      <td>Artagaveytia, Mr. Ramon</td>\n",
       "      <td>male</td>\n",
       "      <td>71.0</td>\n",
       "      <td>0.0</td>\n",
       "      <td>0.0</td>\n",
       "      <td>PC 17609</td>\n",
       "      <td>49.5042</td>\n",
       "      <td>NaN</td>\n",
       "      <td>C</td>\n",
       "      <td>NaN</td>\n",
       "      <td>22.0</td>\n",
       "      <td>Montevideo, Uruguay</td>\n",
       "    </tr>\n",
       "  </tbody>\n",
       "</table>\n",
       "</div>"
      ],
      "text/plain": [
       "   index  pclass  survived                                               name  \\\n",
       "0     14     1.0       1.0               Barkworth, Mr. Algernon Henry Wilson   \n",
       "1     61     1.0       1.0  Cavendish, Mrs. Tyrell William (Julia Florence...   \n",
       "2   1235     3.0       0.0                                Svensson, Mr. Johan   \n",
       "3    135     1.0       0.0                          Goldschmidt, Mr. George B   \n",
       "4      9     1.0       0.0                            Artagaveytia, Mr. Ramon   \n",
       "\n",
       "      sex   age  sibsp  parch    ticket     fare cabin embarked boat  body  \\\n",
       "0    male  80.0    0.0    0.0     27042  30.0000   A23        S    B   NaN   \n",
       "1  female  76.0    1.0    0.0     19877  78.8500   C46        S    6   NaN   \n",
       "2    male  74.0    0.0    0.0    347060   7.7750   NaN        S  NaN   NaN   \n",
       "3    male  71.0    0.0    0.0  PC 17754  34.6542    A5        C  NaN   NaN   \n",
       "4    male  71.0    0.0    0.0  PC 17609  49.5042   NaN        C  NaN  22.0   \n",
       "\n",
       "                 home.dest  \n",
       "0            Hessle, Yorks  \n",
       "1  Little Onn Hall, Staffs  \n",
       "2                      NaN  \n",
       "3             New York, NY  \n",
       "4      Montevideo, Uruguay  "
      ]
     },
     "execution_count": 28,
     "metadata": {},
     "output_type": "execute_result"
    }
   ],
   "source": [
    "# example\n",
    "unordered_titanic_survival.reset_index().head()"
   ]
  },
  {
   "cell_type": "markdown",
   "id": "9fd02a19",
   "metadata": {},
   "source": [
    "In the example above, we know that our dataframe re-indexed has kept the old index, to remove it, we can use the ``drop`` parameter which will take the value ``True``."
   ]
  },
  {
   "cell_type": "code",
   "execution_count": 29,
   "id": "edd89699",
   "metadata": {},
   "outputs": [
    {
     "data": {
      "text/html": [
       "<div>\n",
       "<style scoped>\n",
       "    .dataframe tbody tr th:only-of-type {\n",
       "        vertical-align: middle;\n",
       "    }\n",
       "\n",
       "    .dataframe tbody tr th {\n",
       "        vertical-align: top;\n",
       "    }\n",
       "\n",
       "    .dataframe thead th {\n",
       "        text-align: right;\n",
       "    }\n",
       "</style>\n",
       "<table border=\"1\" class=\"dataframe\">\n",
       "  <thead>\n",
       "    <tr style=\"text-align: right;\">\n",
       "      <th></th>\n",
       "      <th>pclass</th>\n",
       "      <th>survived</th>\n",
       "      <th>name</th>\n",
       "      <th>sex</th>\n",
       "      <th>age</th>\n",
       "      <th>sibsp</th>\n",
       "      <th>parch</th>\n",
       "      <th>ticket</th>\n",
       "      <th>fare</th>\n",
       "      <th>cabin</th>\n",
       "      <th>embarked</th>\n",
       "      <th>boat</th>\n",
       "      <th>body</th>\n",
       "      <th>home.dest</th>\n",
       "    </tr>\n",
       "  </thead>\n",
       "  <tbody>\n",
       "    <tr>\n",
       "      <th>0</th>\n",
       "      <td>1.0</td>\n",
       "      <td>1.0</td>\n",
       "      <td>Barkworth, Mr. Algernon Henry Wilson</td>\n",
       "      <td>male</td>\n",
       "      <td>80.0</td>\n",
       "      <td>0.0</td>\n",
       "      <td>0.0</td>\n",
       "      <td>27042</td>\n",
       "      <td>30.0000</td>\n",
       "      <td>A23</td>\n",
       "      <td>S</td>\n",
       "      <td>B</td>\n",
       "      <td>NaN</td>\n",
       "      <td>Hessle, Yorks</td>\n",
       "    </tr>\n",
       "    <tr>\n",
       "      <th>1</th>\n",
       "      <td>1.0</td>\n",
       "      <td>1.0</td>\n",
       "      <td>Cavendish, Mrs. Tyrell William (Julia Florence...</td>\n",
       "      <td>female</td>\n",
       "      <td>76.0</td>\n",
       "      <td>1.0</td>\n",
       "      <td>0.0</td>\n",
       "      <td>19877</td>\n",
       "      <td>78.8500</td>\n",
       "      <td>C46</td>\n",
       "      <td>S</td>\n",
       "      <td>6</td>\n",
       "      <td>NaN</td>\n",
       "      <td>Little Onn Hall, Staffs</td>\n",
       "    </tr>\n",
       "    <tr>\n",
       "      <th>2</th>\n",
       "      <td>3.0</td>\n",
       "      <td>0.0</td>\n",
       "      <td>Svensson, Mr. Johan</td>\n",
       "      <td>male</td>\n",
       "      <td>74.0</td>\n",
       "      <td>0.0</td>\n",
       "      <td>0.0</td>\n",
       "      <td>347060</td>\n",
       "      <td>7.7750</td>\n",
       "      <td>NaN</td>\n",
       "      <td>S</td>\n",
       "      <td>NaN</td>\n",
       "      <td>NaN</td>\n",
       "      <td>NaN</td>\n",
       "    </tr>\n",
       "    <tr>\n",
       "      <th>3</th>\n",
       "      <td>1.0</td>\n",
       "      <td>0.0</td>\n",
       "      <td>Goldschmidt, Mr. George B</td>\n",
       "      <td>male</td>\n",
       "      <td>71.0</td>\n",
       "      <td>0.0</td>\n",
       "      <td>0.0</td>\n",
       "      <td>PC 17754</td>\n",
       "      <td>34.6542</td>\n",
       "      <td>A5</td>\n",
       "      <td>C</td>\n",
       "      <td>NaN</td>\n",
       "      <td>NaN</td>\n",
       "      <td>New York, NY</td>\n",
       "    </tr>\n",
       "    <tr>\n",
       "      <th>4</th>\n",
       "      <td>1.0</td>\n",
       "      <td>0.0</td>\n",
       "      <td>Artagaveytia, Mr. Ramon</td>\n",
       "      <td>male</td>\n",
       "      <td>71.0</td>\n",
       "      <td>0.0</td>\n",
       "      <td>0.0</td>\n",
       "      <td>PC 17609</td>\n",
       "      <td>49.5042</td>\n",
       "      <td>NaN</td>\n",
       "      <td>C</td>\n",
       "      <td>NaN</td>\n",
       "      <td>22.0</td>\n",
       "      <td>Montevideo, Uruguay</td>\n",
       "    </tr>\n",
       "  </tbody>\n",
       "</table>\n",
       "</div>"
      ],
      "text/plain": [
       "   pclass  survived                                               name  \\\n",
       "0     1.0       1.0               Barkworth, Mr. Algernon Henry Wilson   \n",
       "1     1.0       1.0  Cavendish, Mrs. Tyrell William (Julia Florence...   \n",
       "2     3.0       0.0                                Svensson, Mr. Johan   \n",
       "3     1.0       0.0                          Goldschmidt, Mr. George B   \n",
       "4     1.0       0.0                            Artagaveytia, Mr. Ramon   \n",
       "\n",
       "      sex   age  sibsp  parch    ticket     fare cabin embarked boat  body  \\\n",
       "0    male  80.0    0.0    0.0     27042  30.0000   A23        S    B   NaN   \n",
       "1  female  76.0    1.0    0.0     19877  78.8500   C46        S    6   NaN   \n",
       "2    male  74.0    0.0    0.0    347060   7.7750   NaN        S  NaN   NaN   \n",
       "3    male  71.0    0.0    0.0  PC 17754  34.6542    A5        C  NaN   NaN   \n",
       "4    male  71.0    0.0    0.0  PC 17609  49.5042   NaN        C  NaN  22.0   \n",
       "\n",
       "                 home.dest  \n",
       "0            Hessle, Yorks  \n",
       "1  Little Onn Hall, Staffs  \n",
       "2                      NaN  \n",
       "3             New York, NY  \n",
       "4      Montevideo, Uruguay  "
      ]
     },
     "execution_count": 29,
     "metadata": {},
     "output_type": "execute_result"
    }
   ],
   "source": [
    "unordered_titanic_survival.reset_index(drop=True).head()"
   ]
  },
  {
   "cell_type": "markdown",
   "id": "30efaf21",
   "metadata": {},
   "source": [
    "## Apply functions to a dataframe"
   ]
  },
  {
   "cell_type": "markdown",
   "id": "2d565be4",
   "metadata": {},
   "source": [
    "In this section, we will see how to apply functions on a dataframe. To do so, we will learn the ``apply()`` method. By default, this method applies a function on each column or row of the dataframe."
   ]
  },
  {
   "cell_type": "code",
   "execution_count": 30,
   "id": "7204f44c",
   "metadata": {},
   "outputs": [
    {
     "data": {
      "text/plain": [
       "0       211.3375\n",
       "1       151.5500\n",
       "2       151.5500\n",
       "3       151.5500\n",
       "4       151.5500\n",
       "          ...   \n",
       "1305     14.4542\n",
       "1306      7.2250\n",
       "1307      7.2250\n",
       "1308      7.8750\n",
       "1309         NaN\n",
       "Name: fare, Length: 1310, dtype: float64"
      ]
     },
     "execution_count": 30,
     "metadata": {},
     "output_type": "execute_result"
    }
   ],
   "source": [
    "# example 1\n",
    "fare = titanic_survival[\"fare\"]\n",
    "fare"
   ]
  },
  {
   "cell_type": "code",
   "execution_count": 31,
   "id": "5ca4e84e",
   "metadata": {},
   "outputs": [
    {
     "data": {
      "text/plain": [
       "0       44663.538906\n",
       "1       22967.402500\n",
       "2       22967.402500\n",
       "3       22967.402500\n",
       "4       22967.402500\n",
       "            ...     \n",
       "1305      208.923898\n",
       "1306       52.200625\n",
       "1307       52.200625\n",
       "1308       62.015625\n",
       "1309             NaN\n",
       "Name: fare, Length: 1310, dtype: float64"
      ]
     },
     "execution_count": 31,
     "metadata": {},
     "output_type": "execute_result"
    }
   ],
   "source": [
    "squared_fare = fare.apply(lambda x: x**2)\n",
    "squared_fare"
   ]
  },
  {
   "cell_type": "markdown",
   "id": "6c3c8b9e",
   "metadata": {},
   "source": [
    "By changing the ``axis (0 by default)`` parameter of the ``apply()`` method, we can also apply a function on the rows of the datadrame by setting the parameter to ``1``."
   ]
  },
  {
   "cell_type": "code",
   "execution_count": 32,
   "id": "c8d2cb70",
   "metadata": {},
   "outputs": [],
   "source": [
    "# example 2\n",
    "def is_minor(row):\n",
    "    if row[\"age\"] < 18:\n",
    "        return True\n",
    "    else:\n",
    "        return False"
   ]
  },
  {
   "cell_type": "code",
   "execution_count": 33,
   "id": "2cb6962a",
   "metadata": {},
   "outputs": [
    {
     "data": {
      "text/plain": [
       "0       False\n",
       "1        True\n",
       "2        True\n",
       "3       False\n",
       "4       False\n",
       "        ...  \n",
       "1305    False\n",
       "1306    False\n",
       "1307    False\n",
       "1308    False\n",
       "1309    False\n",
       "Length: 1310, dtype: bool"
      ]
     },
     "execution_count": 33,
     "metadata": {},
     "output_type": "execute_result"
    }
   ],
   "source": [
    "minors = titanic_survival.apply(is_minor, axis=1)\n",
    "minors"
   ]
  },
  {
   "cell_type": "code",
   "execution_count": 34,
   "id": "06859531",
   "metadata": {},
   "outputs": [],
   "source": [
    "# example 3\n",
    "def which_class(row):\n",
    "\n",
    "    pclass = row[\"pclass\"]\n",
    "\n",
    "    if pd.isnull(pclass):\n",
    "        return \"Unknown\"\n",
    "    elif pclass == 1:\n",
    "        return \"First Class\"\n",
    "    elif pclass == 2:\n",
    "        return \"Second Class\"\n",
    "    else:\n",
    "        return \"Third Class\""
   ]
  },
  {
   "cell_type": "code",
   "execution_count": 35,
   "id": "34a13537",
   "metadata": {},
   "outputs": [
    {
     "data": {
      "text/plain": [
       "0       First Class\n",
       "1       First Class\n",
       "2       First Class\n",
       "3       First Class\n",
       "4       First Class\n",
       "           ...     \n",
       "1305    Third Class\n",
       "1306    Third Class\n",
       "1307    Third Class\n",
       "1308    Third Class\n",
       "1309        Unknown\n",
       "Length: 1310, dtype: object"
      ]
     },
     "execution_count": 35,
     "metadata": {},
     "output_type": "execute_result"
    }
   ],
   "source": [
    "classes = titanic_survival.apply(which_class, axis=1)\n",
    "classes"
   ]
  },
  {
   "cell_type": "markdown",
   "id": "bd3a51c1",
   "metadata": {},
   "source": [
    "### Training"
   ]
  },
  {
   "cell_type": "markdown",
   "id": "9cc8b62b",
   "metadata": {},
   "source": [
    "In this practice, we will try to answer the following questions:\n",
    "\n",
    "* write a function that counts the number of missing values of a series object\n",
    "* use the DataFrame.apply() method to apply your function to titanic_survival\n",
    "* assign the result to the column_null_value_count variable\n",
    "* display the result"
   ]
  },
  {
   "cell_type": "code",
   "execution_count": 36,
   "id": "ab88e794",
   "metadata": {},
   "outputs": [],
   "source": [
    "def null_value_count(column):\n",
    "    null = column[pd.isnull(column)]\n",
    "    null_value = len(null)\n",
    "    return null_value"
   ]
  },
  {
   "cell_type": "code",
   "execution_count": 37,
   "id": "13875176",
   "metadata": {},
   "outputs": [
    {
     "data": {
      "text/plain": [
       "pclass          1\n",
       "survived        1\n",
       "name            1\n",
       "sex             1\n",
       "age           264\n",
       "sibsp           1\n",
       "parch           1\n",
       "ticket          1\n",
       "fare            2\n",
       "cabin        1015\n",
       "embarked        3\n",
       "boat          824\n",
       "body         1189\n",
       "home.dest     565\n",
       "dtype: int64"
      ]
     },
     "execution_count": 37,
     "metadata": {},
     "output_type": "execute_result"
    }
   ],
   "source": [
    "column_null_value_count = titanic_survival.apply(null_value_count)\n",
    "column_null_value_count"
   ]
  },
  {
   "cell_type": "markdown",
   "id": "111442fd",
   "metadata": {},
   "source": [
    "All of the above code could be simplified to a single line of code by using the methods already predefined on pandas namely ``isnull()`` and ``sum()`` which determine respectively the rows with null values and the sum of these null values as shown in the following code."
   ]
  },
  {
   "cell_type": "code",
   "execution_count": 38,
   "id": "779520d1",
   "metadata": {},
   "outputs": [
    {
     "data": {
      "text/plain": [
       "pclass          1\n",
       "survived        1\n",
       "name            1\n",
       "sex             1\n",
       "age           264\n",
       "sibsp           1\n",
       "parch           1\n",
       "ticket          1\n",
       "fare            2\n",
       "cabin        1015\n",
       "embarked        3\n",
       "boat          824\n",
       "body         1189\n",
       "home.dest     565\n",
       "dtype: int64"
      ]
     },
     "execution_count": 38,
     "metadata": {},
     "output_type": "execute_result"
    }
   ],
   "source": [
    "titanic_survival.isnull().sum()"
   ]
  },
  {
   "cell_type": "markdown",
   "id": "a8dea88f",
   "metadata": {},
   "source": [
    "## Practice: compute the percentage of survival by classe group"
   ]
  },
  {
   "cell_type": "markdown",
   "id": "887f7777",
   "metadata": {},
   "source": [
    "In this practical case, we will apply a pivot table to compute the percentage of survival by classe group. So, we will try to answer the following questions:\n",
    "\n",
    "* add the column \"classe_labels\" to the dataframe titanic_survival containing the variable classes that we created in the previous example 3\n",
    "* create a pivot table that calculates the average chance of survival (column \"survived\") for each class (column \"classes\") of the dataframe titanic_survival\n",
    "* assign the resulting series object to the classe_group_survival variable\n",
    "* display the result"
   ]
  },
  {
   "cell_type": "code",
   "execution_count": 39,
   "id": "8b593fe9",
   "metadata": {},
   "outputs": [
    {
     "data": {
      "text/html": [
       "<div>\n",
       "<style scoped>\n",
       "    .dataframe tbody tr th:only-of-type {\n",
       "        vertical-align: middle;\n",
       "    }\n",
       "\n",
       "    .dataframe tbody tr th {\n",
       "        vertical-align: top;\n",
       "    }\n",
       "\n",
       "    .dataframe thead th {\n",
       "        text-align: right;\n",
       "    }\n",
       "</style>\n",
       "<table border=\"1\" class=\"dataframe\">\n",
       "  <thead>\n",
       "    <tr style=\"text-align: right;\">\n",
       "      <th></th>\n",
       "      <th>survived</th>\n",
       "    </tr>\n",
       "    <tr>\n",
       "      <th>classe_labels</th>\n",
       "      <th></th>\n",
       "    </tr>\n",
       "  </thead>\n",
       "  <tbody>\n",
       "    <tr>\n",
       "      <th>First Class</th>\n",
       "      <td>0.619195</td>\n",
       "    </tr>\n",
       "    <tr>\n",
       "      <th>Second Class</th>\n",
       "      <td>0.429603</td>\n",
       "    </tr>\n",
       "    <tr>\n",
       "      <th>Third Class</th>\n",
       "      <td>0.255289</td>\n",
       "    </tr>\n",
       "  </tbody>\n",
       "</table>\n",
       "</div>"
      ],
      "text/plain": [
       "               survived\n",
       "classe_labels          \n",
       "First Class    0.619195\n",
       "Second Class   0.429603\n",
       "Third Class    0.255289"
      ]
     },
     "execution_count": 39,
     "metadata": {},
     "output_type": "execute_result"
    }
   ],
   "source": [
    "titanic_survival[\"classe_labels\"] = classes\n",
    "classe_group_survival = titanic_survival.pivot_table(\n",
    "    index=\"classe_labels\", values=\"survived\")\n",
    "classe_group_survival"
   ]
  }
 ],
 "metadata": {
  "kernelspec": {
   "display_name": "Python 3 (ipykernel)",
   "language": "python",
   "name": "python3"
  },
  "language_info": {
   "codemirror_mode": {
    "name": "ipython",
    "version": 3
   },
   "file_extension": ".py",
   "mimetype": "text/x-python",
   "name": "python",
   "nbconvert_exporter": "python",
   "pygments_lexer": "ipython3",
   "version": "3.9.7"
  },
  "latex_envs": {
   "LaTeX_envs_menu_present": true,
   "autoclose": false,
   "autocomplete": true,
   "bibliofile": "biblio.bib",
   "cite_by": "apalike",
   "current_citInitial": 1,
   "eqLabelWithNumbers": true,
   "eqNumInitial": 1,
   "hotkeys": {
    "equation": "Ctrl-E",
    "itemize": "Ctrl-I"
   },
   "labels_anchors": false,
   "latex_user_defs": false,
   "report_style_numbering": false,
   "user_envs_cfg": false
  },
  "nbTranslate": {
   "displayLangs": [
    "*"
   ],
   "hotkey": "alt-t",
   "langInMainMenu": true,
   "sourceLang": "en",
   "targetLang": "fr",
   "useGoogleTranslate": true
  },
  "toc": {
   "base_numbering": 1,
   "nav_menu": {},
   "number_sections": true,
   "sideBar": true,
   "skip_h1_title": true,
   "title_cell": "Table of Contents",
   "title_sidebar": "Contents",
   "toc_cell": true,
   "toc_position": {
    "height": "calc(100% - 180px)",
    "left": "10px",
    "top": "150px",
    "width": "277.891px"
   },
   "toc_section_display": true,
   "toc_window_display": true
  }
 },
 "nbformat": 4,
 "nbformat_minor": 5
}
